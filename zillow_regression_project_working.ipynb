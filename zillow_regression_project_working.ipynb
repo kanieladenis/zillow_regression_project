{
 "cells": [
  {
   "cell_type": "markdown",
   "id": "0c03120d",
   "metadata": {},
   "source": [
    "# Zillow Regression Project - Working"
   ]
  },
  {
   "cell_type": "markdown",
   "id": "9adf48be",
   "metadata": {},
   "source": [
    "## <font color = 'red'>Planning"
   ]
  },
  {
   "cell_type": "markdown",
   "id": "02ccaade",
   "metadata": {},
   "source": [
    "### Project Goals\n",
    "\n",
    "- A model that predicts values of single unit properties (single family homes) from property data of transactions during \"hot months\" May-August 2017.\n",
    "\n",
    "\n",
    "### Project Description\n",
    "\n",
    "Deliver:\n",
    "1. Regression Model\n",
    "2. Final Notebook\n",
    "3. Working Notebook:\n",
    "    - Reproducible comments\n",
    "    - Exploration with at least two stats test during exploarin\n",
    "\n",
    "### Initial Questions\n",
    "\n",
    "- What are the transactions in May-August 2017?\n",
    "- What states and counties are the properties located in?\n",
    "- What is the tax rate per county or fips? (might have to combine columns to calcualate)\n",
    "- What is the distribution of tax rates for each county?\n",
    "- What is the distribution of taxes across fips?\n",
    "- What are the drivers of single unit property values?"
   ]
  },
  {
   "cell_type": "markdown",
   "id": "9606164b",
   "metadata": {},
   "source": [
    "## <font color = 'red'> Acquisition (Get and Clean Data)"
   ]
  },
  {
   "cell_type": "markdown",
   "id": "16ba7abd",
   "metadata": {},
   "source": [
    "### <font color = 'red'>Get Data"
   ]
  },
  {
   "cell_type": "markdown",
   "id": "0b779f63",
   "metadata": {},
   "source": [
    "- Added env.py to the repo .gitignore file so env.py won't be pushed to github\n",
    "- Created an env file that contains my username, password, and host address fo the MySQL Server."
   ]
  },
  {
   "cell_type": "code",
   "execution_count": 1,
   "id": "adf42036",
   "metadata": {},
   "outputs": [],
   "source": [
    "# import pandas and numpy to start coding\n",
    "import pandas as pd\n",
    "import numpy as np\n",
    "import matplotlib.pyplot as plt\n",
    "import seaborn as sns\n",
    "import scipy.stats as stats\n",
    "from sklearn.model_selection import train_test_split"
   ]
  },
  {
   "cell_type": "code",
   "execution_count": null,
   "id": "349acee9",
   "metadata": {},
   "outputs": [],
   "source": [
    "# import env file for hostname, username, password, and db_name\n",
    "from env import host, user, password, db_name"
   ]
  },
  {
   "cell_type": "code",
   "execution_count": null,
   "id": "3708fdfa",
   "metadata": {},
   "outputs": [],
   "source": [
    "# Pass env file authentication to container 'url'\n",
    "url = f'mysql+pymysql://{user}:{password}@{host}/{db_name}'"
   ]
  },
  {
   "cell_type": "code",
   "execution_count": null,
   "id": "6b3aa512",
   "metadata": {},
   "outputs": [],
   "source": [
    "# define sql search for all records from all tables\n",
    "sql = '''\n",
    "    SELECT * FROM customers c\n",
    "    JOIN contract_types ct ON ct.contract_type_id=c.contract_type_id\n",
    "    JOIN internet_service_types ist ON ist.internet_service_type_id=c.internet_service_type_id\n",
    "    JOIN payment_types pt ON pt.payment_type_id=c.payment_type_id\n",
    "    '''"
   ]
  },
  {
   "cell_type": "code",
   "execution_count": null,
   "id": "cccf80af",
   "metadata": {},
   "outputs": [],
   "source": [
    "# pull sql records using url and sql containers\n",
    "df = pd.read_sql(sql,url)\n",
    "df.head()"
   ]
  },
  {
   "cell_type": "code",
   "execution_count": null,
   "id": "f3bfb058",
   "metadata": {},
   "outputs": [],
   "source": [
    "# create function 'get_connection' for repeated use to pass authentication to MySQL server\n",
    "def get_connection(db_name):\n",
    "    '''\n",
    "   This function used the passed database name and imports host, user, password\n",
    "   from the locally saved env file to authenticate with the MySQL server.\n",
    "    '''\n",
    "    from env import host, user, password\n",
    "    return f'mysql+pymysql://{user}:{password}@{host}/{db_name}'"
   ]
  },
  {
   "cell_type": "code",
   "execution_count": null,
   "id": "1c96deb3",
   "metadata": {},
   "outputs": [],
   "source": [
    "# create function 'get_telco' for repeated use.\n",
    "def get_telco():\n",
    "    '''\n",
    "    This function uses the the get_connection function to pull the telco data from the MySQL server. \n",
    "    '''\n",
    "    sql = '''\n",
    "    SELECT * FROM customers c\n",
    "    JOIN contract_types ct ON ct.contract_type_id=c.contract_type_id\n",
    "    JOIN internet_service_types ist ON ist.internet_service_type_id=c.internet_service_type_id\n",
    "    JOIN payment_types pt ON pt.payment_type_id=c.payment_type_id\n",
    "    '''\n",
    "    url = get_connection('telco_churn')\n",
    "    df = pd.read_sql(sql, url)\n",
    "    return df"
   ]
  },
  {
   "cell_type": "code",
   "execution_count": 2,
   "id": "7be9eed3",
   "metadata": {},
   "outputs": [
    {
     "data": {
      "text/html": [
       "<div>\n",
       "<style scoped>\n",
       "    .dataframe tbody tr th:only-of-type {\n",
       "        vertical-align: middle;\n",
       "    }\n",
       "\n",
       "    .dataframe tbody tr th {\n",
       "        vertical-align: top;\n",
       "    }\n",
       "\n",
       "    .dataframe thead th {\n",
       "        text-align: right;\n",
       "    }\n",
       "</style>\n",
       "<table border=\"1\" class=\"dataframe\">\n",
       "  <thead>\n",
       "    <tr style=\"text-align: right;\">\n",
       "      <th></th>\n",
       "      <th>customer_id</th>\n",
       "      <th>gender</th>\n",
       "      <th>senior_citizen</th>\n",
       "      <th>partner</th>\n",
       "      <th>dependents</th>\n",
       "      <th>tenure</th>\n",
       "      <th>phone_service</th>\n",
       "      <th>multiple_lines</th>\n",
       "      <th>internet_service_type_id</th>\n",
       "      <th>online_security</th>\n",
       "      <th>...</th>\n",
       "      <th>payment_type_id</th>\n",
       "      <th>monthly_charges</th>\n",
       "      <th>total_charges</th>\n",
       "      <th>churn</th>\n",
       "      <th>contract_type_id</th>\n",
       "      <th>contract_type</th>\n",
       "      <th>internet_service_type_id</th>\n",
       "      <th>internet_service_type</th>\n",
       "      <th>payment_type_id</th>\n",
       "      <th>payment_type</th>\n",
       "    </tr>\n",
       "  </thead>\n",
       "  <tbody>\n",
       "    <tr>\n",
       "      <th>0</th>\n",
       "      <td>0016-QLJIS</td>\n",
       "      <td>Female</td>\n",
       "      <td>0</td>\n",
       "      <td>Yes</td>\n",
       "      <td>Yes</td>\n",
       "      <td>65</td>\n",
       "      <td>Yes</td>\n",
       "      <td>Yes</td>\n",
       "      <td>1</td>\n",
       "      <td>Yes</td>\n",
       "      <td>...</td>\n",
       "      <td>2</td>\n",
       "      <td>90.45</td>\n",
       "      <td>5957.9</td>\n",
       "      <td>No</td>\n",
       "      <td>3</td>\n",
       "      <td>Two year</td>\n",
       "      <td>1</td>\n",
       "      <td>DSL</td>\n",
       "      <td>2</td>\n",
       "      <td>Mailed check</td>\n",
       "    </tr>\n",
       "    <tr>\n",
       "      <th>1</th>\n",
       "      <td>0017-DINOC</td>\n",
       "      <td>Male</td>\n",
       "      <td>0</td>\n",
       "      <td>No</td>\n",
       "      <td>No</td>\n",
       "      <td>54</td>\n",
       "      <td>No</td>\n",
       "      <td>No phone service</td>\n",
       "      <td>1</td>\n",
       "      <td>Yes</td>\n",
       "      <td>...</td>\n",
       "      <td>4</td>\n",
       "      <td>45.20</td>\n",
       "      <td>2460.55</td>\n",
       "      <td>No</td>\n",
       "      <td>3</td>\n",
       "      <td>Two year</td>\n",
       "      <td>1</td>\n",
       "      <td>DSL</td>\n",
       "      <td>4</td>\n",
       "      <td>Credit card (automatic)</td>\n",
       "    </tr>\n",
       "    <tr>\n",
       "      <th>2</th>\n",
       "      <td>0019-GFNTW</td>\n",
       "      <td>Female</td>\n",
       "      <td>0</td>\n",
       "      <td>No</td>\n",
       "      <td>No</td>\n",
       "      <td>56</td>\n",
       "      <td>No</td>\n",
       "      <td>No phone service</td>\n",
       "      <td>1</td>\n",
       "      <td>Yes</td>\n",
       "      <td>...</td>\n",
       "      <td>3</td>\n",
       "      <td>45.05</td>\n",
       "      <td>2560.1</td>\n",
       "      <td>No</td>\n",
       "      <td>3</td>\n",
       "      <td>Two year</td>\n",
       "      <td>1</td>\n",
       "      <td>DSL</td>\n",
       "      <td>3</td>\n",
       "      <td>Bank transfer (automatic)</td>\n",
       "    </tr>\n",
       "    <tr>\n",
       "      <th>3</th>\n",
       "      <td>0056-EPFBG</td>\n",
       "      <td>Male</td>\n",
       "      <td>0</td>\n",
       "      <td>Yes</td>\n",
       "      <td>Yes</td>\n",
       "      <td>20</td>\n",
       "      <td>No</td>\n",
       "      <td>No phone service</td>\n",
       "      <td>1</td>\n",
       "      <td>Yes</td>\n",
       "      <td>...</td>\n",
       "      <td>4</td>\n",
       "      <td>39.40</td>\n",
       "      <td>825.4</td>\n",
       "      <td>No</td>\n",
       "      <td>3</td>\n",
       "      <td>Two year</td>\n",
       "      <td>1</td>\n",
       "      <td>DSL</td>\n",
       "      <td>4</td>\n",
       "      <td>Credit card (automatic)</td>\n",
       "    </tr>\n",
       "    <tr>\n",
       "      <th>4</th>\n",
       "      <td>0078-XZMHT</td>\n",
       "      <td>Male</td>\n",
       "      <td>0</td>\n",
       "      <td>Yes</td>\n",
       "      <td>No</td>\n",
       "      <td>72</td>\n",
       "      <td>Yes</td>\n",
       "      <td>Yes</td>\n",
       "      <td>1</td>\n",
       "      <td>No</td>\n",
       "      <td>...</td>\n",
       "      <td>3</td>\n",
       "      <td>85.15</td>\n",
       "      <td>6316.2</td>\n",
       "      <td>No</td>\n",
       "      <td>3</td>\n",
       "      <td>Two year</td>\n",
       "      <td>1</td>\n",
       "      <td>DSL</td>\n",
       "      <td>3</td>\n",
       "      <td>Bank transfer (automatic)</td>\n",
       "    </tr>\n",
       "  </tbody>\n",
       "</table>\n",
       "<p>5 rows × 27 columns</p>\n",
       "</div>"
      ],
      "text/plain": [
       "  customer_id  gender  senior_citizen partner dependents  tenure  \\\n",
       "0  0016-QLJIS  Female               0     Yes        Yes      65   \n",
       "1  0017-DINOC    Male               0      No         No      54   \n",
       "2  0019-GFNTW  Female               0      No         No      56   \n",
       "3  0056-EPFBG    Male               0     Yes        Yes      20   \n",
       "4  0078-XZMHT    Male               0     Yes         No      72   \n",
       "\n",
       "  phone_service    multiple_lines internet_service_type_id online_security  \\\n",
       "0           Yes               Yes                        1             Yes   \n",
       "1            No  No phone service                        1             Yes   \n",
       "2            No  No phone service                        1             Yes   \n",
       "3            No  No phone service                        1             Yes   \n",
       "4           Yes               Yes                        1              No   \n",
       "\n",
       "   ...  payment_type_id monthly_charges total_charges churn contract_type_id  \\\n",
       "0  ...                2           90.45        5957.9    No                3   \n",
       "1  ...                4           45.20       2460.55    No                3   \n",
       "2  ...                3           45.05        2560.1    No                3   \n",
       "3  ...                4           39.40         825.4    No                3   \n",
       "4  ...                3           85.15        6316.2    No                3   \n",
       "\n",
       "   contract_type internet_service_type_id  internet_service_type  \\\n",
       "0       Two year                        1                    DSL   \n",
       "1       Two year                        1                    DSL   \n",
       "2       Two year                        1                    DSL   \n",
       "3       Two year                        1                    DSL   \n",
       "4       Two year                        1                    DSL   \n",
       "\n",
       "   payment_type_id               payment_type  \n",
       "0                2               Mailed check  \n",
       "1                4    Credit card (automatic)  \n",
       "2                3  Bank transfer (automatic)  \n",
       "3                4    Credit card (automatic)  \n",
       "4                3  Bank transfer (automatic)  \n",
       "\n",
       "[5 rows x 27 columns]"
      ]
     },
     "execution_count": 2,
     "metadata": {},
     "output_type": "execute_result"
    }
   ],
   "source": [
    "# test functions that was placed in acquire_telco.py: get_connection, get_telco\n",
    "import acquire_telco\n",
    "df = acquire_telco.get_telco()\n",
    "df.head()"
   ]
  },
  {
   "cell_type": "markdown",
   "id": "f4919b62",
   "metadata": {},
   "source": [
    "###  <font color = 'red'> Clean Data"
   ]
  },
  {
   "cell_type": "code",
   "execution_count": null,
   "id": "4c804fe8",
   "metadata": {},
   "outputs": [],
   "source": [
    "# look for object columns that need to be removed or converted to dummy values or differenty data types\n",
    "df.info()"
   ]
  },
  {
   "cell_type": "markdown",
   "id": "a35d766b",
   "metadata": {},
   "source": [
    "#### Found duplicated columns:\n",
    "- payment_type_id\n",
    "- internet_service_type_id\n",
    "- contract_type_id"
   ]
  },
  {
   "cell_type": "code",
   "execution_count": null,
   "id": "158b5d8f",
   "metadata": {},
   "outputs": [],
   "source": [
    "df[df.duplicated()] # no duplicated rows"
   ]
  },
  {
   "cell_type": "code",
   "execution_count": null,
   "id": "75d02304",
   "metadata": {},
   "outputs": [],
   "source": [
    "# dropping ducplicate columns\n",
    "df = df.drop(columns=['payment_type_id', 'internet_service_type_id', 'contract_type_id'])\n",
    "df.info()"
   ]
  },
  {
   "cell_type": "code",
   "execution_count": null,
   "id": "62bd6723",
   "metadata": {},
   "outputs": [],
   "source": [
    "# check total charges column\n",
    "df.total_charges.head()"
   ]
  },
  {
   "cell_type": "markdown",
   "id": "f788e5fe",
   "metadata": {},
   "source": [
    "#### Errored when trying to convert total_charges to float. Found blank vlaues in column."
   ]
  },
  {
   "cell_type": "code",
   "execution_count": null,
   "id": "e24b1e42",
   "metadata": {},
   "outputs": [],
   "source": [
    "# Check values of total_charges, found 21 row had blanks\n",
    "df[df.total_charges == ' ']"
   ]
  },
  {
   "cell_type": "code",
   "execution_count": null,
   "id": "be884c0f",
   "metadata": {},
   "outputs": [],
   "source": [
    "# Replaced found blanks found with 0\n",
    "df['total_charges'] = df.total_charges.replace(' ', '0')"
   ]
  },
  {
   "cell_type": "code",
   "execution_count": null,
   "id": "c8bede90",
   "metadata": {},
   "outputs": [],
   "source": [
    "# Check values of total_charges are not blank\n",
    "df[df.total_charges == ' ']"
   ]
  },
  {
   "cell_type": "code",
   "execution_count": null,
   "id": "f5fafc36",
   "metadata": {},
   "outputs": [],
   "source": [
    "# Convert total_charges to float\n",
    "df.total_charges = df.total_charges.astype(float)\n",
    "df.info()"
   ]
  },
  {
   "cell_type": "code",
   "execution_count": null,
   "id": "1139b9c3",
   "metadata": {},
   "outputs": [],
   "source": [
    " # id columns for dummy variables\n",
    "dummies_cols =[\n",
    "    'gender',\n",
    "    'senior_citizen',\n",
    "    'partner',\n",
    "    'dependents',\n",
    "    'phone_service',\n",
    "    'multiple_lines',\n",
    "    'online_security',\n",
    "    'online_backup',\n",
    "    'device_protection',\n",
    "    'tech_support',\n",
    "    'streaming_tv',\n",
    "    'streaming_movies',\n",
    "    'paperless_billing',\n",
    "    'churn',\n",
    "    'contract_type',\n",
    "    'internet_service_type',\n",
    "    'payment_type']"
   ]
  },
  {
   "cell_type": "code",
   "execution_count": null,
   "id": "dfe27955",
   "metadata": {},
   "outputs": [],
   "source": [
    "# create dummy variables and assign to variable\n",
    "dummies_df = pd.get_dummies(df[dummies_cols], drop_first=True)"
   ]
  },
  {
   "cell_type": "code",
   "execution_count": null,
   "id": "4ee17597",
   "metadata": {},
   "outputs": [],
   "source": [
    "# concat df with dummy variable columns\n",
    "df = pd.concat([df, dummies_df], axis=1)\n",
    "df.head()"
   ]
  },
  {
   "cell_type": "code",
   "execution_count": null,
   "id": "af937181",
   "metadata": {},
   "outputs": [],
   "source": [
    "df.info()"
   ]
  },
  {
   "cell_type": "code",
   "execution_count": null,
   "id": "c036dbc1",
   "metadata": {},
   "outputs": [],
   "source": [
    "# Create Function to Clean Data\n",
    "def clean_telco(df):\n",
    "    \n",
    "    # dropping ducplicate columns\n",
    "    df = df.drop(columns=['payment_type_id', 'internet_service_type_id', 'contract_type_id'])\n",
    "    \n",
    "    #replace blanks in total_charges with 0\n",
    "    df['total_charges'] = df.total_charges.replace(' ', '0')\n",
    "    \n",
    "    # Convert total_charges to float\n",
    "    df.total_charges = df.total_charges.astype(float)\n",
    "    \n",
    "     # id columns for dummy variables\n",
    "    dummies_cols =[\n",
    "        'gender',\n",
    "        'partner',\n",
    "        'dependents',\n",
    "        'phone_service',\n",
    "        'multiple_lines',\n",
    "        'online_security',\n",
    "        'online_backup',\n",
    "        'device_protection',\n",
    "        'tech_support',\n",
    "        'streaming_tv',\n",
    "        'streaming_movies',\n",
    "        'paperless_billing',\n",
    "        'churn',\n",
    "        'contract_type',\n",
    "        'internet_service_type',\n",
    "        'payment_type']\n",
    "    \n",
    "    # Create dummy variables for id'd columns\n",
    "    dummies_df = pd.get_dummies(df[dummies_cols], drop_first=True)\n",
    "    \n",
    "    # Concat dummy vairabls to df\n",
    "    df = pd.concat([df, dummies_df], axis=1)\n",
    "    \n",
    "    # Clean column names\n",
    "    df.columns = [col.lower().replace(' ','_') for col in df]\n",
    "    \n",
    "    return df"
   ]
  },
  {
   "cell_type": "code",
   "execution_count": 3,
   "id": "cbe06fd9",
   "metadata": {
    "scrolled": true
   },
   "outputs": [
    {
     "name": "stderr",
     "output_type": "stream",
     "text": [
      "/Users/kanieladenis/codeup-data-science/telco_classification_project/prep_telco.py:17: SettingWithCopyWarning: \n",
      "A value is trying to be set on a copy of a slice from a DataFrame.\n",
      "Try using .loc[row_indexer,col_indexer] = value instead\n",
      "\n",
      "See the caveats in the documentation: https://pandas.pydata.org/pandas-docs/stable/user_guide/indexing.html#returning-a-view-versus-a-copy\n",
      "  df['total_charges'] = df.total_charges.replace(' ', '0')\n",
      "/usr/local/anaconda3/lib/python3.8/site-packages/pandas/core/generic.py:5494: SettingWithCopyWarning: \n",
      "A value is trying to be set on a copy of a slice from a DataFrame.\n",
      "Try using .loc[row_indexer,col_indexer] = value instead\n",
      "\n",
      "See the caveats in the documentation: https://pandas.pydata.org/pandas-docs/stable/user_guide/indexing.html#returning-a-view-versus-a-copy\n",
      "  self[name] = value\n",
      "/Users/kanieladenis/codeup-data-science/telco_classification_project/prep_telco.py:23: SettingWithCopyWarning: \n",
      "A value is trying to be set on a copy of a slice from a DataFrame.\n",
      "Try using .loc[row_indexer,col_indexer] = value instead\n",
      "\n",
      "See the caveats in the documentation: https://pandas.pydata.org/pandas-docs/stable/user_guide/indexing.html#returning-a-view-versus-a-copy\n",
      "  df['payment'] = np.where(df.payment_type.str.contains('auto'), 'auto', 'manual')\n",
      "/Users/kanieladenis/codeup-data-science/telco_classification_project/prep_telco.py:26: SettingWithCopyWarning: \n",
      "A value is trying to be set on a copy of a slice from a DataFrame.\n",
      "Try using .loc[row_indexer,col_indexer] = value instead\n",
      "\n",
      "See the caveats in the documentation: https://pandas.pydata.org/pandas-docs/stable/user_guide/indexing.html#returning-a-view-versus-a-copy\n",
      "  df['senior_citizen'] = np.where(df.senior_citizen==1, 'yes', 'no')\n"
     ]
    },
    {
     "data": {
      "text/html": [
       "<div>\n",
       "<style scoped>\n",
       "    .dataframe tbody tr th:only-of-type {\n",
       "        vertical-align: middle;\n",
       "    }\n",
       "\n",
       "    .dataframe tbody tr th {\n",
       "        vertical-align: top;\n",
       "    }\n",
       "\n",
       "    .dataframe thead th {\n",
       "        text-align: right;\n",
       "    }\n",
       "</style>\n",
       "<table border=\"1\" class=\"dataframe\">\n",
       "  <thead>\n",
       "    <tr style=\"text-align: right;\">\n",
       "      <th></th>\n",
       "      <th>customer_id</th>\n",
       "      <th>gender</th>\n",
       "      <th>senior_citizen</th>\n",
       "      <th>partner</th>\n",
       "      <th>dependents</th>\n",
       "      <th>tenure</th>\n",
       "      <th>phone_service</th>\n",
       "      <th>multiple_lines</th>\n",
       "      <th>online_security</th>\n",
       "      <th>online_backup</th>\n",
       "      <th>...</th>\n",
       "      <th>churn_no</th>\n",
       "      <th>churn_yes</th>\n",
       "      <th>contract_type_month_to_month</th>\n",
       "      <th>contract_type_one_year</th>\n",
       "      <th>contract_type_two_year</th>\n",
       "      <th>internet_service_type_dsl</th>\n",
       "      <th>internet_service_type_fiber_optic</th>\n",
       "      <th>internet_service_type_none</th>\n",
       "      <th>payment_auto</th>\n",
       "      <th>payment_manual</th>\n",
       "    </tr>\n",
       "  </thead>\n",
       "  <tbody>\n",
       "    <tr>\n",
       "      <th>0</th>\n",
       "      <td>0016-QLJIS</td>\n",
       "      <td>Female</td>\n",
       "      <td>no</td>\n",
       "      <td>Yes</td>\n",
       "      <td>Yes</td>\n",
       "      <td>65</td>\n",
       "      <td>Yes</td>\n",
       "      <td>Yes</td>\n",
       "      <td>Yes</td>\n",
       "      <td>Yes</td>\n",
       "      <td>...</td>\n",
       "      <td>1</td>\n",
       "      <td>0</td>\n",
       "      <td>0</td>\n",
       "      <td>0</td>\n",
       "      <td>1</td>\n",
       "      <td>1</td>\n",
       "      <td>0</td>\n",
       "      <td>0</td>\n",
       "      <td>0</td>\n",
       "      <td>1</td>\n",
       "    </tr>\n",
       "    <tr>\n",
       "      <th>1</th>\n",
       "      <td>0017-DINOC</td>\n",
       "      <td>Male</td>\n",
       "      <td>no</td>\n",
       "      <td>No</td>\n",
       "      <td>No</td>\n",
       "      <td>54</td>\n",
       "      <td>No</td>\n",
       "      <td>No phone service</td>\n",
       "      <td>Yes</td>\n",
       "      <td>No</td>\n",
       "      <td>...</td>\n",
       "      <td>1</td>\n",
       "      <td>0</td>\n",
       "      <td>0</td>\n",
       "      <td>0</td>\n",
       "      <td>1</td>\n",
       "      <td>1</td>\n",
       "      <td>0</td>\n",
       "      <td>0</td>\n",
       "      <td>1</td>\n",
       "      <td>0</td>\n",
       "    </tr>\n",
       "    <tr>\n",
       "      <th>2</th>\n",
       "      <td>0019-GFNTW</td>\n",
       "      <td>Female</td>\n",
       "      <td>no</td>\n",
       "      <td>No</td>\n",
       "      <td>No</td>\n",
       "      <td>56</td>\n",
       "      <td>No</td>\n",
       "      <td>No phone service</td>\n",
       "      <td>Yes</td>\n",
       "      <td>Yes</td>\n",
       "      <td>...</td>\n",
       "      <td>1</td>\n",
       "      <td>0</td>\n",
       "      <td>0</td>\n",
       "      <td>0</td>\n",
       "      <td>1</td>\n",
       "      <td>1</td>\n",
       "      <td>0</td>\n",
       "      <td>0</td>\n",
       "      <td>1</td>\n",
       "      <td>0</td>\n",
       "    </tr>\n",
       "    <tr>\n",
       "      <th>3</th>\n",
       "      <td>0056-EPFBG</td>\n",
       "      <td>Male</td>\n",
       "      <td>no</td>\n",
       "      <td>Yes</td>\n",
       "      <td>Yes</td>\n",
       "      <td>20</td>\n",
       "      <td>No</td>\n",
       "      <td>No phone service</td>\n",
       "      <td>Yes</td>\n",
       "      <td>No</td>\n",
       "      <td>...</td>\n",
       "      <td>1</td>\n",
       "      <td>0</td>\n",
       "      <td>0</td>\n",
       "      <td>0</td>\n",
       "      <td>1</td>\n",
       "      <td>1</td>\n",
       "      <td>0</td>\n",
       "      <td>0</td>\n",
       "      <td>1</td>\n",
       "      <td>0</td>\n",
       "    </tr>\n",
       "    <tr>\n",
       "      <th>4</th>\n",
       "      <td>0078-XZMHT</td>\n",
       "      <td>Male</td>\n",
       "      <td>no</td>\n",
       "      <td>Yes</td>\n",
       "      <td>No</td>\n",
       "      <td>72</td>\n",
       "      <td>Yes</td>\n",
       "      <td>Yes</td>\n",
       "      <td>No</td>\n",
       "      <td>Yes</td>\n",
       "      <td>...</td>\n",
       "      <td>1</td>\n",
       "      <td>0</td>\n",
       "      <td>0</td>\n",
       "      <td>0</td>\n",
       "      <td>1</td>\n",
       "      <td>1</td>\n",
       "      <td>0</td>\n",
       "      <td>0</td>\n",
       "      <td>1</td>\n",
       "      <td>0</td>\n",
       "    </tr>\n",
       "  </tbody>\n",
       "</table>\n",
       "<p>5 rows × 65 columns</p>\n",
       "</div>"
      ],
      "text/plain": [
       "  customer_id  gender senior_citizen partner dependents  tenure phone_service  \\\n",
       "0  0016-QLJIS  Female             no     Yes        Yes      65           Yes   \n",
       "1  0017-DINOC    Male             no      No         No      54            No   \n",
       "2  0019-GFNTW  Female             no      No         No      56            No   \n",
       "3  0056-EPFBG    Male             no     Yes        Yes      20            No   \n",
       "4  0078-XZMHT    Male             no     Yes         No      72           Yes   \n",
       "\n",
       "     multiple_lines online_security online_backup  ... churn_no churn_yes  \\\n",
       "0               Yes             Yes           Yes  ...        1         0   \n",
       "1  No phone service             Yes            No  ...        1         0   \n",
       "2  No phone service             Yes           Yes  ...        1         0   \n",
       "3  No phone service             Yes            No  ...        1         0   \n",
       "4               Yes              No           Yes  ...        1         0   \n",
       "\n",
       "  contract_type_month_to_month contract_type_one_year contract_type_two_year  \\\n",
       "0                            0                      0                      1   \n",
       "1                            0                      0                      1   \n",
       "2                            0                      0                      1   \n",
       "3                            0                      0                      1   \n",
       "4                            0                      0                      1   \n",
       "\n",
       "   internet_service_type_dsl  internet_service_type_fiber_optic  \\\n",
       "0                          1                                  0   \n",
       "1                          1                                  0   \n",
       "2                          1                                  0   \n",
       "3                          1                                  0   \n",
       "4                          1                                  0   \n",
       "\n",
       "  internet_service_type_none payment_auto payment_manual  \n",
       "0                          0            0              1  \n",
       "1                          0            1              0  \n",
       "2                          0            1              0  \n",
       "3                          0            1              0  \n",
       "4                          0            1              0  \n",
       "\n",
       "[5 rows x 65 columns]"
      ]
     },
     "execution_count": 3,
     "metadata": {},
     "output_type": "execute_result"
    }
   ],
   "source": [
    "import prep_telco\n",
    "\n",
    "# test function clean_telco\n",
    "df = prep_telco.clean_telco(df)\n",
    "df.head()"
   ]
  },
  {
   "cell_type": "markdown",
   "id": "e11698a9",
   "metadata": {},
   "source": [
    "#### clean_telco function tested good and was added to the prep_telco file"
   ]
  },
  {
   "cell_type": "markdown",
   "id": "0e7fa131",
   "metadata": {},
   "source": [
    "## <font color = 'red'>Preparation (Tidy, Wrangle, Split)"
   ]
  },
  {
   "cell_type": "markdown",
   "id": "c5ebeef4",
   "metadata": {},
   "source": [
    "### <font color = 'red'>Tidy Data"
   ]
  },
  {
   "cell_type": "markdown",
   "id": "c57ae1c0",
   "metadata": {},
   "source": [
    "### <font color ='red'>Wrangle Data"
   ]
  },
  {
   "cell_type": "markdown",
   "id": "38adcccf",
   "metadata": {},
   "source": [
    "###  <font color='red'>Data Context (Univariate)"
   ]
  },
  {
   "cell_type": "markdown",
   "id": "7faad9e9",
   "metadata": {},
   "source": [
    "### <font color='red'>Split Data"
   ]
  },
  {
   "cell_type": "markdown",
   "id": "4899b3f8",
   "metadata": {},
   "source": [
    "## <font color = 'red'> Split Data"
   ]
  },
  {
   "cell_type": "code",
   "execution_count": null,
   "id": "d2cb9fb6",
   "metadata": {},
   "outputs": [],
   "source": []
  },
  {
   "cell_type": "code",
   "execution_count": null,
   "id": "9f3b9616",
   "metadata": {},
   "outputs": [],
   "source": [
    "# test imported function\n",
    "import prep_telco\n",
    "train, validate, test = prep_telco.split_telco(df)\n",
    "train.shape, validate.shape, test.shape"
   ]
  },
  {
   "cell_type": "markdown",
   "id": "26daad51",
   "metadata": {},
   "source": [
    "## <font color ='red'> Exploration and Pre-Processing"
   ]
  },
  {
   "cell_type": "markdown",
   "id": "344b1c78",
   "metadata": {},
   "source": [
    "### Explore Train Data to Answer Questions"
   ]
  },
  {
   "cell_type": "markdown",
   "id": "3cd8c2d4",
   "metadata": {},
   "source": [
    "### What are the questions:"
   ]
  },
  {
   "cell_type": "markdown",
   "id": "597f1394",
   "metadata": {},
   "source": [
    "### Multivariate Visuals"
   ]
  },
  {
   "cell_type": "markdown",
   "id": "ea95b92f",
   "metadata": {},
   "source": [
    "### Pre-Procssing (Prep Data for Modeling)"
   ]
  },
  {
   "cell_type": "markdown",
   "id": "d60c1295",
   "metadata": {},
   "source": [
    "### <font color = 'red'> What attributes are associated with churned customers with <= 5 months of tenure?"
   ]
  },
  {
   "cell_type": "code",
   "execution_count": null,
   "id": "45899198",
   "metadata": {},
   "outputs": [],
   "source": [
    "train.churn_yes.sum()"
   ]
  },
  {
   "cell_type": "code",
   "execution_count": null,
   "id": "986decff",
   "metadata": {},
   "outputs": [],
   "source": [
    "train.payment_type.value_counts()"
   ]
  },
  {
   "cell_type": "code",
   "execution_count": null,
   "id": "c88cc4d5",
   "metadata": {
    "scrolled": true
   },
   "outputs": [],
   "source": [
    "plt.figure(figsize=(15,5))\n",
    "sns.barplot(data=train, y='churn_yes', x='dependents')"
   ]
  },
  {
   "cell_type": "code",
   "execution_count": null,
   "id": "1d232bb6",
   "metadata": {},
   "outputs": [],
   "source": [
    "plt.figure(figsize=(15,5))\n",
    "sns.barplot(data=train, y='churn_yes', x='phone_service')"
   ]
  },
  {
   "cell_type": "code",
   "execution_count": null,
   "id": "6b0580bf",
   "metadata": {},
   "outputs": [],
   "source": [
    "plt.figure(figsize=(15,5))\n",
    "sns.barplot(data=train, y='churn_yes', x='online_security')"
   ]
  },
  {
   "cell_type": "code",
   "execution_count": null,
   "id": "858a82c2",
   "metadata": {},
   "outputs": [],
   "source": [
    "plt.figure(figsize=(15,5))\n",
    "sns.barplot(data=train, y='churn_yes', x='tech_support')"
   ]
  },
  {
   "cell_type": "code",
   "execution_count": null,
   "id": "4b1f2f68",
   "metadata": {
    "scrolled": true
   },
   "outputs": [],
   "source": [
    "plt.figure(figsize=(15,5))\n",
    "sns.barplot(data=train, y='churn_yes', x='paperless_billing')"
   ]
  },
  {
   "cell_type": "code",
   "execution_count": null,
   "id": "f3fd4be9",
   "metadata": {},
   "outputs": [],
   "source": [
    "plt.figure(figsize=(15,5))\n",
    "sns.barplot(data=train, y='churn_yes', x='total_charges')"
   ]
  },
  {
   "cell_type": "code",
   "execution_count": null,
   "id": "82a25525",
   "metadata": {},
   "outputs": [],
   "source": [
    "train_monthly30 = train[train.monthly_charges <= 30]\n",
    "plt.figure(figsize=(15,5))\n",
    "sns.barplot(data=train_monthly30, y='churn_yes', x='monthly_charges')"
   ]
  },
  {
   "cell_type": "code",
   "execution_count": null,
   "id": "65b25a71",
   "metadata": {},
   "outputs": [],
   "source": [
    "plt.figure(figsize=(15,5))\n",
    "sns.lineplot(data=train, y='churn_yes', x='monthly_charges')"
   ]
  },
  {
   "cell_type": "code",
   "execution_count": null,
   "id": "30a1b866",
   "metadata": {},
   "outputs": [],
   "source": [
    "plt.figure(figsize=(15,5))\n",
    "sns.barplot(data=train, y='churn_yes', x='contract_type')"
   ]
  },
  {
   "cell_type": "code",
   "execution_count": null,
   "id": "be9740f8",
   "metadata": {},
   "outputs": [],
   "source": [
    "plt.figure(figsize=(15,5))\n",
    "sns.barplot(data=train, y='churn_yes', x='internet_service_type')"
   ]
  },
  {
   "cell_type": "code",
   "execution_count": null,
   "id": "e46f6200",
   "metadata": {},
   "outputs": [],
   "source": [
    "plt.figure(figsize=(15,5))\n",
    "sns.barplot(data=train, y='churn_yes', x='payment_type')"
   ]
  },
  {
   "cell_type": "code",
   "execution_count": null,
   "id": "d335022d",
   "metadata": {},
   "outputs": [],
   "source": [
    "plt.figure(figsize=(15,5))\n",
    "sns.lineplot(data=train, y='churn_yes', x='tenure')"
   ]
  },
  {
   "cell_type": "markdown",
   "id": "ebaa34e9",
   "metadata": {},
   "source": [
    "### Attibutes associated with sigificant churn:\n",
    "- Yes Month-to-Month Contract_Type\n",
    "- Yes Fiber Optic Internet_Service_Type\n",
    "- No Tech Support\n",
    "- No Online Security\n",
    "- No Dependents\n",
    "- Yes E-checking\n",
    "- Yes Paperless Billing=\n",
    "### Focus on:\n",
    "- Month-to-Month Churn = 928 customers"
   ]
  },
  {
   "cell_type": "code",
   "execution_count": null,
   "id": "483122b2",
   "metadata": {},
   "outputs": [],
   "source": [
    "train.contract_type.value_counts()"
   ]
  },
  {
   "cell_type": "code",
   "execution_count": null,
   "id": "3d0eaed6",
   "metadata": {},
   "outputs": [],
   "source": [
    "train[train['contract_type_month-to-month'] == 1].churn_yes.sum()"
   ]
  },
  {
   "cell_type": "code",
   "execution_count": null,
   "id": "f61471e3",
   "metadata": {},
   "outputs": [],
   "source": [
    "train[train['contract_type_one_year'] == 1].churn_yes.sum()"
   ]
  },
  {
   "cell_type": "code",
   "execution_count": null,
   "id": "176b36d8",
   "metadata": {},
   "outputs": [],
   "source": [
    "train[train['contract_type_two_year'] == 1].churn_yes.sum()"
   ]
  },
  {
   "cell_type": "code",
   "execution_count": null,
   "id": "8cdfa845",
   "metadata": {},
   "outputs": [],
   "source": [
    "plt.figure(figsize=(15,5))\n",
    "sns.barplot(data=train, x='contract_type', y='churn_yes')\n",
    "plt.title('Three Times as Many Customers have Monthly Contracts than Annual Contracts')\n",
    "plt.xlabel('Contract Types')\n",
    "plt.ylabel('Churn Count')\n",
    "plt.show()"
   ]
  },
  {
   "cell_type": "markdown",
   "id": "baa15bac",
   "metadata": {},
   "source": [
    "### There are 2,162 month-to-month contracts, more than double of the next highest (two year contract). 928 of which are churned customers."
   ]
  },
  {
   "cell_type": "code",
   "execution_count": null,
   "id": "ed56d8fd",
   "metadata": {},
   "outputs": [],
   "source": [
    "# Create subgroup for all month-to-month contracts\n",
    "train_m2m = train[train.contract_type == 'Month-to-month']\n",
    "train_m2m.head()"
   ]
  },
  {
   "cell_type": "markdown",
   "id": "9e1ab6f1",
   "metadata": {},
   "source": [
    "### Multivariate Analysis from the above attributes"
   ]
  },
  {
   "cell_type": "code",
   "execution_count": null,
   "id": "f3fcd67a",
   "metadata": {},
   "outputs": [],
   "source": [
    "# Find churn sum or online_security_no\n",
    "(train_m2m.online_security_no == 1).sum()"
   ]
  },
  {
   "cell_type": "code",
   "execution_count": null,
   "id": "4de9102d",
   "metadata": {},
   "outputs": [],
   "source": [
    "# Find churn sum for internet_service_type_fiber_optic\n",
    "(train_m2m.internet_service_type_fiber_optic == 1).sum()"
   ]
  },
  {
   "cell_type": "code",
   "execution_count": null,
   "id": "6717a906",
   "metadata": {},
   "outputs": [],
   "source": [
    "# Find churn sum for tech_support_no\n",
    "(train_m2m.tech_support_no == 1).sum()"
   ]
  },
  {
   "cell_type": "code",
   "execution_count": null,
   "id": "bb6c5189",
   "metadata": {},
   "outputs": [],
   "source": [
    "# Find churn sum for dependents_no\n",
    "(train_m2m.dependents_no == 1).sum()"
   ]
  },
  {
   "cell_type": "code",
   "execution_count": null,
   "id": "7385525c",
   "metadata": {},
   "outputs": [],
   "source": [
    "# Find churn sum for payment_type_electronic_check\n",
    "(train_m2m.payment_type_electronic_check == 1).sum()"
   ]
  },
  {
   "cell_type": "markdown",
   "id": "bd098a0d",
   "metadata": {},
   "source": [
    "### Find churn counts for above contracts"
   ]
  },
  {
   "cell_type": "code",
   "execution_count": null,
   "id": "11202a11",
   "metadata": {},
   "outputs": [],
   "source": [
    "# Find churn sum or online_security_no\n",
    "m2m[m2m.online_security_no == 1].churn_yes.sum()"
   ]
  },
  {
   "cell_type": "code",
   "execution_count": null,
   "id": "4722978a",
   "metadata": {},
   "outputs": [],
   "source": [
    "# Find churn sum for internet_service_type_fiber_optic\n",
    "mm2m[m2m.internet_service_type_fiber_optic == 1].churn_yes.sum()"
   ]
  },
  {
   "cell_type": "code",
   "execution_count": null,
   "id": "c0aa8617",
   "metadata": {},
   "outputs": [],
   "source": [
    "# Find churn sum for tech_support_no\n",
    "m2m[m2m.tech_support_no == 1].churn_yes.sum()"
   ]
  },
  {
   "cell_type": "code",
   "execution_count": null,
   "id": "c42ec818",
   "metadata": {},
   "outputs": [],
   "source": [
    "# Find churn sum for dependents_no\n",
    "m2m[m2m.dependents_no == 1].churn_yes.sum()"
   ]
  },
  {
   "cell_type": "code",
   "execution_count": null,
   "id": "ec552043",
   "metadata": {},
   "outputs": [],
   "source": [
    "# Find churn sum for payment_type_electronic_check\n",
    "echeck = m2m[m2m.payment_type_electronic_check == 1].churn_yes.sum()\n",
    "echeck"
   ]
  },
  {
   "cell_type": "markdown",
   "id": "7de6fa7b",
   "metadata": {},
   "source": [
    "### Investigate difference for making payment_type autopay vs manual pay"
   ]
  },
  {
   "cell_type": "code",
   "execution_count": null,
   "id": "4fad849b",
   "metadata": {},
   "outputs": [],
   "source": [
    "mcheck = m2m[m2m.payment_type_mailed_check == 1].churn_yes.sum()\n",
    "mcheck"
   ]
  },
  {
   "cell_type": "code",
   "execution_count": null,
   "id": "32eb20be",
   "metadata": {},
   "outputs": [],
   "source": [
    "echeck + mcheck"
   ]
  },
  {
   "cell_type": "markdown",
   "id": "31db8a2e",
   "metadata": {},
   "source": [
    "### Discovered 'Manual Pay' and 'No Dependents' has more Churn than the other attributes"
   ]
  },
  {
   "cell_type": "code",
   "execution_count": null,
   "id": "7e8af53e",
   "metadata": {},
   "outputs": [],
   "source": [
    "# Update train, validate, test with new columns for manual pay and auto pay\n",
    "train['auto_pay'] = (train['payment_type_bank_transfer_(automatic)'] == 1) | (train['payment_type_credit_card_(automatic)'] == 1)\n",
    "train['manual_pay'] = (train['payment_type_electronic_check'] == 1) | (train['payment_type_mailed_check'] == 1)\n",
    "\n",
    "validate['auto_pay'] = (validate['payment_type_bank_transfer_(automatic)'] == 1) | (validate['payment_type_credit_card_(automatic)'] == 1)\n",
    "validate['manual_pay'] = (validate['payment_type_electronic_check'] == 1) | (validate['payment_type_mailed_check'] == 1)\n",
    "\n",
    "test['auto_pay'] = (test['payment_type_bank_transfer_(automatic)'] == 1) | (test['payment_type_credit_card_(automatic)'] == 1)\n",
    "test['manual_pay'] = (test['payment_type_electronic_check'] == 1) | (test['payment_type_mailed_check'] == 1)"
   ]
  },
  {
   "cell_type": "code",
   "execution_count": null,
   "id": "f8ca1a49",
   "metadata": {},
   "outputs": [],
   "source": [
    "# Created barpolot to compare churn bettween customers using Manual Pay and Not Using Manual Pay\n",
    "plt.figure(figsize=(15,5))\n",
    "sns.barplot(data=train, y='churn_yes', x='manual_pay')\n",
    "plt.title('Churn for Manual Payment Customer double Churn from Auto Payment Customers')\n",
    "plt.xlabel('Manual Payment Customers')\n",
    "plt.ylabel('Churn Count')\n",
    "plt.show()"
   ]
  },
  {
   "cell_type": "code",
   "execution_count": null,
   "id": "1cce2b9a",
   "metadata": {},
   "outputs": [],
   "source": [
    "# 762 Churned under manual pay\n",
    "train[train.manual_pay == 1].churn_yes.sum()"
   ]
  },
  {
   "cell_type": "code",
   "execution_count": null,
   "id": "ac7ae585",
   "metadata": {},
   "outputs": [],
   "source": [
    "# 284 Churned under Auto Pay\n",
    "train[train.auto_pay == 1].churn_yes.sum()"
   ]
  },
  {
   "cell_type": "code",
   "execution_count": null,
   "id": "a946989a",
   "metadata": {},
   "outputs": [],
   "source": [
    "# Shows higher CHURN for month-to-month contracts using manual_pay and NO tech_support\n",
    "x = 'manual_pay'\n",
    "y = 'churn_yes'\n",
    "hue = 'tech_support_no'\n",
    "plt.figure(figsize=(15,5))\n",
    "sns.barplot(data=train_m2m, hue=hue, x=x, y=y)\n",
    "plt.title('Highest Churn from Manual Payment Customers with NO Tech Support')\n",
    "plt.xlabel('Manual Payment Customers')\n",
    "plt.ylabel('Churn Count')\n",
    "plt.show()"
   ]
  },
  {
   "cell_type": "code",
   "execution_count": null,
   "id": "dc19f886",
   "metadata": {
    "scrolled": true
   },
   "outputs": [],
   "source": [
    "# Shows higher CHURN for month-to-month contracts using Manual Pay and NO Online Security\n",
    "x = 'manual_pay'\n",
    "y = 'churn_yes'\n",
    "hue = 'online_security_no'\n",
    "plt.figure(figsize=(15,5))\n",
    "sns.barplot(data=train_m2m, hue=hue, x=x, y=y)\n",
    "plt.title('Highest Churn from Manual Payment Customers with NO Online Security')\n",
    "plt.xlabel('Manual Payment Customers')\n",
    "plt.ylabel('Churn Count')\n",
    "plt.show()"
   ]
  },
  {
   "cell_type": "code",
   "execution_count": null,
   "id": "daf798f9",
   "metadata": {},
   "outputs": [],
   "source": [
    "# Shows significantly higher CHURN for month-to-month contracts using Manual Pay and Fiber Optic\n",
    "x = 'manual_pay'\n",
    "y = 'churn_yes'\n",
    "hue = 'internet_service_type_fiber_optic'\n",
    "plt.figure(figsize=(15,5))\n",
    "sns.barplot(data=train_m2m, hue=hue, x=x, y=y)\n",
    "plt.title('Churn is highest with Manual Payment Customers that have Fiber Optic Internet')\n",
    "plt.xlabel('Manual Payment Customers')\n",
    "plt.ylabel('Churn Count')\n",
    "plt.show()"
   ]
  },
  {
   "cell_type": "code",
   "execution_count": null,
   "id": "52023057",
   "metadata": {},
   "outputs": [],
   "source": [
    "# Shows higher CHURN for month-to-month contract using Manual Pay and has NO dependents\n",
    "x = 'manual_pay'\n",
    "y = 'churn_yes'\n",
    "hue = 'dependents_no'\n",
    "plt.figure(figsize=(15,5))\n",
    "sns.barplot(data=train_m2m, hue=hue, x=x, y=y)\n",
    "plt.title('Churn is highest for Manual Payments Customers with NO Dependents')\n",
    "plt.xlabel('Manual Payment Customers')\n",
    "plt.ylabel('Churn Count')\n",
    "plt.show()"
   ]
  },
  {
   "cell_type": "markdown",
   "id": "b519e445",
   "metadata": {},
   "source": [
    "## Questions Answered:\n",
    "How many customers are churning and not churning?\n",
    "- Total Customer: 7043, Churned: 1,869, Not-Churned: 5,174\n",
    "\n",
    "What is the timeline of churn?\n",
    "- Tenure ranges  to 72 months\n",
    "\n",
    "At what month of tenure are they churning?\n",
    "- Most Churn within 5 months\n",
    "\n",
    "What are major subgroups of customers?\n",
    "- Month-to-Month Contracts\n",
    "\n",
    "What people drivers are associated with churned customers?\n",
    "- Not having dependents\n",
    "\n",
    "What product  drivers are associated with churned customers?\n",
    "- Having Fiber Optic Internet\n",
    "- Not having Tech support\n",
    "- Not having Online Security\n",
    "- Using E-Checking (Manual Pay)\n",
    "\n",
    "Using E-checking is misleading, investigate splitting payment methods into auto pay vs manual pay\n",
    "- Manual Pay Churn is Double of Auto Pay Churn\n",
    "\n",
    "What attributes associate to the highest Churn?\n",
    "- Having No Dependents\n",
    "- Using Manual Pay\n",
    "\n",
    "Do people drivers outweigh Product drivers?\n",
    "- Single factoring, no. Individually, people attributes have more churn however there are more product attributes associated to churn.\n",
    "\n",
    "What drivers are easiest to change with least amount of impact to the customer? \n",
    "- Change Manual Pay to Auto Pay focused on customers with no Dependents"
   ]
  },
  {
   "cell_type": "markdown",
   "id": "fd1e03ff",
   "metadata": {},
   "source": [
    "### Provide 5-min Visuals for exploration (two with statistical test)"
   ]
  },
  {
   "cell_type": "markdown",
   "id": "217f6386",
   "metadata": {},
   "source": [
    "## One Sample T-Test if Avg Manual Pay Churn is Greater than the Avg Overall Churn for M2M contracts"
   ]
  },
  {
   "cell_type": "code",
   "execution_count": null,
   "id": "d5262212",
   "metadata": {},
   "outputs": [],
   "source": [
    "# Variance is not equal\n",
    "df_mpay = train_m2m[train_m2m.manual_pay == 1]\n",
    "print(df_mpay.churn_yes.var())\n",
    "print(train_m2m.churn_yes.var())"
   ]
  },
  {
   "cell_type": "code",
   "execution_count": null,
   "id": "b5f5814a",
   "metadata": {},
   "outputs": [],
   "source": [
    "# normal distribution: Yes, more than 30 observations\n",
    "# Independent Samples: Yes\n",
    "# Var Equal: No\n",
    "# H0: Avg Churn of Manual pay is less than equal to Overall Avg Churn\n",
    "# HA: Avg Churn of Manual Pay is greater than Overall Avg Churn\n",
    "avg_overall_churn = train_m2m.churn_yes.mean()\n",
    "manual_pay_churn = df_mpay.churn_yes\n",
    "alpha = .05\n",
    "\n",
    "t, p = stats.ttest_1samp(manual_pay_churn, avg_overall_churn)\n",
    "t, p/2, alpha"
   ]
  },
  {
   "cell_type": "markdown",
   "id": "72dcb772",
   "metadata": {},
   "source": [
    "### Reject H0, it seems that avg churn for manual pay is greater than overall average churn for M2M contracts"
   ]
  },
  {
   "cell_type": "code",
   "execution_count": null,
   "id": "59b38ff9",
   "metadata": {},
   "outputs": [],
   "source": [
    "# Shows higher CHURN for month-to-month contract using Manual Pay and has NO dependents\n",
    "x = 'manual_pay'\n",
    "y = 'churn_yes'\n",
    "plt.figure(figsize=(15,5))\n",
    "sns.barplot(data=train_m2m, x=x, y=y)\n",
    "plt.title('Average Churn for Manual Payment Customers are Greater than Overall Average of Churn')\n",
    "plt.xlabel('Manual Payment Customers')\n",
    "plt.ylabel('Churn Count')\n",
    "plt.axhline(y=avg_overall_churn, color='red')\n",
    "plt.show()"
   ]
  },
  {
   "cell_type": "markdown",
   "id": "38c88dae",
   "metadata": {},
   "source": [
    "## Independent T-Test if Avg Churn of Manual Pay with No Dependents is Greater than Avg Churn of Manual Pay with No Online Security for M2M Contracts"
   ]
  },
  {
   "cell_type": "markdown",
   "id": "7e99f39f",
   "metadata": {},
   "source": [
    "### Independent T-Test if Avg Manual Pay with No Dependents Churn is Greater than Avg Manual Pay with No Online Security\n",
    "- Normal distribution: Yes, more than 30 observations\n",
    "- Independent Samples: Yes\n",
    "- Var Equal: No\n",
    "- H0: Avg Churn of Manual Pay with No Dependents <= Avg Churn of Manual Pay with No Online Security\n",
    "- HA: Avg Churn of Manual Pay with No Dependents > Avg Churn of Manual Pay with No Online Security"
   ]
  },
  {
   "cell_type": "code",
   "execution_count": null,
   "id": "c3ea6f66",
   "metadata": {},
   "outputs": [],
   "source": [
    "mp_nd = df_mpay[(df_mpay.dependents_no == 1)]\n",
    "mp_nd.head()"
   ]
  },
  {
   "cell_type": "code",
   "execution_count": null,
   "id": "7c2080b4",
   "metadata": {},
   "outputs": [],
   "source": [
    "mp_ndc = mp_nd.churn_yes\n",
    "mp_ndc"
   ]
  },
  {
   "cell_type": "code",
   "execution_count": null,
   "id": "575774f5",
   "metadata": {},
   "outputs": [],
   "source": [
    "mp_nos = df_mpay[df_mpay.online_security_no == 1]\n",
    "mp_nosc = mp_nos.churn_yes\n",
    "mp_nosc"
   ]
  },
  {
   "cell_type": "code",
   "execution_count": null,
   "id": "3392d950",
   "metadata": {},
   "outputs": [],
   "source": [
    "print(mp_ndc.var())\n",
    "print(mp_nosc.var())"
   ]
  },
  {
   "cell_type": "code",
   "execution_count": null,
   "id": "ca37c417",
   "metadata": {},
   "outputs": [],
   "source": [
    "alpha = .05\n",
    "t, p = stats.ttest_ind(mp_ndc, mp_nosc, equal_var=False)\n",
    "t, p/2, alpha"
   ]
  },
  {
   "cell_type": "markdown",
   "id": "9c1efde0",
   "metadata": {},
   "source": [
    "### Since t < 0, Fail Reject of H0. It seems that Avg Churn for online_security_no is <= Avge Churn for dependents_no"
   ]
  },
  {
   "cell_type": "code",
   "execution_count": null,
   "id": "c9f07fe9",
   "metadata": {},
   "outputs": [],
   "source": [
    "df_mpay.online_security_no.head()"
   ]
  },
  {
   "cell_type": "code",
   "execution_count": null,
   "id": "487782a7",
   "metadata": {},
   "outputs": [],
   "source": [
    "# Shows Churn for online_security_no > Churn for dependents_no\n",
    "y = 'churn_yes'\n",
    "x = 'dependents_no'\n",
    "hue = 'online_security_no'\n",
    "plt.figure(figsize=(15,5))\n",
    "sns.barplot(data=df_mpay, y=y, x=x, hue=hue )\n",
    "plt.title('Customers Without Online Security Churn More than Customers with No Dependents ')\n",
    "plt.xlabel('Customers with No Dependents')\n",
    "plt.ylabel('Churn Count')\n",
    "plt.show()"
   ]
  },
  {
   "cell_type": "markdown",
   "id": "ccab6fda",
   "metadata": {},
   "source": [
    "### Summarize Exploration"
   ]
  },
  {
   "cell_type": "markdown",
   "id": "a1828717",
   "metadata": {},
   "source": [
    "### During exploration, I discoverd that 27% of our customers churn, and most of that happens whithin the first five months. I learned that tthe largest subgroup of our customers belong to monthly contracts. I learned that significant drivers associated with customers that churn include:\n",
    "- Having No Dependents\n",
    "- Having Fiber Optic Internet\n",
    "- Not having Tech support\n",
    "- Not having Online Security\n",
    "- Using Manual Pay\n",
    "### Of those attributes, customers that use Manual Pay have the highest Churn followed by Customers without dependents and customers without online security.\n",
    "### Further exploration revealed that people drivers like customer that have not dependents and customers that use manual payments have more churn than product drivers. Note however that they are more product driver.\n",
    "### If monthly contracts using manual payments are subgrouped, then customers without online security churn more tha customers without dependents\n",
    "### Given the explored subgroups and attributes associated with churn, the recommendation going forward will also consider what is the easiest to change with the least impact to customer. I leaning to toward promoting auto pay to customer without dependents.\n",
    "### Features NOT being used for Modeling:\n",
    "** Most Features Did Not Make a Significant Subgroup ** \n",
    "- Customer ID: Not needed\n",
    "- Gender: No significant subgroup difference between male and female\n",
    "- Partner: No significant subgroup difference between partner status subgroup\n",
    "- Multiple Phone Lines: No sigfnificant subgroup difference between categories\n",
    "- Online Backup: No significant subgroup difference between categories\n",
    "- Device Protection: No significant subgroup difference between categories\n",
    "- Streaming TV: No significant subgroup differnce between categories\n",
    "- Streaming Movies: No significant subgroup difference between categories\n",
    "- Phone Service: No significant churn differnce between categories\n",
    "- Monthly Charges: Unable to differentiate between values\n",
    "- Total Charges: Unable to differentiate between values\n",
    "\n",
    "### Features USED for modeling:\n",
    "** All Features Show Significant Difference in Churn Between Categories **\n",
    "- Dependents: Favored No\n",
    "- Tenure: Most Churn occurs within five months\n",
    "- Tech Support: Favored no\n",
    "- Online Security: Favored No\n",
    "- Contract Type: Baselined to Month-to-Month\n",
    "- Payment Type: Converted to Auto Pay and Manual Pay\n",
    "- Internet Service Type:Favored Fiber Optic"
   ]
  },
  {
   "cell_type": "markdown",
   "id": "8dad55ab",
   "metadata": {},
   "source": [
    "## Modeling"
   ]
  },
  {
   "cell_type": "markdown",
   "id": "e08f884f",
   "metadata": {},
   "source": [
    "### Drop Unusable and Unneeded Columns for Modelingb"
   ]
  },
  {
   "cell_type": "code",
   "execution_count": null,
   "id": "8381b593",
   "metadata": {},
   "outputs": [],
   "source": [
    "drop_cols = [\n",
    "    'customer_id',\n",
    " 'gender',\n",
    "'partner',\n",
    " 'dependents',\n",
    "'phone_service',\n",
    " 'multiple_lines',\n",
    " 'online_security',\n",
    " 'online_backup',\n",
    " 'device_protection',\n",
    " 'tech_support',\n",
    " 'streaming_tv',\n",
    " 'streaming_movies',\n",
    " 'paperless_billing',\n",
    "'churn',\n",
    " 'contract_type',\n",
    " 'internet_service_type',\n",
    " 'payment_type',\n",
    " 'gender_female',\n",
    " 'gender_male',\n",
    "'phone_service_no',\n",
    " 'phone_service_yes',\n",
    " 'multiple_lines_no',\n",
    " 'multiple_lines_no_phone_service',\n",
    " 'multiple_lines_yes',\n",
    " 'online_backup_no',\n",
    " 'online_backup_no_internet_service',\n",
    " 'online_backup_yes',\n",
    " 'device_protection_no',\n",
    " 'device_protection_no_internet_service',\n",
    " 'device_protection_yes',\n",
    "'streaming_tv_no',\n",
    " 'streaming_tv_no_internet_service',\n",
    " 'streaming_tv_yes',\n",
    " 'streaming_movies_no',\n",
    " 'streaming_movies_no_internet_service',\n",
    " 'streaming_movies_yes',\n",
    "'monthly_charges',\n",
    " 'total_charges',\n",
    "'partner_yes',\n",
    " 'dependents_yes',\n",
    "'online_security_no_internet_service',\n",
    "'tech_support_no_internet_service',\n",
    "'paperless_billing_no',\n",
    "'churn_no',\n",
    "'contract_type_two_year',\n",
    "'internet_service_type_none',\n",
    "'payment_type_bank_transfer_(automatic)',\n",
    " 'payment_type_credit_card_(automatic)',\n",
    " 'payment_type_electronic_check',\n",
    " 'payment_type_mailed_check',\n",
    " 'auto_pay']"
   ]
  },
  {
   "cell_type": "code",
   "execution_count": null,
   "id": "4f592c56",
   "metadata": {},
   "outputs": [],
   "source": [
    "train = train.drop(columns=drop_cols)\n",
    "train.columns.to_list()"
   ]
  },
  {
   "cell_type": "code",
   "execution_count": null,
   "id": "e301888d",
   "metadata": {},
   "outputs": [],
   "source": [
    "validate = validate.drop(columns=drop_cols)\n",
    "test = test.drop(columns=drop_cols)"
   ]
  },
  {
   "cell_type": "code",
   "execution_count": 6,
   "id": "e07e1138",
   "metadata": {},
   "outputs": [],
   "source": [
    "# run prep_teco to remove columns for modeling\n",
    "train, validate, test = prep_telco.prep_telco(train,validate,test)"
   ]
  },
  {
   "cell_type": "markdown",
   "id": "5b8ed80d",
   "metadata": {},
   "source": [
    "### Create y_train and X_train sets"
   ]
  },
  {
   "cell_type": "code",
   "execution_count": null,
   "id": "2138d432",
   "metadata": {},
   "outputs": [],
   "source": [
    "X_train = train.drop(columns=['churn_yes'])\n",
    "y_train = train.churn_yes\n",
    "\n",
    "X_validate = validate.drop(columns=['churn_yes'])\n",
    "y_validate = validate.churn_yes\n",
    "\n",
    "X_test = test.drop(columns=['churn_yes'])\n",
    "y_test = test.churn_yes"
   ]
  },
  {
   "cell_type": "code",
   "execution_count": 7,
   "id": "9428d259",
   "metadata": {},
   "outputs": [],
   "source": [
    "# run functino to create x,y versions for train, validate, test\n",
    "X_train, y_train, X_validate, y_validate, X_test, y_test = prep_telco.xy_version(train,validate,test)"
   ]
  },
  {
   "cell_type": "markdown",
   "id": "14a11742",
   "metadata": {},
   "source": [
    "### Select Evaluation Metric (Report.ipynb)"
   ]
  },
  {
   "cell_type": "markdown",
   "id": "9bc7db8f",
   "metadata": {},
   "source": [
    "#### Churn is positive class\n",
    "#### Not Churn is negative class\n",
    "- TP: Predict Churn and the customer is Churn\n",
    "- TN: Predict Not Churn and the customer is Not Churn\n",
    "- FP: Predict Churn and the customer is Not Churn\n",
    "- FN: Predict Not Churn and the customer is Churn\n",
    "#### Emphasize Actuals (Recall) so that if prediction is wrong Telco still has a customer which will increase reatainability"
   ]
  },
  {
   "cell_type": "markdown",
   "id": "84199129",
   "metadata": {},
   "source": [
    "### Evaluate Baseline (Report.ipynb)"
   ]
  },
  {
   "cell_type": "code",
   "execution_count": null,
   "id": "dcd51a7e",
   "metadata": {},
   "outputs": [],
   "source": [
    "# Find Most Frequent Churn Value for Baseline =\n",
    "train.churn_yes.mode() #Most Frequent Value is Zero"
   ]
  },
  {
   "cell_type": "code",
   "execution_count": null,
   "id": "6cb93f6a",
   "metadata": {},
   "outputs": [],
   "source": [
    "# Create Baseline by setting all values to zero\n",
    "baseline = (y_train == 0).mean()\n",
    "baseline"
   ]
  },
  {
   "cell_type": "markdown",
   "id": "5d55d87c",
   "metadata": {},
   "source": [
    "### Develop 3 Models (Report.ipynb)"
   ]
  },
  {
   "cell_type": "markdown",
   "id": "2bf3d272",
   "metadata": {},
   "source": [
    "#### Creat Model 1 - Decision Tree "
   ]
  },
  {
   "cell_type": "code",
   "execution_count": 8,
   "id": "90825b8f",
   "metadata": {},
   "outputs": [],
   "source": [
    "# Using Decision Tree because it is easier to understand\n",
    "# Create Decision Tree Classifier Algorithym Container\n",
    "clf = DecisionTreeClassifier(max_depth=3, random_state=123)\n",
    "\n",
    "# Fit Train Data to Container to make the model\n",
    "clf = clf.fit(X_train, y_train)\n",
    "\n",
    "# Create Prediction Series\n",
    "y_pred_clf = clf.predict(X_train)"
   ]
  },
  {
   "cell_type": "markdown",
   "id": "2f4ec09e",
   "metadata": {},
   "source": [
    "#### Create Model 2 - Random Forest"
   ]
  },
  {
   "cell_type": "code",
   "execution_count": 9,
   "id": "9b1c8164",
   "metadata": {},
   "outputs": [],
   "source": [
    "# Using Random Forest to see if Accuracy and Recall increase\n",
    "# Create Random Forest Classifier Algorithym Container\n",
    "rf = RandomForestClassifier(max_depth=3, random_state=123)\n",
    "\n",
    "# Fit Train Data to Container to make the model\n",
    "rf = rf.fit(X_train, y_train)\n",
    "\n",
    "# Create Prediction Series\n",
    "y_pred_rf = rf.predict(X_train)"
   ]
  },
  {
   "cell_type": "markdown",
   "id": "369f5037",
   "metadata": {},
   "source": [
    "#### Create Model 3 - K-Nearest Neighbor"
   ]
  },
  {
   "cell_type": "code",
   "execution_count": 10,
   "id": "09793e13",
   "metadata": {},
   "outputs": [],
   "source": [
    "# Using KNN to see if Accuracy and Recall increase\n",
    "# Create Decision Tree Classifier Algorithym Container\n",
    "knn = KNeighborsClassifier(n_neighbors=5, weights='uniform')\n",
    "\n",
    "# Fit Train Data to Container to make the model\n",
    "knn = knn.fit(X_train, y_train)\n",
    "\n",
    "# Create Prediction Series\n",
    "y_pred_knn = knn.predict(X_train)"
   ]
  },
  {
   "cell_type": "markdown",
   "id": "2961b4f5",
   "metadata": {},
   "source": [
    "### Evaluate on Train (Report.ipynb)"
   ]
  },
  {
   "cell_type": "markdown",
   "id": "8eee8696",
   "metadata": {},
   "source": [
    "#### Evaluate Model 1 - Decision Tree"
   ]
  },
  {
   "cell_type": "code",
   "execution_count": null,
   "id": "698b1c47",
   "metadata": {},
   "outputs": [],
   "source": [
    "#Confusion Matrix for Model 1\n",
    "labels = sorted(y_train.unique())\n",
    "print('Actual on Left, Predicted on Top')\n",
    "pd.DataFrame(confusion_matrix(y_train, y_pred1), index=labels, columns=labels)"
   ]
  },
  {
   "cell_type": "markdown",
   "id": "2d9b37cd",
   "metadata": {},
   "source": [
    "Confusion Matrix Breakdown\n",
    "- TP: 386\n",
    "- TN: 2737\n",
    "- FP: 160\n",
    "- FN: 660"
   ]
  },
  {
   "cell_type": "code",
   "execution_count": null,
   "id": "35b71fd9",
   "metadata": {},
   "outputs": [],
   "source": [
    "# Create Classification Report for Model 1\n",
    "print(classification_report(y_train, y_pred1))"
   ]
  },
  {
   "cell_type": "code",
   "execution_count": 17,
   "id": "c832fdd4",
   "metadata": {},
   "outputs": [
    {
     "name": "stderr",
     "output_type": "stream",
     "text": [
      "/usr/local/anaconda3/lib/python3.8/site-packages/sklearn/metrics/_classification.py:1245: UndefinedMetricWarning: Precision and F-score are ill-defined and being set to 0.0 in labels with no predicted samples. Use `zero_division` parameter to control this behavior.\n",
      "  _warn_prf(average, modifier, msg_start, len(result))\n",
      "/usr/local/anaconda3/lib/python3.8/site-packages/sklearn/metrics/_classification.py:1245: UndefinedMetricWarning: Precision and F-score are ill-defined and being set to 0.0 in labels with no predicted samples. Use `zero_division` parameter to control this behavior.\n",
      "  _warn_prf(average, modifier, msg_start, len(result))\n",
      "/usr/local/anaconda3/lib/python3.8/site-packages/sklearn/metrics/_classification.py:1245: UndefinedMetricWarning: Precision and F-score are ill-defined and being set to 0.0 in labels with no predicted samples. Use `zero_division` parameter to control this behavior.\n",
      "  _warn_prf(average, modifier, msg_start, len(result))\n"
     ]
    },
    {
     "name": "stdout",
     "output_type": "stream",
     "text": [
      "----max_depth = 1 ------------------------\n",
      " Accuracy Score: 0.7347197565305605 \n",
      " Report :               precision    recall  f1-score   support\n",
      "\n",
      "           0       0.73      1.00      0.85      2897\n",
      "           1       0.00      0.00      0.00      1046\n",
      "\n",
      "    accuracy                           0.73      3943\n",
      "   macro avg       0.37      0.50      0.42      3943\n",
      "weighted avg       0.54      0.73      0.62      3943\n",
      " \n",
      "----max_depth = 2 ------------------------\n",
      " Accuracy Score: 0.7605883844788233 \n",
      " Report :               precision    recall  f1-score   support\n",
      "\n",
      "           0       0.86      0.81      0.83      2897\n",
      "           1       0.54      0.62      0.58      1046\n",
      "\n",
      "    accuracy                           0.76      3943\n",
      "   macro avg       0.70      0.72      0.71      3943\n",
      "weighted avg       0.77      0.76      0.77      3943\n",
      " \n",
      "----max_depth = 3 ------------------------\n",
      " Accuracy Score: 0.792036520415927 \n",
      " Report :               precision    recall  f1-score   support\n",
      "\n",
      "           0       0.81      0.94      0.87      2897\n",
      "           1       0.71      0.37      0.48      1046\n",
      "\n",
      "    accuracy                           0.79      3943\n",
      "   macro avg       0.76      0.66      0.68      3943\n",
      "weighted avg       0.78      0.79      0.77      3943\n",
      " \n",
      "----max_depth = 4 ------------------------\n",
      " Accuracy Score: 0.7981232564037535 \n",
      " Report :               precision    recall  f1-score   support\n",
      "\n",
      "           0       0.83      0.92      0.87      2897\n",
      "           1       0.67      0.47      0.55      1046\n",
      "\n",
      "    accuracy                           0.80      3943\n",
      "   macro avg       0.75      0.69      0.71      3943\n",
      "weighted avg       0.79      0.80      0.79      3943\n",
      " \n",
      "----max_depth = 5 ------------------------\n",
      " Accuracy Score: 0.7981232564037535 \n",
      " Report :               precision    recall  f1-score   support\n",
      "\n",
      "           0       0.83      0.92      0.87      2897\n",
      "           1       0.67      0.47      0.55      1046\n",
      "\n",
      "    accuracy                           0.80      3943\n",
      "   macro avg       0.75      0.69      0.71      3943\n",
      "weighted avg       0.79      0.80      0.79      3943\n",
      " \n",
      "----max_depth = 6 ------------------------\n",
      " Accuracy Score: 0.8072533603854932 \n",
      " Report :               precision    recall  f1-score   support\n",
      "\n",
      "           0       0.85      0.90      0.87      2897\n",
      "           1       0.66      0.56      0.61      1046\n",
      "\n",
      "    accuracy                           0.81      3943\n",
      "   macro avg       0.76      0.73      0.74      3943\n",
      "weighted avg       0.80      0.81      0.80      3943\n",
      " \n",
      "----max_depth = 7 ------------------------\n",
      " Accuracy Score: 0.8161298503677403 \n",
      " Report :               precision    recall  f1-score   support\n",
      "\n",
      "           0       0.86      0.90      0.88      2897\n",
      "           1       0.68      0.58      0.63      1046\n",
      "\n",
      "    accuracy                           0.82      3943\n",
      "   macro avg       0.77      0.74      0.75      3943\n",
      "weighted avg       0.81      0.82      0.81      3943\n",
      " \n",
      "----max_depth = 8 ------------------------\n",
      " Accuracy Score: 0.8244991123510018 \n",
      " Report :               precision    recall  f1-score   support\n",
      "\n",
      "           0       0.86      0.90      0.88      2897\n",
      "           1       0.69      0.61      0.65      1046\n",
      "\n",
      "    accuracy                           0.82      3943\n",
      "   macro avg       0.78      0.76      0.77      3943\n",
      "weighted avg       0.82      0.82      0.82      3943\n",
      " \n",
      "----max_depth = 9 ------------------------\n",
      " Accuracy Score: 0.8392087243215826 \n",
      " Report :               precision    recall  f1-score   support\n",
      "\n",
      "           0       0.87      0.92      0.89      2897\n",
      "           1       0.73      0.63      0.67      1046\n",
      "\n",
      "    accuracy                           0.84      3943\n",
      "   macro avg       0.80      0.77      0.78      3943\n",
      "weighted avg       0.83      0.84      0.84      3943\n",
      " \n",
      "----max_depth = 10 ------------------------\n",
      " Accuracy Score: 0.8549327922901344 \n",
      " Report :               precision    recall  f1-score   support\n",
      "\n",
      "           0       0.89      0.92      0.90      2897\n",
      "           1       0.75      0.67      0.71      1046\n",
      "\n",
      "    accuracy                           0.85      3943\n",
      "   macro avg       0.82      0.80      0.81      3943\n",
      "weighted avg       0.85      0.85      0.85      3943\n",
      " \n",
      "----max_depth = 11 ------------------------\n",
      " Accuracy Score: 0.8714177022571646 \n",
      " Report :               precision    recall  f1-score   support\n",
      "\n",
      "           0       0.90      0.93      0.91      2897\n",
      "           1       0.79      0.71      0.75      1046\n",
      "\n",
      "    accuracy                           0.87      3943\n",
      "   macro avg       0.84      0.82      0.83      3943\n",
      "weighted avg       0.87      0.87      0.87      3943\n",
      " \n",
      "----max_depth = 12 ------------------------\n",
      " Accuracy Score: 0.887648998224702 \n",
      " Report :               precision    recall  f1-score   support\n",
      "\n",
      "           0       0.91      0.94      0.93      2897\n",
      "           1       0.82      0.73      0.78      1046\n",
      "\n",
      "    accuracy                           0.89      3943\n",
      "   macro avg       0.87      0.84      0.85      3943\n",
      "weighted avg       0.89      0.89      0.89      3943\n",
      " \n",
      "----max_depth = 13 ------------------------\n",
      " Accuracy Score: 0.8977935582044129 \n",
      " Report :               precision    recall  f1-score   support\n",
      "\n",
      "           0       0.91      0.95      0.93      2897\n",
      "           1       0.84      0.76      0.80      1046\n",
      "\n",
      "    accuracy                           0.90      3943\n",
      "   macro avg       0.88      0.85      0.86      3943\n",
      "weighted avg       0.90      0.90      0.90      3943\n",
      " \n",
      "----max_depth = 14 ------------------------\n",
      " Accuracy Score: 0.9097134161805732 \n",
      " Report :               precision    recall  f1-score   support\n",
      "\n",
      "           0       0.92      0.96      0.94      2897\n",
      "           1       0.87      0.78      0.82      1046\n",
      "\n",
      "    accuracy                           0.91      3943\n",
      "   macro avg       0.89      0.87      0.88      3943\n",
      "weighted avg       0.91      0.91      0.91      3943\n",
      " \n",
      "----max_depth = 15 ------------------------\n",
      " Accuracy Score: 0.9160537661678925 \n",
      " Report :               precision    recall  f1-score   support\n",
      "\n",
      "           0       0.93      0.96      0.94      2897\n",
      "           1       0.88      0.80      0.83      1046\n",
      "\n",
      "    accuracy                           0.92      3943\n",
      "   macro avg       0.90      0.88      0.89      3943\n",
      "weighted avg       0.91      0.92      0.91      3943\n",
      " \n",
      "----max_depth = 16 ------------------------\n",
      " Accuracy Score: 0.922140502155719 \n",
      " Report :               precision    recall  f1-score   support\n",
      "\n",
      "           0       0.93      0.96      0.95      2897\n",
      "           1       0.89      0.81      0.85      1046\n",
      "\n",
      "    accuracy                           0.92      3943\n",
      "   macro avg       0.91      0.89      0.90      3943\n",
      "weighted avg       0.92      0.92      0.92      3943\n",
      " \n",
      "----max_depth = 17 ------------------------\n",
      " Accuracy Score: 0.9256910981486178 \n",
      " Report :               precision    recall  f1-score   support\n",
      "\n",
      "           0       0.94      0.96      0.95      2897\n",
      "           1       0.89      0.82      0.85      1046\n",
      "\n",
      "    accuracy                           0.93      3943\n",
      "   macro avg       0.91      0.89      0.90      3943\n",
      "weighted avg       0.92      0.93      0.92      3943\n",
      " \n",
      "----max_depth = 18 ------------------------\n",
      " Accuracy Score: 0.9279736241440527 \n",
      " Report :               precision    recall  f1-score   support\n",
      "\n",
      "           0       0.94      0.97      0.95      2897\n",
      "           1       0.90      0.82      0.86      1046\n",
      "\n",
      "    accuracy                           0.93      3943\n",
      "   macro avg       0.92      0.89      0.90      3943\n",
      "weighted avg       0.93      0.93      0.93      3943\n",
      " \n",
      "----max_depth = 19 ------------------------\n",
      " Accuracy Score: 0.9294953081410093 \n",
      " Report :               precision    recall  f1-score   support\n",
      "\n",
      "           0       0.94      0.97      0.95      2897\n",
      "           1       0.90      0.82      0.86      1046\n",
      "\n",
      "    accuracy                           0.93      3943\n",
      "   macro avg       0.92      0.90      0.91      3943\n",
      "weighted avg       0.93      0.93      0.93      3943\n",
      " \n"
     ]
    }
   ],
   "source": [
    "# Test for range of max_depth, found 5 gets recall of .5 and accuracy of .8 without overfit\n",
    "for i in range(1,20):\n",
    "    clf_i = DecisionTreeClassifier(max_depth=i, random_state=123)\n",
    "    clf_i = clf_i.fit(X_train, y_train)\n",
    "    y_pred_clf_i = clf_i.predict(X_train)\n",
    "    score = clf_i.score(X_train, y_train)\n",
    "    report = classification_report(y_train, y_pred_clf_i)\n",
    "    print(f'----max_depth = {i} ------------------------')\n",
    "    print(f' Accuracy Score: {score} ')\n",
    "    print(f' Report : {report} ')"
   ]
  },
  {
   "cell_type": "markdown",
   "id": "e727486d",
   "metadata": {},
   "source": [
    "#### Accuracy better than baseline by .06. Recall is at .37\n",
    "\n",
    "\n",
    "#### Evaluate Model 2 - Random Forest"
   ]
  },
  {
   "cell_type": "code",
   "execution_count": null,
   "id": "43c983b9",
   "metadata": {},
   "outputs": [],
   "source": [
    "##Confusion Matrix for Model 2\n",
    "labels = sorted(y_train.unique())\n",
    "print('Actual on Left, Predicted on Top')\n",
    "pd.DataFrame(confusion_matrix(y_train, y_pred2), index=labels, columns=labels)"
   ]
  },
  {
   "cell_type": "markdown",
   "id": "9d7c546d",
   "metadata": {},
   "source": [
    "Confusion Matrix Breakdown\n",
    "- TP: 336\n",
    "- TN: 2772\n",
    "- FP: 125\n",
    "- FN: 710"
   ]
  },
  {
   "cell_type": "code",
   "execution_count": null,
   "id": "c244b29e",
   "metadata": {},
   "outputs": [],
   "source": [
    "# Create Classification Report for Model 2\n",
    "print(classification_report(y_train, y_pred2))"
   ]
  },
  {
   "cell_type": "markdown",
   "id": "7d602d9b",
   "metadata": {},
   "source": [
    "#### Accuracy is the same as Decision Tree but Recall has droped by .05\n",
    "\n",
    "\n",
    "#### Evaluate Model 3 - K-Nearest Neighbor"
   ]
  },
  {
   "cell_type": "code",
   "execution_count": null,
   "id": "97e4d6fa",
   "metadata": {},
   "outputs": [],
   "source": [
    "##Confusion Matrix for Model 3\n",
    "labels = sorted(y_train.unique())\n",
    "print('Actual on Left, Predicted on Top')\n",
    "pd.DataFrame(confusion_matrix(y_train, y_pred3), index=labels, columns=labels)"
   ]
  },
  {
   "cell_type": "markdown",
   "id": "b92fe422",
   "metadata": {},
   "source": [
    "Confusion Matrix Breakdown\n",
    "- TP: 622\n",
    "- TN: 2657\n",
    "- FP: 240\n",
    "- FN: 424"
   ]
  },
  {
   "cell_type": "code",
   "execution_count": null,
   "id": "2bf18281",
   "metadata": {
    "scrolled": true
   },
   "outputs": [],
   "source": [
    "# Create Classification Report for Model 2\n",
    "print(classification_report(y_train, y_pred3))"
   ]
  },
  {
   "cell_type": "markdown",
   "id": "aed9ba5a",
   "metadata": {},
   "source": [
    "#### Accuracy increased by .04 to .83 and Recall increased .17 to .53"
   ]
  },
  {
   "cell_type": "code",
   "execution_count": 19,
   "id": "b1a7d29a",
   "metadata": {},
   "outputs": [
    {
     "name": "stderr",
     "output_type": "stream",
     "text": [
      "/usr/local/anaconda3/lib/python3.8/site-packages/sklearn/metrics/_classification.py:1245: UndefinedMetricWarning: Precision and F-score are ill-defined and being set to 0.0 in labels with no predicted samples. Use `zero_division` parameter to control this behavior.\n",
      "  _warn_prf(average, modifier, msg_start, len(result))\n",
      "/usr/local/anaconda3/lib/python3.8/site-packages/sklearn/metrics/_classification.py:1245: UndefinedMetricWarning: Precision and F-score are ill-defined and being set to 0.0 in labels with no predicted samples. Use `zero_division` parameter to control this behavior.\n",
      "  _warn_prf(average, modifier, msg_start, len(result))\n",
      "/usr/local/anaconda3/lib/python3.8/site-packages/sklearn/metrics/_classification.py:1245: UndefinedMetricWarning: Precision and F-score are ill-defined and being set to 0.0 in labels with no predicted samples. Use `zero_division` parameter to control this behavior.\n",
      "  _warn_prf(average, modifier, msg_start, len(result))\n"
     ]
    },
    {
     "name": "stdout",
     "output_type": "stream",
     "text": [
      "----max_depth = 1 ------------------------\n",
      "              precision    recall  f1-score   support\n",
      "\n",
      "           0       0.73      1.00      0.85      2897\n",
      "           1       0.00      0.00      0.00      1046\n",
      "\n",
      "    accuracy                           0.73      3943\n",
      "   macro avg       0.37      0.50      0.42      3943\n",
      "weighted avg       0.54      0.73      0.62      3943\n",
      "\n",
      "----max_depth = 2 ------------------------\n",
      "              precision    recall  f1-score   support\n",
      "\n",
      "           0       0.77      0.98      0.86      2897\n",
      "           1       0.79      0.19      0.31      1046\n",
      "\n",
      "    accuracy                           0.77      3943\n",
      "   macro avg       0.78      0.59      0.59      3943\n",
      "weighted avg       0.78      0.77      0.72      3943\n",
      "\n",
      "----max_depth = 3 ------------------------\n",
      "              precision    recall  f1-score   support\n",
      "\n",
      "           0       0.80      0.96      0.87      2897\n",
      "           1       0.74      0.32      0.45      1046\n",
      "\n",
      "    accuracy                           0.79      3943\n",
      "   macro avg       0.77      0.64      0.66      3943\n",
      "weighted avg       0.78      0.79      0.76      3943\n",
      "\n",
      "----max_depth = 4 ------------------------\n",
      "              precision    recall  f1-score   support\n",
      "\n",
      "           0       0.82      0.93      0.87      2897\n",
      "           1       0.69      0.43      0.53      1046\n",
      "\n",
      "    accuracy                           0.80      3943\n",
      "   macro avg       0.76      0.68      0.70      3943\n",
      "weighted avg       0.79      0.80      0.78      3943\n",
      "\n",
      "----max_depth = 5 ------------------------\n",
      "              precision    recall  f1-score   support\n",
      "\n",
      "           0       0.84      0.92      0.87      2897\n",
      "           1       0.69      0.50      0.58      1046\n",
      "\n",
      "    accuracy                           0.81      3943\n",
      "   macro avg       0.76      0.71      0.73      3943\n",
      "weighted avg       0.80      0.81      0.80      3943\n",
      "\n",
      "----max_depth = 6 ------------------------\n",
      "              precision    recall  f1-score   support\n",
      "\n",
      "           0       0.84      0.91      0.87      2897\n",
      "           1       0.68      0.54      0.60      1046\n",
      "\n",
      "    accuracy                           0.81      3943\n",
      "   macro avg       0.76      0.72      0.74      3943\n",
      "weighted avg       0.80      0.81      0.80      3943\n",
      "\n",
      "----max_depth = 7 ------------------------\n",
      "              precision    recall  f1-score   support\n",
      "\n",
      "           0       0.85      0.91      0.88      2897\n",
      "           1       0.70      0.55      0.61      1046\n",
      "\n",
      "    accuracy                           0.82      3943\n",
      "   macro avg       0.77      0.73      0.75      3943\n",
      "weighted avg       0.81      0.82      0.81      3943\n",
      "\n",
      "----max_depth = 8 ------------------------\n",
      "              precision    recall  f1-score   support\n",
      "\n",
      "           0       0.86      0.91      0.89      2897\n",
      "           1       0.71      0.59      0.64      1046\n",
      "\n",
      "    accuracy                           0.83      3943\n",
      "   macro avg       0.79      0.75      0.77      3943\n",
      "weighted avg       0.82      0.83      0.82      3943\n",
      "\n",
      "----max_depth = 9 ------------------------\n",
      "              precision    recall  f1-score   support\n",
      "\n",
      "           0       0.88      0.91      0.89      2897\n",
      "           1       0.73      0.64      0.68      1046\n",
      "\n",
      "    accuracy                           0.84      3943\n",
      "   macro avg       0.80      0.78      0.79      3943\n",
      "weighted avg       0.84      0.84      0.84      3943\n",
      "\n",
      "----max_depth = 10 ------------------------\n",
      "              precision    recall  f1-score   support\n",
      "\n",
      "           0       0.89      0.92      0.91      2897\n",
      "           1       0.76      0.70      0.73      1046\n",
      "\n",
      "    accuracy                           0.86      3943\n",
      "   macro avg       0.83      0.81      0.82      3943\n",
      "weighted avg       0.86      0.86      0.86      3943\n",
      "\n",
      "----max_depth = 11 ------------------------\n",
      "              precision    recall  f1-score   support\n",
      "\n",
      "           0       0.92      0.93      0.92      2897\n",
      "           1       0.80      0.77      0.79      1046\n",
      "\n",
      "    accuracy                           0.89      3943\n",
      "   macro avg       0.86      0.85      0.86      3943\n",
      "weighted avg       0.89      0.89      0.89      3943\n",
      "\n",
      "----max_depth = 12 ------------------------\n",
      "              precision    recall  f1-score   support\n",
      "\n",
      "           0       0.94      0.94      0.94      2897\n",
      "           1       0.83      0.84      0.83      1046\n",
      "\n",
      "    accuracy                           0.91      3943\n",
      "   macro avg       0.89      0.89      0.89      3943\n",
      "weighted avg       0.91      0.91      0.91      3943\n",
      "\n",
      "----max_depth = 13 ------------------------\n",
      "              precision    recall  f1-score   support\n",
      "\n",
      "           0       0.95      0.95      0.95      2897\n",
      "           1       0.86      0.85      0.86      1046\n",
      "\n",
      "    accuracy                           0.92      3943\n",
      "   macro avg       0.90      0.90      0.90      3943\n",
      "weighted avg       0.92      0.92      0.92      3943\n",
      "\n",
      "----max_depth = 14 ------------------------\n",
      "              precision    recall  f1-score   support\n",
      "\n",
      "           0       0.95      0.95      0.95      2897\n",
      "           1       0.86      0.87      0.86      1046\n",
      "\n",
      "    accuracy                           0.93      3943\n",
      "   macro avg       0.90      0.91      0.91      3943\n",
      "weighted avg       0.93      0.93      0.93      3943\n",
      "\n",
      "----max_depth = 15 ------------------------\n",
      "              precision    recall  f1-score   support\n",
      "\n",
      "           0       0.95      0.95      0.95      2897\n",
      "           1       0.87      0.87      0.87      1046\n",
      "\n",
      "    accuracy                           0.93      3943\n",
      "   macro avg       0.91      0.91      0.91      3943\n",
      "weighted avg       0.93      0.93      0.93      3943\n",
      "\n",
      "----max_depth = 16 ------------------------\n",
      "              precision    recall  f1-score   support\n",
      "\n",
      "           0       0.95      0.95      0.95      2897\n",
      "           1       0.87      0.87      0.87      1046\n",
      "\n",
      "    accuracy                           0.93      3943\n",
      "   macro avg       0.91      0.91      0.91      3943\n",
      "weighted avg       0.93      0.93      0.93      3943\n",
      "\n",
      "----max_depth = 17 ------------------------\n",
      "              precision    recall  f1-score   support\n",
      "\n",
      "           0       0.95      0.96      0.95      2897\n",
      "           1       0.88      0.86      0.87      1046\n",
      "\n",
      "    accuracy                           0.93      3943\n",
      "   macro avg       0.91      0.91      0.91      3943\n",
      "weighted avg       0.93      0.93      0.93      3943\n",
      "\n",
      "----max_depth = 18 ------------------------\n",
      "              precision    recall  f1-score   support\n",
      "\n",
      "           0       0.95      0.95      0.95      2897\n",
      "           1       0.87      0.87      0.87      1046\n",
      "\n",
      "    accuracy                           0.93      3943\n",
      "   macro avg       0.91      0.91      0.91      3943\n",
      "weighted avg       0.93      0.93      0.93      3943\n",
      "\n",
      "----max_depth = 19 ------------------------\n",
      "              precision    recall  f1-score   support\n",
      "\n",
      "           0       0.95      0.96      0.95      2897\n",
      "           1       0.88      0.87      0.87      1046\n",
      "\n",
      "    accuracy                           0.93      3943\n",
      "   macro avg       0.91      0.91      0.91      3943\n",
      "weighted avg       0.93      0.93      0.93      3943\n",
      "\n"
     ]
    }
   ],
   "source": [
    "# Test for range of max_depth, found 5 gets recall of .5 and accuracy of .8 without overfit\n",
    "for i in range(1,20):\n",
    "    rf_i = RandomForestClassifier(max_depth=i, random_state=123)\n",
    "    rf_i = rf_i.fit(X_train, y_train)\n",
    "    y_pred_rf_i = rf_i.predict(X_train)\n",
    "    report = classification_report(y_train, y_pred_rf_i)\n",
    "    print(f'----max_depth = {i} ------------------------')\n",
    "    print(report)"
   ]
  },
  {
   "cell_type": "code",
   "execution_count": 21,
   "id": "e3d664ee",
   "metadata": {},
   "outputs": [
    {
     "name": "stdout",
     "output_type": "stream",
     "text": [
      "n_neighbor = 1\n",
      "              precision    recall  f1-score   support\n",
      "\n",
      "           0       0.95      0.93      0.94      2897\n",
      "           1       0.82      0.85      0.84      1046\n",
      "\n",
      "    accuracy                           0.91      3943\n",
      "   macro avg       0.88      0.89      0.89      3943\n",
      "weighted avg       0.91      0.91      0.91      3943\n",
      "\n",
      "n_neighbor = 2\n",
      "              precision    recall  f1-score   support\n",
      "\n",
      "           0       0.82      0.99      0.90      2897\n",
      "           1       0.93      0.42      0.58      1046\n",
      "\n",
      "    accuracy                           0.84      3943\n",
      "   macro avg       0.88      0.70      0.74      3943\n",
      "weighted avg       0.85      0.84      0.81      3943\n",
      "\n",
      "n_neighbor = 3\n",
      "              precision    recall  f1-score   support\n",
      "\n",
      "           0       0.88      0.92      0.90      2897\n",
      "           1       0.75      0.66      0.70      1046\n",
      "\n",
      "    accuracy                           0.85      3943\n",
      "   macro avg       0.82      0.79      0.80      3943\n",
      "weighted avg       0.85      0.85      0.85      3943\n",
      "\n",
      "n_neighbor = 4\n",
      "              precision    recall  f1-score   support\n",
      "\n",
      "           0       0.84      0.96      0.90      2897\n",
      "           1       0.82      0.49      0.61      1046\n",
      "\n",
      "    accuracy                           0.84      3943\n",
      "   macro avg       0.83      0.72      0.75      3943\n",
      "weighted avg       0.83      0.84      0.82      3943\n",
      "\n",
      "n_neighbor = 5\n",
      "              precision    recall  f1-score   support\n",
      "\n",
      "           0       0.87      0.92      0.89      2897\n",
      "           1       0.73      0.62      0.67      1046\n",
      "\n",
      "    accuracy                           0.84      3943\n",
      "   macro avg       0.80      0.77      0.78      3943\n",
      "weighted avg       0.83      0.84      0.83      3943\n",
      "\n",
      "n_neighbor = 6\n",
      "              precision    recall  f1-score   support\n",
      "\n",
      "           0       0.84      0.94      0.89      2897\n",
      "           1       0.75      0.51      0.60      1046\n",
      "\n",
      "    accuracy                           0.82      3943\n",
      "   macro avg       0.79      0.72      0.75      3943\n",
      "weighted avg       0.82      0.82      0.81      3943\n",
      "\n",
      "n_neighbor = 7\n",
      "              precision    recall  f1-score   support\n",
      "\n",
      "           0       0.86      0.91      0.88      2897\n",
      "           1       0.70      0.58      0.64      1046\n",
      "\n",
      "    accuracy                           0.82      3943\n",
      "   macro avg       0.78      0.75      0.76      3943\n",
      "weighted avg       0.82      0.82      0.82      3943\n",
      "\n",
      "n_neighbor = 8\n",
      "              precision    recall  f1-score   support\n",
      "\n",
      "           0       0.84      0.94      0.89      2897\n",
      "           1       0.75      0.50      0.60      1046\n",
      "\n",
      "    accuracy                           0.82      3943\n",
      "   macro avg       0.79      0.72      0.74      3943\n",
      "weighted avg       0.81      0.82      0.81      3943\n",
      "\n",
      "n_neighbor = 9\n",
      "              precision    recall  f1-score   support\n",
      "\n",
      "           0       0.86      0.91      0.88      2897\n",
      "           1       0.70      0.58      0.63      1046\n",
      "\n",
      "    accuracy                           0.82      3943\n",
      "   macro avg       0.78      0.74      0.76      3943\n",
      "weighted avg       0.81      0.82      0.82      3943\n",
      "\n",
      "n_neighbor = 10\n",
      "              precision    recall  f1-score   support\n",
      "\n",
      "           0       0.84      0.93      0.88      2897\n",
      "           1       0.72      0.51      0.60      1046\n",
      "\n",
      "    accuracy                           0.82      3943\n",
      "   macro avg       0.78      0.72      0.74      3943\n",
      "weighted avg       0.81      0.82      0.81      3943\n",
      "\n",
      "n_neighbor = 11\n",
      "              precision    recall  f1-score   support\n",
      "\n",
      "           0       0.85      0.90      0.88      2897\n",
      "           1       0.68      0.57      0.62      1046\n",
      "\n",
      "    accuracy                           0.81      3943\n",
      "   macro avg       0.76      0.73      0.75      3943\n",
      "weighted avg       0.80      0.81      0.81      3943\n",
      "\n",
      "n_neighbor = 12\n",
      "              precision    recall  f1-score   support\n",
      "\n",
      "           0       0.84      0.92      0.88      2897\n",
      "           1       0.70      0.53      0.60      1046\n",
      "\n",
      "    accuracy                           0.81      3943\n",
      "   macro avg       0.77      0.72      0.74      3943\n",
      "weighted avg       0.80      0.81      0.81      3943\n",
      "\n",
      "n_neighbor = 13\n",
      "              precision    recall  f1-score   support\n",
      "\n",
      "           0       0.85      0.90      0.87      2897\n",
      "           1       0.67      0.56      0.61      1046\n",
      "\n",
      "    accuracy                           0.81      3943\n",
      "   macro avg       0.76      0.73      0.74      3943\n",
      "weighted avg       0.80      0.81      0.80      3943\n",
      "\n",
      "n_neighbor = 14\n",
      "              precision    recall  f1-score   support\n",
      "\n",
      "           0       0.84      0.92      0.88      2897\n",
      "           1       0.69      0.51      0.59      1046\n",
      "\n",
      "    accuracy                           0.81      3943\n",
      "   macro avg       0.76      0.71      0.73      3943\n",
      "weighted avg       0.80      0.81      0.80      3943\n",
      "\n",
      "n_neighbor = 15\n",
      "              precision    recall  f1-score   support\n",
      "\n",
      "           0       0.85      0.89      0.87      2897\n",
      "           1       0.65      0.57      0.60      1046\n",
      "\n",
      "    accuracy                           0.80      3943\n",
      "   macro avg       0.75      0.73      0.74      3943\n",
      "weighted avg       0.80      0.80      0.80      3943\n",
      "\n",
      "n_neighbor = 16\n",
      "              precision    recall  f1-score   support\n",
      "\n",
      "           0       0.84      0.90      0.87      2897\n",
      "           1       0.67      0.54      0.59      1046\n",
      "\n",
      "    accuracy                           0.81      3943\n",
      "   macro avg       0.76      0.72      0.73      3943\n",
      "weighted avg       0.80      0.81      0.80      3943\n",
      "\n",
      "n_neighbor = 17\n",
      "              precision    recall  f1-score   support\n",
      "\n",
      "           0       0.85      0.89      0.87      2897\n",
      "           1       0.65      0.56      0.60      1046\n",
      "\n",
      "    accuracy                           0.80      3943\n",
      "   macro avg       0.75      0.73      0.74      3943\n",
      "weighted avg       0.80      0.80      0.80      3943\n",
      "\n",
      "n_neighbor = 18\n",
      "              precision    recall  f1-score   support\n",
      "\n",
      "           0       0.84      0.90      0.87      2897\n",
      "           1       0.66      0.51      0.58      1046\n",
      "\n",
      "    accuracy                           0.80      3943\n",
      "   macro avg       0.75      0.71      0.72      3943\n",
      "weighted avg       0.79      0.80      0.79      3943\n",
      "\n",
      "n_neighbor = 19\n",
      "              precision    recall  f1-score   support\n",
      "\n",
      "           0       0.84      0.90      0.87      2897\n",
      "           1       0.65      0.54      0.59      1046\n",
      "\n",
      "    accuracy                           0.80      3943\n",
      "   macro avg       0.75      0.72      0.73      3943\n",
      "weighted avg       0.79      0.80      0.80      3943\n",
      "\n"
     ]
    }
   ],
   "source": [
    "# Tested Range for neighbors. Shows that 5 neibhors is around best for accuracy and recall\n",
    "for i in range(1,20):\n",
    "    knn = KNeighborsClassifier(n_neighbors=i, weights='uniform')\n",
    "    knn = knn.fit(X_train, y_train)\n",
    "    y_pred = knn.predict(X_train)\n",
    "    report = classification_report(y_train, y_pred)\n",
    "    print(f'n_neighbor = {i}')\n",
    "    print(report)"
   ]
  },
  {
   "cell_type": "markdown",
   "id": "bf890c83",
   "metadata": {},
   "source": [
    "### KNN Model works best with default hyperparameters (5 neighbors) resulting in .59 recall and .83 accuracy\n",
    "\n",
    "\n",
    "### Evaluate on Validate (Report.ipynb)"
   ]
  },
  {
   "cell_type": "markdown",
   "id": "5800f26e",
   "metadata": {},
   "source": [
    "#### Evaluate Validate on Random Forest with max_depth=5"
   ]
  },
  {
   "cell_type": "code",
   "execution_count": null,
   "id": "773e532b",
   "metadata": {},
   "outputs": [],
   "source": [
    "rf5 = RandomForestClassifier(max_depth=5, random_state=123)\n",
    "rf5 = rf.fit(X_train, y_train)\n",
    "y_pred = rf5.predict(X_validate)\n",
    "report = classification_report(y_validate, y_pred)\n",
    "print(report)"
   ]
  },
  {
   "cell_type": "code",
   "execution_count": null,
   "id": "4317ae1d",
   "metadata": {},
   "outputs": [],
   "source": [
    "baseline"
   ]
  },
  {
   "cell_type": "markdown",
   "id": "f27b6f62",
   "metadata": {},
   "source": [
    "#### Random Forest with Max Depth 5 results in .79 Accuracy and .53 Recall, several point lower than train inidicating it is not overfit\n",
    "\n",
    "\n",
    "#### Evaluate Validate on K-Nearest Neighbor with n_neighbor set to 5"
   ]
  },
  {
   "cell_type": "code",
   "execution_count": 20,
   "id": "b98140bb",
   "metadata": {
    "scrolled": true
   },
   "outputs": [
    {
     "name": "stdout",
     "output_type": "stream",
     "text": [
      "              precision    recall  f1-score   support\n",
      "\n",
      "           0       0.84      0.86      0.85      1242\n",
      "           1       0.59      0.53      0.56       449\n",
      "\n",
      "    accuracy                           0.78      1691\n",
      "   macro avg       0.71      0.70      0.70      1691\n",
      "weighted avg       0.77      0.78      0.77      1691\n",
      "\n"
     ]
    }
   ],
   "source": [
    "knn5 = KNeighborsClassifier(n_neighbors=5, weights='uniform')\n",
    "knn5 = knn5.fit(X_train, y_train)\n",
    "y_pred = knn5.predict(X_validate)\n",
    "report = classification_report(y_validate, y_pred)\n",
    "print(report)"
   ]
  },
  {
   "cell_type": "markdown",
   "id": "0ac6376e",
   "metadata": {},
   "source": [
    "#### KNN Model with 5 neighbors using validate set results in .77 accuracy and .51 recall, serveral point lower than train indicating it is not overfit\n",
    "\n",
    "\n",
    "### Evaluate Top Model on Test (Report.ipynb)\n",
    "#### Random Forest beat KNN on both accuracy and recall by .02 each. Going forward with Test"
   ]
  },
  {
   "cell_type": "code",
   "execution_count": null,
   "id": "cbf699aa",
   "metadata": {},
   "outputs": [],
   "source": [
    "# Using Random Forest with max_depth=5 on Test Sample\n",
    "y_pred = rf5.predict(X_test)\n",
    "report = classification_report(y_test, y_pred)\n",
    "print(report)"
   ]
  },
  {
   "cell_type": "markdown",
   "id": "8655d1be",
   "metadata": {},
   "source": [
    "#### Random Forest with max_depth=5 on Test Sample resulted in .80 Accuracy and .58 Recall, near the results of validate"
   ]
  },
  {
   "cell_type": "markdown",
   "id": "e91a8bb0",
   "metadata": {},
   "source": [
    "## Report (Final Notebook) \n",
    "- code commenting (Report.ipynb)\n",
    "- markdown (Report.ipynb)\n",
    "- no errors when running"
   ]
  },
  {
   "cell_type": "markdown",
   "id": "68596f8b",
   "metadata": {},
   "source": [
    "### Written Conclusion Summary (Report.ipynb)\n",
    "Churn is definetly a problem. Out of the 7,043 customers, 1,869 have churned, a rate of 27%. \n",
    "After filtering down subgroups to month-to-month contract, and then focusing on customers using manual pay, I am targeting 2,743 customers of which 1,276 have churned, a 47% churn rate. "
   ]
  },
  {
   "cell_type": "markdown",
   "id": "edef2af3",
   "metadata": {},
   "source": [
    "### Conclusion Recommendations (Report.ipynb)\n",
    "Focus promoting customers on the month to month contract, using manual payment, to convert to auto payment. Auto Pay has 1,132 customers with month-to-month contract using auto pay of which 379 churn, a 33% churn rate. This recommendation has the potential to reduce churn for that subgroup by 14%, retaining 370 more customers."
   ]
  },
  {
   "cell_type": "markdown",
   "id": "71efdfe8",
   "metadata": {},
   "source": [
    "### Conclusion Next steps (Report.ipynb)\n",
    "With more time, I would explore more into how to retain customers past 1 month of tenure. There are 613 customers with 1 month tenure, 380 of which churn, a 62% churn rate."
   ]
  },
  {
   "cell_type": "code",
   "execution_count": null,
   "id": "9a955b10",
   "metadata": {},
   "outputs": [],
   "source": [
    "df.columns"
   ]
  },
  {
   "cell_type": "code",
   "execution_count": null,
   "id": "448abe0c",
   "metadata": {},
   "outputs": [],
   "source": [
    "m2m = df[df['contract_type_month-to-month'] == 1]\n",
    "m2m_mp = m2m[(m2m['payment_type_electronic_check'] == 1) | (m2m['payment_type_mailed_check'] == 1)]\n",
    "m2m_mp.churn_yes.sum()"
   ]
  },
  {
   "cell_type": "code",
   "execution_count": null,
   "id": "2816ce52",
   "metadata": {},
   "outputs": [],
   "source": [
    "m2m = df[df['contract_type_month-to-month'] == 1]\n",
    "m2m_ap = m2m[(m2m['payment_type_credit_card_(automatic)'] == 1) | (m2m['payment_type_bank_transfer_(automatic)'] == 1)]\n",
    "m2m_ap.churn_yes.sum()"
   ]
  },
  {
   "cell_type": "code",
   "execution_count": null,
   "id": "969c45f3",
   "metadata": {},
   "outputs": [],
   "source": [
    "m2m_ap.shape"
   ]
  },
  {
   "cell_type": "markdown",
   "id": "279afc77",
   "metadata": {},
   "source": [
    "## Live Presentation\n",
    "\n",
    "- intro (live)\n",
    "- audience & setting  (live)\n",
    "- content (live)\n",
    "- Verbal Conclusion (findings, next steps, recommendations)  (live) \n",
    "- time (live) "
   ]
  },
  {
   "cell_type": "markdown",
   "id": "f97f62b0",
   "metadata": {},
   "source": [
    "## Deliver Predictions\n",
    "- Deliver predictions (.csv) "
   ]
  }
 ],
 "metadata": {
  "kernelspec": {
   "display_name": "Python 3",
   "language": "python",
   "name": "python3"
  },
  "language_info": {
   "codemirror_mode": {
    "name": "ipython",
    "version": 3
   },
   "file_extension": ".py",
   "mimetype": "text/x-python",
   "name": "python",
   "nbconvert_exporter": "python",
   "pygments_lexer": "ipython3",
   "version": "3.8.8"
  }
 },
 "nbformat": 4,
 "nbformat_minor": 5
}
