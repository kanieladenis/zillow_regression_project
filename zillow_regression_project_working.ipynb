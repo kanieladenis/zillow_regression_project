{
 "cells": [
  {
   "cell_type": "markdown",
   "id": "0c03120d",
   "metadata": {},
   "source": [
    "# <font color ='blue'>Zillow Regression Project - Working Copy"
   ]
  },
  {
   "cell_type": "code",
   "execution_count": 69,
   "id": "a41407df",
   "metadata": {},
   "outputs": [],
   "source": [
    "# import pandas and numpy to start coding\n",
    "import pandas as pd\n",
    "import numpy as np\n",
    "import matplotlib.pyplot as plt\n",
    "import seaborn as sns\n",
    "import scipy.stats as stats\n",
    "\n",
    "# prep methods\n",
    "from sklearn.model_selection import train_test_split\n",
    "\n",
    "# Feature Engineering methods\n",
    "import sklearn.linear_model\n",
    "import sklearn.feature_selection\n",
    "import sklearn.preprocessing\n",
    "\n",
    "# Modeling methods\n",
    "from sklearn.metrics import mean_squared_error\n",
    "from sklearn.linear_model import LinearRegression, LassoLars, TweedieRegressor\n",
    "from sklearn.preprocessing import PolynomialFeatures\n",
    "from sklearn.metrics import explained_variance_score\n",
    "\n",
    "import warnings\n",
    "warnings.filterwarnings(\"ignore\")"
   ]
  },
  {
   "cell_type": "markdown",
   "id": "9adf48be",
   "metadata": {},
   "source": [
    "# <font color = 'red'>Planning"
   ]
  },
  {
   "cell_type": "markdown",
   "id": "02ccaade",
   "metadata": {},
   "source": [
    "### Project Goals\n",
    "\n",
    "- A model that predicts property tax assessed values of single family properties based on 2017 transactions.\n",
    "- Identify ways to make a better model for Zillow.\n",
    "- Create new features out of existing features.\n",
    "- Try non-linear regression model or try a model for each county.\n",
    "\n",
    "\n",
    "### Project Description\n",
    "\n",
    "Deliver:\n",
    "1. Github Repo\n",
    "    - README.md\n",
    "    - Final Report\n",
    "    - Working Notebooks\n",
    "    - Acquire and Prepare Modules\n",
    "    - Misc Artifacts\n",
    "1. Regression Model (Linear or Non-Linear)\n",
    "2. Final Notebook with Recommendation\n",
    "    - 4 Visuals, 2 with stats tests\n",
    "        - Data Context of Target Variable (Distribution of values)\n",
    "    - 3 Best Models (show steps/code to fit/eval/select)\n",
    "    - Visual of how best Model performed\n",
    "3. Working Notebook:\n",
    "    - Reproducible comments\n",
    "    - Exploration with at least two stats test during exploration\n",
    "5. Presentation\n",
    "    - Findings\n",
    "    - Methodologies\n",
    "    - Conclusions\n",
    "\n",
    "### Initial Questions\n",
    "\n",
    "- What are the transactions are in 2017?\n",
    "- What states and counties are the properties located in?\n",
    "- What is the tax rate per county or fips? (might have to combine columns to calcualate)\n",
    "- What is the distribution of tax rates for each county?\n",
    "- What is the distribution of taxes across fips?\n",
    "- What are the drivers of single family property values?\n",
    "- Why do some properties have a much higher value than others when they are located so close to each other?\n",
    "- Why are some properties valued so differently from others when they have nearly the same physical attributes but only differ in location? \n",
    "- Is having 1 bathroom worse than having 2 bedrooms?"
   ]
  },
  {
   "cell_type": "markdown",
   "id": "8ff9f968",
   "metadata": {},
   "source": [
    "### Data Dictionary (Add to README)"
   ]
  },
  {
   "cell_type": "code",
   "execution_count": 70,
   "id": "784d3567",
   "metadata": {},
   "outputs": [
    {
     "data": {
      "text/html": [
       "<div>\n",
       "<style scoped>\n",
       "    .dataframe tbody tr th:only-of-type {\n",
       "        vertical-align: middle;\n",
       "    }\n",
       "\n",
       "    .dataframe tbody tr th {\n",
       "        vertical-align: top;\n",
       "    }\n",
       "\n",
       "    .dataframe thead th {\n",
       "        text-align: right;\n",
       "    }\n",
       "</style>\n",
       "<table border=\"1\" class=\"dataframe\">\n",
       "  <thead>\n",
       "    <tr style=\"text-align: right;\">\n",
       "      <th></th>\n",
       "      <th>Feature</th>\n",
       "      <th>Description</th>\n",
       "    </tr>\n",
       "  </thead>\n",
       "  <tbody>\n",
       "    <tr>\n",
       "      <th>0</th>\n",
       "      <td>'airconditioningtypeid'</td>\n",
       "      <td>Type of cooling system present in the home (i...</td>\n",
       "    </tr>\n",
       "    <tr>\n",
       "      <th>1</th>\n",
       "      <td>'architecturalstyletypeid'</td>\n",
       "      <td>Architectural style of the home (i.e. ranch, ...</td>\n",
       "    </tr>\n",
       "    <tr>\n",
       "      <th>2</th>\n",
       "      <td>'basementsqft'</td>\n",
       "      <td>Finished living area below or partially below...</td>\n",
       "    </tr>\n",
       "    <tr>\n",
       "      <th>3</th>\n",
       "      <td>'bathroomcnt'</td>\n",
       "      <td>Number of bathrooms in home including fractio...</td>\n",
       "    </tr>\n",
       "    <tr>\n",
       "      <th>4</th>\n",
       "      <td>'bedroomcnt'</td>\n",
       "      <td>Number of bedrooms in home</td>\n",
       "    </tr>\n",
       "    <tr>\n",
       "      <th>5</th>\n",
       "      <td>'buildingqualitytypeid'</td>\n",
       "      <td>Overall assessment of condition of the buildi...</td>\n",
       "    </tr>\n",
       "    <tr>\n",
       "      <th>6</th>\n",
       "      <td>'buildingclasstypeid'</td>\n",
       "      <td>The building framing type (steel frame, wood f...</td>\n",
       "    </tr>\n",
       "    <tr>\n",
       "      <th>7</th>\n",
       "      <td>'calculatedbathnbr'</td>\n",
       "      <td>Number of bathrooms in home including fractio...</td>\n",
       "    </tr>\n",
       "    <tr>\n",
       "      <th>8</th>\n",
       "      <td>'decktypeid'</td>\n",
       "      <td>Type of deck (if any) present on parcel</td>\n",
       "    </tr>\n",
       "    <tr>\n",
       "      <th>9</th>\n",
       "      <td>'threequarterbathnbr'</td>\n",
       "      <td>Number of 3/4 bathrooms in house (shower + si...</td>\n",
       "    </tr>\n",
       "    <tr>\n",
       "      <th>10</th>\n",
       "      <td>'finishedfloor1squarefeet'</td>\n",
       "      <td>Size of the finished living area on the first...</td>\n",
       "    </tr>\n",
       "    <tr>\n",
       "      <th>11</th>\n",
       "      <td>'calculatedfinishedsquarefeet'</td>\n",
       "      <td>Calculated total finished living area of the ...</td>\n",
       "    </tr>\n",
       "    <tr>\n",
       "      <th>12</th>\n",
       "      <td>'finishedsquarefeet6'</td>\n",
       "      <td>Base unfinished and finished area</td>\n",
       "    </tr>\n",
       "    <tr>\n",
       "      <th>13</th>\n",
       "      <td>'finishedsquarefeet12'</td>\n",
       "      <td>Finished living area</td>\n",
       "    </tr>\n",
       "    <tr>\n",
       "      <th>14</th>\n",
       "      <td>'finishedsquarefeet13'</td>\n",
       "      <td>Perimeter  living area</td>\n",
       "    </tr>\n",
       "    <tr>\n",
       "      <th>15</th>\n",
       "      <td>'finishedsquarefeet15'</td>\n",
       "      <td>Total area</td>\n",
       "    </tr>\n",
       "    <tr>\n",
       "      <th>16</th>\n",
       "      <td>'finishedsquarefeet50'</td>\n",
       "      <td>Size of the finished living area on the first...</td>\n",
       "    </tr>\n",
       "    <tr>\n",
       "      <th>17</th>\n",
       "      <td>'fips'</td>\n",
       "      <td>Federal Information Processing Standard code ...</td>\n",
       "    </tr>\n",
       "    <tr>\n",
       "      <th>18</th>\n",
       "      <td>'fireplacecnt'</td>\n",
       "      <td>Number of fireplaces in a home (if any)</td>\n",
       "    </tr>\n",
       "    <tr>\n",
       "      <th>19</th>\n",
       "      <td>'fireplaceflag'</td>\n",
       "      <td>Is a fireplace present in this home</td>\n",
       "    </tr>\n",
       "    <tr>\n",
       "      <th>20</th>\n",
       "      <td>'fullbathcnt'</td>\n",
       "      <td>Number of full bathrooms (sink, shower + bath...</td>\n",
       "    </tr>\n",
       "    <tr>\n",
       "      <th>21</th>\n",
       "      <td>'garagecarcnt'</td>\n",
       "      <td>Total number of garages on the lot including ...</td>\n",
       "    </tr>\n",
       "    <tr>\n",
       "      <th>22</th>\n",
       "      <td>'garagetotalsqft'</td>\n",
       "      <td>Total number of square feet of all garages on...</td>\n",
       "    </tr>\n",
       "    <tr>\n",
       "      <th>23</th>\n",
       "      <td>'hashottuborspa'</td>\n",
       "      <td>Does the home have a hot tub or spa</td>\n",
       "    </tr>\n",
       "    <tr>\n",
       "      <th>24</th>\n",
       "      <td>'heatingorsystemtypeid'</td>\n",
       "      <td>Type of home heating system</td>\n",
       "    </tr>\n",
       "    <tr>\n",
       "      <th>25</th>\n",
       "      <td>'latitude'</td>\n",
       "      <td>Latitude of the middle of the parcel multipli...</td>\n",
       "    </tr>\n",
       "    <tr>\n",
       "      <th>26</th>\n",
       "      <td>'longitude'</td>\n",
       "      <td>Longitude of the middle of the parcel multipl...</td>\n",
       "    </tr>\n",
       "    <tr>\n",
       "      <th>27</th>\n",
       "      <td>'lotsizesquarefeet'</td>\n",
       "      <td>Area of the lot in square feet</td>\n",
       "    </tr>\n",
       "    <tr>\n",
       "      <th>28</th>\n",
       "      <td>'numberofstories'</td>\n",
       "      <td>Number of stories or levels the home has</td>\n",
       "    </tr>\n",
       "    <tr>\n",
       "      <th>29</th>\n",
       "      <td>'parcelid'</td>\n",
       "      <td>Unique identifier for parcels (lots)</td>\n",
       "    </tr>\n",
       "    <tr>\n",
       "      <th>30</th>\n",
       "      <td>'poolcnt'</td>\n",
       "      <td>Number of pools on the lot (if any)</td>\n",
       "    </tr>\n",
       "    <tr>\n",
       "      <th>31</th>\n",
       "      <td>'poolsizesum'</td>\n",
       "      <td>Total square footage of all pools on property</td>\n",
       "    </tr>\n",
       "    <tr>\n",
       "      <th>32</th>\n",
       "      <td>'pooltypeid10'</td>\n",
       "      <td>Spa or Hot Tub</td>\n",
       "    </tr>\n",
       "    <tr>\n",
       "      <th>33</th>\n",
       "      <td>'pooltypeid2'</td>\n",
       "      <td>Pool with Spa/Hot Tub</td>\n",
       "    </tr>\n",
       "    <tr>\n",
       "      <th>34</th>\n",
       "      <td>'pooltypeid7'</td>\n",
       "      <td>Pool without hot tub</td>\n",
       "    </tr>\n",
       "    <tr>\n",
       "      <th>35</th>\n",
       "      <td>'propertycountylandusecode'</td>\n",
       "      <td>County land use code i.e. it's zoning at the ...</td>\n",
       "    </tr>\n",
       "    <tr>\n",
       "      <th>36</th>\n",
       "      <td>'propertylandusetypeid'</td>\n",
       "      <td>Type of land use the property is zoned for</td>\n",
       "    </tr>\n",
       "    <tr>\n",
       "      <th>37</th>\n",
       "      <td>'propertyzoningdesc'</td>\n",
       "      <td>Description of the allowed land uses (zoning)...</td>\n",
       "    </tr>\n",
       "    <tr>\n",
       "      <th>38</th>\n",
       "      <td>'rawcensustractandblock'</td>\n",
       "      <td>Census tract and block ID combined - also con...</td>\n",
       "    </tr>\n",
       "    <tr>\n",
       "      <th>39</th>\n",
       "      <td>'censustractandblock'</td>\n",
       "      <td>Census tract and block ID combined - also con...</td>\n",
       "    </tr>\n",
       "    <tr>\n",
       "      <th>40</th>\n",
       "      <td>'regionidcounty'</td>\n",
       "      <td>County in which the property is located</td>\n",
       "    </tr>\n",
       "    <tr>\n",
       "      <th>41</th>\n",
       "      <td>'regionidcity'</td>\n",
       "      <td>City in which the property is located (if any)</td>\n",
       "    </tr>\n",
       "    <tr>\n",
       "      <th>42</th>\n",
       "      <td>'regionidzip'</td>\n",
       "      <td>Zip code in which the property is located</td>\n",
       "    </tr>\n",
       "    <tr>\n",
       "      <th>43</th>\n",
       "      <td>'regionidneighborhood'</td>\n",
       "      <td>Neighborhood in which the property is located</td>\n",
       "    </tr>\n",
       "    <tr>\n",
       "      <th>44</th>\n",
       "      <td>'roomcnt'</td>\n",
       "      <td>Total number of rooms in the principal residence</td>\n",
       "    </tr>\n",
       "    <tr>\n",
       "      <th>45</th>\n",
       "      <td>'storytypeid'</td>\n",
       "      <td>Type of floors in a multi-story house (i.e. b...</td>\n",
       "    </tr>\n",
       "    <tr>\n",
       "      <th>46</th>\n",
       "      <td>'typeconstructiontypeid'</td>\n",
       "      <td>What type of construction material was used t...</td>\n",
       "    </tr>\n",
       "    <tr>\n",
       "      <th>47</th>\n",
       "      <td>'unitcnt'</td>\n",
       "      <td>Number of units the structure is built into (...</td>\n",
       "    </tr>\n",
       "    <tr>\n",
       "      <th>48</th>\n",
       "      <td>'yardbuildingsqft17'</td>\n",
       "      <td>Patio in  yard</td>\n",
       "    </tr>\n",
       "    <tr>\n",
       "      <th>49</th>\n",
       "      <td>'yardbuildingsqft26'</td>\n",
       "      <td>Storage shed/building in yard</td>\n",
       "    </tr>\n",
       "    <tr>\n",
       "      <th>50</th>\n",
       "      <td>'yearbuilt'</td>\n",
       "      <td>The Year the principal residence was built</td>\n",
       "    </tr>\n",
       "    <tr>\n",
       "      <th>51</th>\n",
       "      <td>'taxvaluedollarcnt'</td>\n",
       "      <td>The total tax assessed value of the parcel</td>\n",
       "    </tr>\n",
       "    <tr>\n",
       "      <th>52</th>\n",
       "      <td>'structuretaxvaluedollarcnt'</td>\n",
       "      <td>The assessed value of the built structure on t...</td>\n",
       "    </tr>\n",
       "    <tr>\n",
       "      <th>53</th>\n",
       "      <td>'landtaxvaluedollarcnt'</td>\n",
       "      <td>The assessed value of the land area of the parcel</td>\n",
       "    </tr>\n",
       "    <tr>\n",
       "      <th>54</th>\n",
       "      <td>'taxamount'</td>\n",
       "      <td>The total property tax assessed for that asses...</td>\n",
       "    </tr>\n",
       "    <tr>\n",
       "      <th>55</th>\n",
       "      <td>'assessmentyear'</td>\n",
       "      <td>The year of the property tax assessment</td>\n",
       "    </tr>\n",
       "    <tr>\n",
       "      <th>56</th>\n",
       "      <td>'taxdelinquencyflag'</td>\n",
       "      <td>Property taxes for this parcel are past due as...</td>\n",
       "    </tr>\n",
       "    <tr>\n",
       "      <th>57</th>\n",
       "      <td>'taxdelinquencyyear'</td>\n",
       "      <td>Year for which the unpaid propert taxes were due</td>\n",
       "    </tr>\n",
       "  </tbody>\n",
       "</table>\n",
       "</div>"
      ],
      "text/plain": [
       "                           Feature  \\\n",
       "0          'airconditioningtypeid'   \n",
       "1       'architecturalstyletypeid'   \n",
       "2                   'basementsqft'   \n",
       "3                    'bathroomcnt'   \n",
       "4                     'bedroomcnt'   \n",
       "5          'buildingqualitytypeid'   \n",
       "6            'buildingclasstypeid'   \n",
       "7              'calculatedbathnbr'   \n",
       "8                     'decktypeid'   \n",
       "9            'threequarterbathnbr'   \n",
       "10      'finishedfloor1squarefeet'   \n",
       "11  'calculatedfinishedsquarefeet'   \n",
       "12           'finishedsquarefeet6'   \n",
       "13          'finishedsquarefeet12'   \n",
       "14          'finishedsquarefeet13'   \n",
       "15          'finishedsquarefeet15'   \n",
       "16          'finishedsquarefeet50'   \n",
       "17                          'fips'   \n",
       "18                  'fireplacecnt'   \n",
       "19                 'fireplaceflag'   \n",
       "20                   'fullbathcnt'   \n",
       "21                  'garagecarcnt'   \n",
       "22               'garagetotalsqft'   \n",
       "23                'hashottuborspa'   \n",
       "24         'heatingorsystemtypeid'   \n",
       "25                      'latitude'   \n",
       "26                     'longitude'   \n",
       "27             'lotsizesquarefeet'   \n",
       "28               'numberofstories'   \n",
       "29                      'parcelid'   \n",
       "30                       'poolcnt'   \n",
       "31                   'poolsizesum'   \n",
       "32                  'pooltypeid10'   \n",
       "33                   'pooltypeid2'   \n",
       "34                   'pooltypeid7'   \n",
       "35     'propertycountylandusecode'   \n",
       "36         'propertylandusetypeid'   \n",
       "37            'propertyzoningdesc'   \n",
       "38        'rawcensustractandblock'   \n",
       "39           'censustractandblock'   \n",
       "40                'regionidcounty'   \n",
       "41                  'regionidcity'   \n",
       "42                   'regionidzip'   \n",
       "43          'regionidneighborhood'   \n",
       "44                       'roomcnt'   \n",
       "45                   'storytypeid'   \n",
       "46        'typeconstructiontypeid'   \n",
       "47                       'unitcnt'   \n",
       "48            'yardbuildingsqft17'   \n",
       "49            'yardbuildingsqft26'   \n",
       "50                     'yearbuilt'   \n",
       "51             'taxvaluedollarcnt'   \n",
       "52    'structuretaxvaluedollarcnt'   \n",
       "53         'landtaxvaluedollarcnt'   \n",
       "54                     'taxamount'   \n",
       "55                'assessmentyear'   \n",
       "56            'taxdelinquencyflag'   \n",
       "57            'taxdelinquencyyear'   \n",
       "\n",
       "                                          Description  \n",
       "0    Type of cooling system present in the home (i...  \n",
       "1    Architectural style of the home (i.e. ranch, ...  \n",
       "2    Finished living area below or partially below...  \n",
       "3    Number of bathrooms in home including fractio...  \n",
       "4                         Number of bedrooms in home   \n",
       "5    Overall assessment of condition of the buildi...  \n",
       "6   The building framing type (steel frame, wood f...  \n",
       "7    Number of bathrooms in home including fractio...  \n",
       "8             Type of deck (if any) present on parcel  \n",
       "9    Number of 3/4 bathrooms in house (shower + si...  \n",
       "10   Size of the finished living area on the first...  \n",
       "11   Calculated total finished living area of the ...  \n",
       "12                  Base unfinished and finished area  \n",
       "13                               Finished living area  \n",
       "14                             Perimeter  living area  \n",
       "15                                         Total area  \n",
       "16   Size of the finished living area on the first...  \n",
       "17   Federal Information Processing Standard code ...  \n",
       "18            Number of fireplaces in a home (if any)  \n",
       "19               Is a fireplace present in this home   \n",
       "20   Number of full bathrooms (sink, shower + bath...  \n",
       "21   Total number of garages on the lot including ...  \n",
       "22   Total number of square feet of all garages on...  \n",
       "23                Does the home have a hot tub or spa  \n",
       "24                        Type of home heating system  \n",
       "25   Latitude of the middle of the parcel multipli...  \n",
       "26   Longitude of the middle of the parcel multipl...  \n",
       "27                     Area of the lot in square feet  \n",
       "28           Number of stories or levels the home has  \n",
       "29              Unique identifier for parcels (lots)   \n",
       "30                Number of pools on the lot (if any)  \n",
       "31      Total square footage of all pools on property  \n",
       "32                                     Spa or Hot Tub  \n",
       "33                              Pool with Spa/Hot Tub  \n",
       "34                               Pool without hot tub  \n",
       "35   County land use code i.e. it's zoning at the ...  \n",
       "36         Type of land use the property is zoned for  \n",
       "37   Description of the allowed land uses (zoning)...  \n",
       "38   Census tract and block ID combined - also con...  \n",
       "39   Census tract and block ID combined - also con...  \n",
       "40            County in which the property is located  \n",
       "41     City in which the property is located (if any)  \n",
       "42          Zip code in which the property is located  \n",
       "43      Neighborhood in which the property is located  \n",
       "44   Total number of rooms in the principal residence  \n",
       "45   Type of floors in a multi-story house (i.e. b...  \n",
       "46   What type of construction material was used t...  \n",
       "47   Number of units the structure is built into (...  \n",
       "48                                     Patio in  yard  \n",
       "49                      Storage shed/building in yard  \n",
       "50        The Year the principal residence was built   \n",
       "51         The total tax assessed value of the parcel  \n",
       "52  The assessed value of the built structure on t...  \n",
       "53  The assessed value of the land area of the parcel  \n",
       "54  The total property tax assessed for that asses...  \n",
       "55           The year of the property tax assessment   \n",
       "56  Property taxes for this parcel are past due as...  \n",
       "57  Year for which the unpaid propert taxes were due   "
      ]
     },
     "execution_count": 70,
     "metadata": {},
     "output_type": "execute_result"
    }
   ],
   "source": [
    "# Read Data Dictionary from working directory\n",
    "dd = pd.read_excel('zillow_data_dictionary.xlsx')\n",
    "dd"
   ]
  },
  {
   "cell_type": "markdown",
   "id": "9606164b",
   "metadata": {},
   "source": [
    "# <font color = 'red'> Acquisition (Get and Clean Data)"
   ]
  },
  {
   "cell_type": "markdown",
   "id": "16ba7abd",
   "metadata": {},
   "source": [
    "## <font color = 'red'>Get Data"
   ]
  },
  {
   "cell_type": "markdown",
   "id": "0b779f63",
   "metadata": {},
   "source": [
    "- Added env.py to the repo .gitignore file so env.py won't be pushed to github\n",
    "- Created an env file that contains my username, password, and host address fo the MySQL Server."
   ]
  },
  {
   "cell_type": "code",
   "execution_count": 94,
   "id": "349acee9",
   "metadata": {},
   "outputs": [],
   "source": [
    "# import env file for hostname, username, password, and db_name\n",
    "from env import host, user, password, db_name"
   ]
  },
  {
   "cell_type": "code",
   "execution_count": 95,
   "id": "3708fdfa",
   "metadata": {},
   "outputs": [],
   "source": [
    "# Pass env file authentication to container 'url'\n",
    "url = f'mysql+pymysql://{user}:{password}@{host}/{db_name}'"
   ]
  },
  {
   "cell_type": "markdown",
   "id": "04d5e784",
   "metadata": {},
   "source": [
    "### Pull records of houses with transactions from 2017"
   ]
  },
  {
   "cell_type": "code",
   "execution_count": 96,
   "id": "6b3aa512",
   "metadata": {},
   "outputs": [],
   "source": [
    "# define sql search for all records from all tables\n",
    "sql ='''\n",
    "SELECT prop17.parcelid, prop17.calculatedfinishedsquarefeet,\n",
    "prop17.yearbuilt, prop17.bedroomcnt, prop17.bathroomcnt, prop17.taxvaluedollarcnt,\n",
    "prop17.regionidzip, prop17.regionidneighborhood, prop17.poolcnt,\n",
    "prop17.lotsizesquarefeet, prop17.garagecarcnt, prop17.longitude, prop17.latitude,\n",
    "pred17.transactiondate\n",
    "FROM properties_2017 prop17\n",
    "JOIN predictions_2017 pred17  USING (parcelid)\n",
    "LEFT JOIN propertylandusetype using (propertylandusetypeid)\n",
    "WHERE propertylandusetypeid='261'\n",
    "'''"
   ]
  },
  {
   "cell_type": "markdown",
   "id": "c2dec85b",
   "metadata": {},
   "source": [
    "#### Note: Removed LIKE '2017%' since it resulted in error  for unknown support  for (''')"
   ]
  },
  {
   "cell_type": "markdown",
   "id": "9aa39c5c",
   "metadata": {},
   "source": [
    "### Take Aways:\n",
    "- Identified the following list but limited IAW project guidelines:\n",
    "    - pred17.id, pred17.parcelid, pred17.transactiondate, prop17.calculatedfinishedsquarefeet, \n",
    "prop17.yearbuilt, prop17.bedroomcnt, prop17.bathroomcnt, prop17.taxvaluedollarcnt, prop17.taxamount, \n",
    "prop17.fips, prop17.regionidzip, prop17.lotsizesquarefeet, prop17.poolcnt, prop17.fireplacecnt\n",
    "- Sencond run: added the above columns"
   ]
  },
  {
   "cell_type": "code",
   "execution_count": 97,
   "id": "45507e4d",
   "metadata": {},
   "outputs": [
    {
     "data": {
      "text/html": [
       "<div>\n",
       "<style scoped>\n",
       "    .dataframe tbody tr th:only-of-type {\n",
       "        vertical-align: middle;\n",
       "    }\n",
       "\n",
       "    .dataframe tbody tr th {\n",
       "        vertical-align: top;\n",
       "    }\n",
       "\n",
       "    .dataframe thead th {\n",
       "        text-align: right;\n",
       "    }\n",
       "</style>\n",
       "<table border=\"1\" class=\"dataframe\">\n",
       "  <thead>\n",
       "    <tr style=\"text-align: right;\">\n",
       "      <th></th>\n",
       "      <th>parcelid</th>\n",
       "      <th>calculatedfinishedsquarefeet</th>\n",
       "      <th>yearbuilt</th>\n",
       "      <th>bedroomcnt</th>\n",
       "      <th>bathroomcnt</th>\n",
       "      <th>taxvaluedollarcnt</th>\n",
       "      <th>regionidzip</th>\n",
       "      <th>regionidneighborhood</th>\n",
       "      <th>poolcnt</th>\n",
       "      <th>lotsizesquarefeet</th>\n",
       "      <th>garagecarcnt</th>\n",
       "      <th>longitude</th>\n",
       "      <th>latitude</th>\n",
       "      <th>transactiondate</th>\n",
       "    </tr>\n",
       "  </thead>\n",
       "  <tbody>\n",
       "    <tr>\n",
       "      <th>0</th>\n",
       "      <td>14297519</td>\n",
       "      <td>3100.0</td>\n",
       "      <td>1998.0</td>\n",
       "      <td>4.0</td>\n",
       "      <td>3.5</td>\n",
       "      <td>1023282.0</td>\n",
       "      <td>96978.0</td>\n",
       "      <td>NaN</td>\n",
       "      <td>NaN</td>\n",
       "      <td>4506.0</td>\n",
       "      <td>2.0</td>\n",
       "      <td>-117869207.0</td>\n",
       "      <td>33634931.0</td>\n",
       "      <td>2017-01-01</td>\n",
       "    </tr>\n",
       "    <tr>\n",
       "      <th>1</th>\n",
       "      <td>17052889</td>\n",
       "      <td>1465.0</td>\n",
       "      <td>1967.0</td>\n",
       "      <td>2.0</td>\n",
       "      <td>1.0</td>\n",
       "      <td>464000.0</td>\n",
       "      <td>97099.0</td>\n",
       "      <td>NaN</td>\n",
       "      <td>NaN</td>\n",
       "      <td>12647.0</td>\n",
       "      <td>1.0</td>\n",
       "      <td>-119281531.0</td>\n",
       "      <td>34449266.0</td>\n",
       "      <td>2017-01-01</td>\n",
       "    </tr>\n",
       "    <tr>\n",
       "      <th>2</th>\n",
       "      <td>14186244</td>\n",
       "      <td>1243.0</td>\n",
       "      <td>1962.0</td>\n",
       "      <td>3.0</td>\n",
       "      <td>2.0</td>\n",
       "      <td>564778.0</td>\n",
       "      <td>97078.0</td>\n",
       "      <td>NaN</td>\n",
       "      <td>1.0</td>\n",
       "      <td>8432.0</td>\n",
       "      <td>2.0</td>\n",
       "      <td>-117823170.0</td>\n",
       "      <td>33886168.0</td>\n",
       "      <td>2017-01-01</td>\n",
       "    </tr>\n",
       "    <tr>\n",
       "      <th>3</th>\n",
       "      <td>12177905</td>\n",
       "      <td>2376.0</td>\n",
       "      <td>1970.0</td>\n",
       "      <td>4.0</td>\n",
       "      <td>3.0</td>\n",
       "      <td>145143.0</td>\n",
       "      <td>96330.0</td>\n",
       "      <td>NaN</td>\n",
       "      <td>1.0</td>\n",
       "      <td>13038.0</td>\n",
       "      <td>NaN</td>\n",
       "      <td>-118240722.0</td>\n",
       "      <td>34245180.0</td>\n",
       "      <td>2017-01-01</td>\n",
       "    </tr>\n",
       "    <tr>\n",
       "      <th>4</th>\n",
       "      <td>12095076</td>\n",
       "      <td>2962.0</td>\n",
       "      <td>1950.0</td>\n",
       "      <td>4.0</td>\n",
       "      <td>3.0</td>\n",
       "      <td>773303.0</td>\n",
       "      <td>96293.0</td>\n",
       "      <td>274684.0</td>\n",
       "      <td>1.0</td>\n",
       "      <td>63000.0</td>\n",
       "      <td>NaN</td>\n",
       "      <td>-118179824.0</td>\n",
       "      <td>34145202.0</td>\n",
       "      <td>2017-01-01</td>\n",
       "    </tr>\n",
       "  </tbody>\n",
       "</table>\n",
       "</div>"
      ],
      "text/plain": [
       "   parcelid  calculatedfinishedsquarefeet  yearbuilt  bedroomcnt  bathroomcnt  \\\n",
       "0  14297519                        3100.0     1998.0         4.0          3.5   \n",
       "1  17052889                        1465.0     1967.0         2.0          1.0   \n",
       "2  14186244                        1243.0     1962.0         3.0          2.0   \n",
       "3  12177905                        2376.0     1970.0         4.0          3.0   \n",
       "4  12095076                        2962.0     1950.0         4.0          3.0   \n",
       "\n",
       "   taxvaluedollarcnt  regionidzip  regionidneighborhood  poolcnt  \\\n",
       "0          1023282.0      96978.0                   NaN      NaN   \n",
       "1           464000.0      97099.0                   NaN      NaN   \n",
       "2           564778.0      97078.0                   NaN      1.0   \n",
       "3           145143.0      96330.0                   NaN      1.0   \n",
       "4           773303.0      96293.0              274684.0      1.0   \n",
       "\n",
       "   lotsizesquarefeet  garagecarcnt    longitude    latitude transactiondate  \n",
       "0             4506.0           2.0 -117869207.0  33634931.0      2017-01-01  \n",
       "1            12647.0           1.0 -119281531.0  34449266.0      2017-01-01  \n",
       "2             8432.0           2.0 -117823170.0  33886168.0      2017-01-01  \n",
       "3            13038.0           NaN -118240722.0  34245180.0      2017-01-01  \n",
       "4            63000.0           NaN -118179824.0  34145202.0      2017-01-01  "
      ]
     },
     "execution_count": 97,
     "metadata": {},
     "output_type": "execute_result"
    }
   ],
   "source": [
    "# load zillow data from saved csv or pull from sql server and save to csv\n",
    "import os\n",
    "file = 'zillow_data.csv'\n",
    "if os.path.isfile(file):\n",
    "    df = pd.read_csv(file, index_col=0)\n",
    "else:\n",
    "    df = pd.read_sql(sql,url)\n",
    "    df.to_csv(file)\n",
    "df.head()"
   ]
  },
  {
   "cell_type": "markdown",
   "id": "5e2764fd",
   "metadata": {},
   "source": [
    "### Show df info()"
   ]
  },
  {
   "cell_type": "code",
   "execution_count": 98,
   "id": "349a6908",
   "metadata": {},
   "outputs": [
    {
     "name": "stdout",
     "output_type": "stream",
     "text": [
      "<class 'pandas.core.frame.DataFrame'>\n",
      "RangeIndex: 52442 entries, 0 to 52441\n",
      "Data columns (total 14 columns):\n",
      " #   Column                        Non-Null Count  Dtype  \n",
      "---  ------                        --------------  -----  \n",
      " 0   parcelid                      52442 non-null  int64  \n",
      " 1   calculatedfinishedsquarefeet  52360 non-null  float64\n",
      " 2   yearbuilt                     52326 non-null  float64\n",
      " 3   bedroomcnt                    52442 non-null  float64\n",
      " 4   bathroomcnt                   52442 non-null  float64\n",
      " 5   taxvaluedollarcnt             52441 non-null  float64\n",
      " 6   regionidzip                   52416 non-null  float64\n",
      " 7   regionidneighborhood          19033 non-null  float64\n",
      " 8   poolcnt                       11096 non-null  float64\n",
      " 9   lotsizesquarefeet             52073 non-null  float64\n",
      " 10  garagecarcnt                  18015 non-null  float64\n",
      " 11  longitude                     52442 non-null  float64\n",
      " 12  latitude                      52442 non-null  float64\n",
      " 13  transactiondate               52442 non-null  object \n",
      "dtypes: float64(12), int64(1), object(1)\n",
      "memory usage: 5.6+ MB\n"
     ]
    }
   ],
   "source": [
    "df.info()"
   ]
  },
  {
   "cell_type": "markdown",
   "id": "b692cb13",
   "metadata": {},
   "source": [
    "### Take Aways:\n",
    "- 52.5K records"
   ]
  },
  {
   "cell_type": "code",
   "execution_count": 99,
   "id": "ea008649",
   "metadata": {},
   "outputs": [
    {
     "data": {
      "text/plain": [
       "parcelid                            0\n",
       "calculatedfinishedsquarefeet       82\n",
       "yearbuilt                         116\n",
       "bedroomcnt                          0\n",
       "bathroomcnt                         0\n",
       "taxvaluedollarcnt                   1\n",
       "regionidzip                        26\n",
       "regionidneighborhood            33409\n",
       "poolcnt                         41346\n",
       "lotsizesquarefeet                 369\n",
       "garagecarcnt                    34427\n",
       "longitude                           0\n",
       "latitude                            0\n",
       "transactiondate                     0\n",
       "dtype: int64"
      ]
     },
     "execution_count": 99,
     "metadata": {},
     "output_type": "execute_result"
    }
   ],
   "source": [
    "df.isnull().sum()"
   ]
  },
  {
   "cell_type": "markdown",
   "id": "afc20095",
   "metadata": {},
   "source": [
    "### Take Aways:\n",
    "- Too many nulls in neighborhood, pools, fireplace, garage\n",
    "### What is the range of the transaction date? Found that "
   ]
  },
  {
   "cell_type": "code",
   "execution_count": 100,
   "id": "8cf9d2ce",
   "metadata": {},
   "outputs": [
    {
     "data": {
      "text/plain": [
       "('2017-01-01', '2018-05-25')"
      ]
     },
     "execution_count": 100,
     "metadata": {},
     "output_type": "execute_result"
    }
   ],
   "source": [
    "df.transactiondate.min(), df.transactiondate.max()"
   ]
  },
  {
   "cell_type": "markdown",
   "id": "75da0d08",
   "metadata": {},
   "source": [
    "- Found that 2018 transactions exist\n",
    "### What are the 2018 Transactions?"
   ]
  },
  {
   "cell_type": "code",
   "execution_count": 101,
   "id": "9cdc1494",
   "metadata": {},
   "outputs": [
    {
     "data": {
      "text/html": [
       "<div>\n",
       "<style scoped>\n",
       "    .dataframe tbody tr th:only-of-type {\n",
       "        vertical-align: middle;\n",
       "    }\n",
       "\n",
       "    .dataframe tbody tr th {\n",
       "        vertical-align: top;\n",
       "    }\n",
       "\n",
       "    .dataframe thead th {\n",
       "        text-align: right;\n",
       "    }\n",
       "</style>\n",
       "<table border=\"1\" class=\"dataframe\">\n",
       "  <thead>\n",
       "    <tr style=\"text-align: right;\">\n",
       "      <th></th>\n",
       "      <th>parcelid</th>\n",
       "      <th>calculatedfinishedsquarefeet</th>\n",
       "      <th>yearbuilt</th>\n",
       "      <th>bedroomcnt</th>\n",
       "      <th>bathroomcnt</th>\n",
       "      <th>taxvaluedollarcnt</th>\n",
       "      <th>regionidzip</th>\n",
       "      <th>regionidneighborhood</th>\n",
       "      <th>poolcnt</th>\n",
       "      <th>lotsizesquarefeet</th>\n",
       "      <th>garagecarcnt</th>\n",
       "      <th>longitude</th>\n",
       "      <th>latitude</th>\n",
       "      <th>transactiondate</th>\n",
       "    </tr>\n",
       "  </thead>\n",
       "  <tbody>\n",
       "    <tr>\n",
       "      <th>52441</th>\n",
       "      <td>13083743</td>\n",
       "      <td>1050.0</td>\n",
       "      <td>1960.0</td>\n",
       "      <td>3.0</td>\n",
       "      <td>2.0</td>\n",
       "      <td>259334.0</td>\n",
       "      <td>96488.0</td>\n",
       "      <td>NaN</td>\n",
       "      <td>NaN</td>\n",
       "      <td>5927.0</td>\n",
       "      <td>NaN</td>\n",
       "      <td>-117900894.0</td>\n",
       "      <td>34010864.0</td>\n",
       "      <td>2018-05-25</td>\n",
       "    </tr>\n",
       "  </tbody>\n",
       "</table>\n",
       "</div>"
      ],
      "text/plain": [
       "       parcelid  calculatedfinishedsquarefeet  yearbuilt  bedroomcnt  \\\n",
       "52441  13083743                        1050.0     1960.0         3.0   \n",
       "\n",
       "       bathroomcnt  taxvaluedollarcnt  regionidzip  regionidneighborhood  \\\n",
       "52441          2.0           259334.0      96488.0                   NaN   \n",
       "\n",
       "       poolcnt  lotsizesquarefeet  garagecarcnt    longitude    latitude  \\\n",
       "52441      NaN             5927.0           NaN -117900894.0  34010864.0   \n",
       "\n",
       "      transactiondate  \n",
       "52441      2018-05-25  "
      ]
     },
     "execution_count": 101,
     "metadata": {},
     "output_type": "execute_result"
    }
   ],
   "source": [
    "df[df.transactiondate.str.contains('2018')]"
   ]
  },
  {
   "cell_type": "markdown",
   "id": "b44fa9bf",
   "metadata": {},
   "source": [
    "- Found one record\n",
    "### Remove record from df"
   ]
  },
  {
   "cell_type": "code",
   "execution_count": 102,
   "id": "875a8d90",
   "metadata": {},
   "outputs": [
    {
     "data": {
      "text/html": [
       "<div>\n",
       "<style scoped>\n",
       "    .dataframe tbody tr th:only-of-type {\n",
       "        vertical-align: middle;\n",
       "    }\n",
       "\n",
       "    .dataframe tbody tr th {\n",
       "        vertical-align: top;\n",
       "    }\n",
       "\n",
       "    .dataframe thead th {\n",
       "        text-align: right;\n",
       "    }\n",
       "</style>\n",
       "<table border=\"1\" class=\"dataframe\">\n",
       "  <thead>\n",
       "    <tr style=\"text-align: right;\">\n",
       "      <th></th>\n",
       "      <th>parcelid</th>\n",
       "      <th>calculatedfinishedsquarefeet</th>\n",
       "      <th>yearbuilt</th>\n",
       "      <th>bedroomcnt</th>\n",
       "      <th>bathroomcnt</th>\n",
       "      <th>taxvaluedollarcnt</th>\n",
       "      <th>regionidzip</th>\n",
       "      <th>regionidneighborhood</th>\n",
       "      <th>poolcnt</th>\n",
       "      <th>lotsizesquarefeet</th>\n",
       "      <th>garagecarcnt</th>\n",
       "      <th>longitude</th>\n",
       "      <th>latitude</th>\n",
       "      <th>transactiondate</th>\n",
       "    </tr>\n",
       "  </thead>\n",
       "  <tbody>\n",
       "  </tbody>\n",
       "</table>\n",
       "</div>"
      ],
      "text/plain": [
       "Empty DataFrame\n",
       "Columns: [parcelid, calculatedfinishedsquarefeet, yearbuilt, bedroomcnt, bathroomcnt, taxvaluedollarcnt, regionidzip, regionidneighborhood, poolcnt, lotsizesquarefeet, garagecarcnt, longitude, latitude, transactiondate]\n",
       "Index: []"
      ]
     },
     "execution_count": 102,
     "metadata": {},
     "output_type": "execute_result"
    }
   ],
   "source": [
    "df = df.drop(index=52441)\n",
    "df[df.transactiondate.str.contains('2018')]"
   ]
  },
  {
   "cell_type": "markdown",
   "id": "fdbf0e59",
   "metadata": {},
   "source": [
    "- Confirmed 2018 record was remove"
   ]
  },
  {
   "cell_type": "markdown",
   "id": "96c519d0",
   "metadata": {},
   "source": [
    "### Create Functions to Get Zillow Data"
   ]
  },
  {
   "cell_type": "markdown",
   "id": "f4919b62",
   "metadata": {},
   "source": [
    "## <font color = 'red'> Clean Data"
   ]
  },
  {
   "cell_type": "code",
   "execution_count": 103,
   "id": "50171bdb",
   "metadata": {},
   "outputs": [
    {
     "data": {
      "text/html": [
       "<div>\n",
       "<style scoped>\n",
       "    .dataframe tbody tr th:only-of-type {\n",
       "        vertical-align: middle;\n",
       "    }\n",
       "\n",
       "    .dataframe tbody tr th {\n",
       "        vertical-align: top;\n",
       "    }\n",
       "\n",
       "    .dataframe thead th {\n",
       "        text-align: right;\n",
       "    }\n",
       "</style>\n",
       "<table border=\"1\" class=\"dataframe\">\n",
       "  <thead>\n",
       "    <tr style=\"text-align: right;\">\n",
       "      <th></th>\n",
       "      <th>parcelid</th>\n",
       "      <th>calculatedfinishedsquarefeet</th>\n",
       "      <th>yearbuilt</th>\n",
       "      <th>bedroomcnt</th>\n",
       "      <th>bathroomcnt</th>\n",
       "      <th>taxvaluedollarcnt</th>\n",
       "      <th>regionidzip</th>\n",
       "      <th>regionidneighborhood</th>\n",
       "      <th>poolcnt</th>\n",
       "      <th>lotsizesquarefeet</th>\n",
       "      <th>garagecarcnt</th>\n",
       "      <th>longitude</th>\n",
       "      <th>latitude</th>\n",
       "      <th>transactiondate</th>\n",
       "    </tr>\n",
       "  </thead>\n",
       "  <tbody>\n",
       "    <tr>\n",
       "      <th>0</th>\n",
       "      <td>14297519</td>\n",
       "      <td>3100.0</td>\n",
       "      <td>1998.0</td>\n",
       "      <td>4.0</td>\n",
       "      <td>3.5</td>\n",
       "      <td>1023282.0</td>\n",
       "      <td>96978.0</td>\n",
       "      <td>NaN</td>\n",
       "      <td>NaN</td>\n",
       "      <td>4506.0</td>\n",
       "      <td>2.0</td>\n",
       "      <td>-117869207.0</td>\n",
       "      <td>33634931.0</td>\n",
       "      <td>2017-01-01</td>\n",
       "    </tr>\n",
       "    <tr>\n",
       "      <th>1</th>\n",
       "      <td>17052889</td>\n",
       "      <td>1465.0</td>\n",
       "      <td>1967.0</td>\n",
       "      <td>2.0</td>\n",
       "      <td>1.0</td>\n",
       "      <td>464000.0</td>\n",
       "      <td>97099.0</td>\n",
       "      <td>NaN</td>\n",
       "      <td>NaN</td>\n",
       "      <td>12647.0</td>\n",
       "      <td>1.0</td>\n",
       "      <td>-119281531.0</td>\n",
       "      <td>34449266.0</td>\n",
       "      <td>2017-01-01</td>\n",
       "    </tr>\n",
       "    <tr>\n",
       "      <th>2</th>\n",
       "      <td>14186244</td>\n",
       "      <td>1243.0</td>\n",
       "      <td>1962.0</td>\n",
       "      <td>3.0</td>\n",
       "      <td>2.0</td>\n",
       "      <td>564778.0</td>\n",
       "      <td>97078.0</td>\n",
       "      <td>NaN</td>\n",
       "      <td>1.0</td>\n",
       "      <td>8432.0</td>\n",
       "      <td>2.0</td>\n",
       "      <td>-117823170.0</td>\n",
       "      <td>33886168.0</td>\n",
       "      <td>2017-01-01</td>\n",
       "    </tr>\n",
       "    <tr>\n",
       "      <th>3</th>\n",
       "      <td>12177905</td>\n",
       "      <td>2376.0</td>\n",
       "      <td>1970.0</td>\n",
       "      <td>4.0</td>\n",
       "      <td>3.0</td>\n",
       "      <td>145143.0</td>\n",
       "      <td>96330.0</td>\n",
       "      <td>NaN</td>\n",
       "      <td>1.0</td>\n",
       "      <td>13038.0</td>\n",
       "      <td>NaN</td>\n",
       "      <td>-118240722.0</td>\n",
       "      <td>34245180.0</td>\n",
       "      <td>2017-01-01</td>\n",
       "    </tr>\n",
       "    <tr>\n",
       "      <th>4</th>\n",
       "      <td>12095076</td>\n",
       "      <td>2962.0</td>\n",
       "      <td>1950.0</td>\n",
       "      <td>4.0</td>\n",
       "      <td>3.0</td>\n",
       "      <td>773303.0</td>\n",
       "      <td>96293.0</td>\n",
       "      <td>274684.0</td>\n",
       "      <td>1.0</td>\n",
       "      <td>63000.0</td>\n",
       "      <td>NaN</td>\n",
       "      <td>-118179824.0</td>\n",
       "      <td>34145202.0</td>\n",
       "      <td>2017-01-01</td>\n",
       "    </tr>\n",
       "  </tbody>\n",
       "</table>\n",
       "</div>"
      ],
      "text/plain": [
       "   parcelid  calculatedfinishedsquarefeet  yearbuilt  bedroomcnt  bathroomcnt  \\\n",
       "0  14297519                        3100.0     1998.0         4.0          3.5   \n",
       "1  17052889                        1465.0     1967.0         2.0          1.0   \n",
       "2  14186244                        1243.0     1962.0         3.0          2.0   \n",
       "3  12177905                        2376.0     1970.0         4.0          3.0   \n",
       "4  12095076                        2962.0     1950.0         4.0          3.0   \n",
       "\n",
       "   taxvaluedollarcnt  regionidzip  regionidneighborhood  poolcnt  \\\n",
       "0          1023282.0      96978.0                   NaN      NaN   \n",
       "1           464000.0      97099.0                   NaN      NaN   \n",
       "2           564778.0      97078.0                   NaN      1.0   \n",
       "3           145143.0      96330.0                   NaN      1.0   \n",
       "4           773303.0      96293.0              274684.0      1.0   \n",
       "\n",
       "   lotsizesquarefeet  garagecarcnt    longitude    latitude transactiondate  \n",
       "0             4506.0           2.0 -117869207.0  33634931.0      2017-01-01  \n",
       "1            12647.0           1.0 -119281531.0  34449266.0      2017-01-01  \n",
       "2             8432.0           2.0 -117823170.0  33886168.0      2017-01-01  \n",
       "3            13038.0           NaN -118240722.0  34245180.0      2017-01-01  \n",
       "4            63000.0           NaN -118179824.0  34145202.0      2017-01-01  "
      ]
     },
     "execution_count": 103,
     "metadata": {},
     "output_type": "execute_result"
    }
   ],
   "source": [
    "df.head()"
   ]
  },
  {
   "cell_type": "markdown",
   "id": "970631fd",
   "metadata": {},
   "source": [
    "### Rename columns for Readability"
   ]
  },
  {
   "cell_type": "code",
   "execution_count": 104,
   "id": "b9ea9c03",
   "metadata": {},
   "outputs": [
    {
     "data": {
      "text/plain": [
       "['parcelid',\n",
       " 'calculatedfinishedsquarefeet',\n",
       " 'yearbuilt',\n",
       " 'bedroomcnt',\n",
       " 'bathroomcnt',\n",
       " 'taxvaluedollarcnt',\n",
       " 'regionidzip',\n",
       " 'regionidneighborhood',\n",
       " 'poolcnt',\n",
       " 'lotsizesquarefeet',\n",
       " 'garagecarcnt',\n",
       " 'longitude',\n",
       " 'latitude',\n",
       " 'transactiondate']"
      ]
     },
     "execution_count": 104,
     "metadata": {},
     "output_type": "execute_result"
    }
   ],
   "source": [
    "df.columns.to_list()"
   ]
  },
  {
   "cell_type": "code",
   "execution_count": 105,
   "id": "3f1117cf",
   "metadata": {},
   "outputs": [],
   "source": [
    "# rename columns for readability\n",
    "df = df.rename(columns = {'parcelid':'parcel_id',\n",
    "                          'calculatedfinishedsquarefeet':'area',\n",
    "                          'yearbuilt':'year_built',\n",
    "                          'bedroomcnt':'bedrooms', \n",
    "                          'bathroomcnt':'bathrooms',\n",
    "                          'taxvaluedollarcnt':'tax_value',\n",
    "                          'taxamount':'tax_amount',\n",
    "                          'transactiondate':'transaction_date',\n",
    "                          'regionidzip':'zipcode',\n",
    "                             'regionidneighborhood':'neighborhood',\n",
    "                             'poolcnt':'pools',\n",
    "                             'lotsizesquarefeet':'lot_size',\n",
    "                          'garagecarcnt':'garages'\n",
    "                         })"
   ]
  },
  {
   "cell_type": "markdown",
   "id": "35cbce13",
   "metadata": {},
   "source": [
    "### Check Columns Names Changed"
   ]
  },
  {
   "cell_type": "code",
   "execution_count": 106,
   "id": "426ccd2a",
   "metadata": {},
   "outputs": [
    {
     "data": {
      "text/plain": [
       "Index(['parcel_id', 'area', 'year_built', 'bedrooms', 'bathrooms', 'tax_value',\n",
       "       'zipcode', 'neighborhood', 'pools', 'lot_size', 'garages', 'longitude',\n",
       "       'latitude', 'transaction_date'],\n",
       "      dtype='object')"
      ]
     },
     "execution_count": 106,
     "metadata": {},
     "output_type": "execute_result"
    }
   ],
   "source": [
    "df.columns"
   ]
  },
  {
   "cell_type": "markdown",
   "id": "1d4d7b63",
   "metadata": {},
   "source": [
    "### Dropping transaction_date, and parcel_id columns since it doens't help with explore or modeling"
   ]
  },
  {
   "cell_type": "code",
   "execution_count": 84,
   "id": "ba58cf9b",
   "metadata": {},
   "outputs": [
    {
     "data": {
      "text/plain": [
       "Index(['area', 'year_built', 'bedrooms', 'bathrooms', 'tax_value', 'lot_size',\n",
       "       'garages', 'longitude', 'latitude'],\n",
       "      dtype='object')"
      ]
     },
     "execution_count": 84,
     "metadata": {},
     "output_type": "execute_result"
    }
   ],
   "source": [
    "df = df.drop(columns=['transaction_date', 'parcel_id'])\n",
    "df.columns"
   ]
  },
  {
   "cell_type": "markdown",
   "id": "746e1c36",
   "metadata": {},
   "source": [
    "### Show describe without scientific notation"
   ]
  },
  {
   "cell_type": "code",
   "execution_count": 85,
   "id": "410a27a0",
   "metadata": {
    "scrolled": true
   },
   "outputs": [
    {
     "data": {
      "text/html": [
       "<div>\n",
       "<style scoped>\n",
       "    .dataframe tbody tr th:only-of-type {\n",
       "        vertical-align: middle;\n",
       "    }\n",
       "\n",
       "    .dataframe tbody tr th {\n",
       "        vertical-align: top;\n",
       "    }\n",
       "\n",
       "    .dataframe thead th {\n",
       "        text-align: right;\n",
       "    }\n",
       "</style>\n",
       "<table border=\"1\" class=\"dataframe\">\n",
       "  <thead>\n",
       "    <tr style=\"text-align: right;\">\n",
       "      <th></th>\n",
       "      <th>area</th>\n",
       "      <th>year_built</th>\n",
       "      <th>bedrooms</th>\n",
       "      <th>bathrooms</th>\n",
       "      <th>tax_value</th>\n",
       "      <th>lot_size</th>\n",
       "      <th>garages</th>\n",
       "      <th>longitude</th>\n",
       "      <th>latitude</th>\n",
       "    </tr>\n",
       "  </thead>\n",
       "  <tbody>\n",
       "    <tr>\n",
       "      <th>count</th>\n",
       "      <td>52359</td>\n",
       "      <td>52325</td>\n",
       "      <td>52441</td>\n",
       "      <td>52441</td>\n",
       "      <td>52440</td>\n",
       "      <td>52072</td>\n",
       "      <td>18015</td>\n",
       "      <td>52441</td>\n",
       "      <td>52441</td>\n",
       "    </tr>\n",
       "    <tr>\n",
       "      <th>mean</th>\n",
       "      <td>1922.89</td>\n",
       "      <td>1963.39</td>\n",
       "      <td>3.30068</td>\n",
       "      <td>2.2994</td>\n",
       "      <td>529688</td>\n",
       "      <td>11339.6</td>\n",
       "      <td>1.94899</td>\n",
       "      <td>-1.18194e+08</td>\n",
       "      <td>3.40225e+07</td>\n",
       "    </tr>\n",
       "    <tr>\n",
       "      <th>std</th>\n",
       "      <td>1004.37</td>\n",
       "      <td>23.1336</td>\n",
       "      <td>0.949094</td>\n",
       "      <td>1.02277</td>\n",
       "      <td>751895</td>\n",
       "      <td>86747.6</td>\n",
       "      <td>0.549944</td>\n",
       "      <td>356663</td>\n",
       "      <td>273979</td>\n",
       "    </tr>\n",
       "    <tr>\n",
       "      <th>min</th>\n",
       "      <td>128</td>\n",
       "      <td>1878</td>\n",
       "      <td>0</td>\n",
       "      <td>0</td>\n",
       "      <td>1000</td>\n",
       "      <td>236</td>\n",
       "      <td>0</td>\n",
       "      <td>-1.19475e+08</td>\n",
       "      <td>3.33406e+07</td>\n",
       "    </tr>\n",
       "    <tr>\n",
       "      <th>25%</th>\n",
       "      <td>1268</td>\n",
       "      <td>1950</td>\n",
       "      <td>3</td>\n",
       "      <td>2</td>\n",
       "      <td>193748</td>\n",
       "      <td>5583</td>\n",
       "      <td>2</td>\n",
       "      <td>-1.18401e+08</td>\n",
       "      <td>3.38269e+07</td>\n",
       "    </tr>\n",
       "    <tr>\n",
       "      <th>50%</th>\n",
       "      <td>1659</td>\n",
       "      <td>1961</td>\n",
       "      <td>3</td>\n",
       "      <td>2</td>\n",
       "      <td>373612</td>\n",
       "      <td>6840.5</td>\n",
       "      <td>2</td>\n",
       "      <td>-1.18153e+08</td>\n",
       "      <td>3.40238e+07</td>\n",
       "    </tr>\n",
       "    <tr>\n",
       "      <th>75%</th>\n",
       "      <td>2306</td>\n",
       "      <td>1979</td>\n",
       "      <td>4</td>\n",
       "      <td>3</td>\n",
       "      <td>619301</td>\n",
       "      <td>8798.25</td>\n",
       "      <td>2</td>\n",
       "      <td>-1.17929e+08</td>\n",
       "      <td>3.41872e+07</td>\n",
       "    </tr>\n",
       "    <tr>\n",
       "      <th>max</th>\n",
       "      <td>21929</td>\n",
       "      <td>2016</td>\n",
       "      <td>14</td>\n",
       "      <td>18</td>\n",
       "      <td>4.90612e+07</td>\n",
       "      <td>6.97101e+06</td>\n",
       "      <td>14</td>\n",
       "      <td>-1.17555e+08</td>\n",
       "      <td>3.48188e+07</td>\n",
       "    </tr>\n",
       "  </tbody>\n",
       "</table>\n",
       "</div>"
      ],
      "text/plain": [
       "          area year_built  bedrooms bathrooms    tax_value     lot_size  \\\n",
       "count    52359      52325     52441     52441        52440        52072   \n",
       "mean   1922.89    1963.39   3.30068    2.2994       529688      11339.6   \n",
       "std    1004.37    23.1336  0.949094   1.02277       751895      86747.6   \n",
       "min        128       1878         0         0         1000          236   \n",
       "25%       1268       1950         3         2       193748         5583   \n",
       "50%       1659       1961         3         2       373612       6840.5   \n",
       "75%       2306       1979         4         3       619301      8798.25   \n",
       "max      21929       2016        14        18  4.90612e+07  6.97101e+06   \n",
       "\n",
       "        garages     longitude     latitude  \n",
       "count     18015         52441        52441  \n",
       "mean    1.94899  -1.18194e+08  3.40225e+07  \n",
       "std    0.549944        356663       273979  \n",
       "min           0  -1.19475e+08  3.33406e+07  \n",
       "25%           2  -1.18401e+08  3.38269e+07  \n",
       "50%           2  -1.18153e+08  3.40238e+07  \n",
       "75%           2  -1.17929e+08  3.41872e+07  \n",
       "max          14  -1.17555e+08  3.48188e+07  "
      ]
     },
     "execution_count": 85,
     "metadata": {},
     "output_type": "execute_result"
    }
   ],
   "source": [
    "df.describe().apply(lambda s: s.apply(lambda x: format(x, 'g')))"
   ]
  },
  {
   "cell_type": "markdown",
   "id": "806580cd",
   "metadata": {},
   "source": [
    "### Take Away: \n",
    "- Huge Skew in tax value, area, lot_size\n",
    "- Counts are off in multiple columns\n",
    "- bedrooms and bathroom contain zero\n",
    "### Change Blanks to Nulls"
   ]
  },
  {
   "cell_type": "code",
   "execution_count": 86,
   "id": "5d72d618",
   "metadata": {},
   "outputs": [],
   "source": [
    "df = df.replace('', np.nan)"
   ]
  },
  {
   "cell_type": "markdown",
   "id": "f4f87b5a",
   "metadata": {},
   "source": [
    "### Check for Nulls"
   ]
  },
  {
   "cell_type": "code",
   "execution_count": 87,
   "id": "851f48c8",
   "metadata": {},
   "outputs": [
    {
     "data": {
      "text/plain": [
       "area             82\n",
       "year_built      116\n",
       "bedrooms          0\n",
       "bathrooms         0\n",
       "tax_value         1\n",
       "lot_size        369\n",
       "garages       34426\n",
       "longitude         0\n",
       "latitude          0\n",
       "dtype: int64"
      ]
     },
     "execution_count": 87,
     "metadata": {},
     "output_type": "execute_result"
    }
   ],
   "source": [
    "df.isnull().sum()"
   ]
  },
  {
   "cell_type": "code",
   "execution_count": 88,
   "id": "9e4b2521",
   "metadata": {},
   "outputs": [
    {
     "data": {
      "text/plain": [
       "array([ 4.,  2.,  3.,  6.,  5.,  1.,  7.,  0.,  8.,  9., 14., 11., 12.,\n",
       "       10.])"
      ]
     },
     "execution_count": 88,
     "metadata": {},
     "output_type": "execute_result"
    }
   ],
   "source": [
    "df.bedrooms.unique()"
   ]
  },
  {
   "cell_type": "code",
   "execution_count": 89,
   "id": "69fb5e3c",
   "metadata": {},
   "outputs": [],
   "source": [
    "value_cols = df.drop(columns=['area','year_built','tax_value','lot_size'])"
   ]
  },
  {
   "cell_type": "code",
   "execution_count": 90,
   "id": "2d36bb92",
   "metadata": {},
   "outputs": [
    {
     "name": "stdout",
     "output_type": "stream",
     "text": [
      "----------------bedrooms--------------------\n",
      "3.0     23359\n",
      "4.0     15240\n",
      "2.0      8340\n",
      "5.0      3973\n",
      "6.0       635\n",
      "1.0       612\n",
      "0.0       137\n",
      "7.0       106\n",
      "8.0        24\n",
      "9.0         8\n",
      "12.0        3\n",
      "10.0        2\n",
      "14.0        1\n",
      "11.0        1\n",
      "Name: bedrooms, dtype: int64\n",
      "----------------bathrooms--------------------\n",
      "2.0     21893\n",
      "3.0     10673\n",
      "1.0      9568\n",
      "2.5      3934\n",
      "4.0      2227\n",
      "3.5       918\n",
      "1.5       841\n",
      "5.0       803\n",
      "4.5       687\n",
      "6.0       322\n",
      "5.5       224\n",
      "0.0       121\n",
      "7.0        88\n",
      "8.0        53\n",
      "6.5        47\n",
      "7.5        16\n",
      "9.0        13\n",
      "10.0        5\n",
      "8.5         3\n",
      "11.0        3\n",
      "18.0        1\n",
      "13.0        1\n",
      "Name: bathrooms, dtype: int64\n",
      "----------------garages--------------------\n",
      "2.0     14802\n",
      "1.0      2202\n",
      "3.0       621\n",
      "4.0       254\n",
      "0.0        65\n",
      "5.0        45\n",
      "6.0        13\n",
      "7.0         3\n",
      "10.0        3\n",
      "8.0         2\n",
      "9.0         2\n",
      "14.0        1\n",
      "11.0        1\n",
      "13.0        1\n",
      "Name: garages, dtype: int64\n",
      "----------------longitude--------------------\n",
      "-118249000.0    12\n",
      "-117835000.0     8\n",
      "-117670000.0     7\n",
      "-118172000.0     7\n",
      "-118327000.0     7\n",
      "                ..\n",
      "-118150757.0     1\n",
      "-118488451.0     1\n",
      "-118580912.0     1\n",
      "-118259047.0     1\n",
      "-118265069.0     1\n",
      "Name: longitude, Length: 50764, dtype: int64\n",
      "----------------latitude--------------------\n",
      "34047500.0    12\n",
      "34487900.0     7\n",
      "34101300.0     7\n",
      "33494800.0     7\n",
      "34041200.0     6\n",
      "              ..\n",
      "33906952.0     1\n",
      "34125504.0     1\n",
      "33666716.0     1\n",
      "33874135.0     1\n",
      "33734652.0     1\n",
      "Name: latitude, Length: 50478, dtype: int64\n"
     ]
    }
   ],
   "source": [
    "for col in value_cols:\n",
    "    print(f'----------------{col}--------------------')\n",
    "    print(df[col].value_counts())"
   ]
  },
  {
   "cell_type": "code",
   "execution_count": 91,
   "id": "8433f877",
   "metadata": {},
   "outputs": [
    {
     "data": {
      "text/plain": [
       "area             82\n",
       "year_built      116\n",
       "bedrooms          0\n",
       "bathrooms         0\n",
       "tax_value         1\n",
       "lot_size        369\n",
       "garages       34426\n",
       "longitude         0\n",
       "latitude          0\n",
       "dtype: int64"
      ]
     },
     "execution_count": 91,
     "metadata": {},
     "output_type": "execute_result"
    }
   ],
   "source": [
    "df.isna().sum()"
   ]
  },
  {
   "cell_type": "code",
   "execution_count": 92,
   "id": "faf73954",
   "metadata": {},
   "outputs": [
    {
     "ename": "AttributeError",
     "evalue": "'DataFrame' object has no attribute 'pools'",
     "output_type": "error",
     "traceback": [
      "\u001b[0;31m---------------------------------------------------------------------------\u001b[0m",
      "\u001b[0;31mAttributeError\u001b[0m                            Traceback (most recent call last)",
      "\u001b[0;32m<ipython-input-92-abadce96e9f6>\u001b[0m in \u001b[0;36m<module>\u001b[0;34m\u001b[0m\n\u001b[1;32m      1\u001b[0m \u001b[0;31m# replace pool nan with 0\u001b[0m\u001b[0;34m\u001b[0m\u001b[0;34m\u001b[0m\u001b[0;34m\u001b[0m\u001b[0m\n\u001b[0;32m----> 2\u001b[0;31m \u001b[0mdf\u001b[0m\u001b[0;34m.\u001b[0m\u001b[0mpools\u001b[0m \u001b[0;34m=\u001b[0m \u001b[0mdf\u001b[0m\u001b[0;34m.\u001b[0m\u001b[0mpools\u001b[0m\u001b[0;34m.\u001b[0m\u001b[0mreplace\u001b[0m\u001b[0;34m(\u001b[0m\u001b[0mnp\u001b[0m\u001b[0;34m.\u001b[0m\u001b[0mnan\u001b[0m\u001b[0;34m,\u001b[0m \u001b[0;36m0\u001b[0m\u001b[0;34m)\u001b[0m\u001b[0;34m\u001b[0m\u001b[0;34m\u001b[0m\u001b[0m\n\u001b[0m",
      "\u001b[0;32m/opt/homebrew/anaconda3/lib/python3.8/site-packages/pandas/core/generic.py\u001b[0m in \u001b[0;36m__getattr__\u001b[0;34m(self, name)\u001b[0m\n\u001b[1;32m   5463\u001b[0m             \u001b[0;32mif\u001b[0m \u001b[0mself\u001b[0m\u001b[0;34m.\u001b[0m\u001b[0m_info_axis\u001b[0m\u001b[0;34m.\u001b[0m\u001b[0m_can_hold_identifiers_and_holds_name\u001b[0m\u001b[0;34m(\u001b[0m\u001b[0mname\u001b[0m\u001b[0;34m)\u001b[0m\u001b[0;34m:\u001b[0m\u001b[0;34m\u001b[0m\u001b[0;34m\u001b[0m\u001b[0m\n\u001b[1;32m   5464\u001b[0m                 \u001b[0;32mreturn\u001b[0m \u001b[0mself\u001b[0m\u001b[0;34m[\u001b[0m\u001b[0mname\u001b[0m\u001b[0;34m]\u001b[0m\u001b[0;34m\u001b[0m\u001b[0;34m\u001b[0m\u001b[0m\n\u001b[0;32m-> 5465\u001b[0;31m             \u001b[0;32mreturn\u001b[0m \u001b[0mobject\u001b[0m\u001b[0;34m.\u001b[0m\u001b[0m__getattribute__\u001b[0m\u001b[0;34m(\u001b[0m\u001b[0mself\u001b[0m\u001b[0;34m,\u001b[0m \u001b[0mname\u001b[0m\u001b[0;34m)\u001b[0m\u001b[0;34m\u001b[0m\u001b[0;34m\u001b[0m\u001b[0m\n\u001b[0m\u001b[1;32m   5466\u001b[0m \u001b[0;34m\u001b[0m\u001b[0m\n\u001b[1;32m   5467\u001b[0m     \u001b[0;32mdef\u001b[0m \u001b[0m__setattr__\u001b[0m\u001b[0;34m(\u001b[0m\u001b[0mself\u001b[0m\u001b[0;34m,\u001b[0m \u001b[0mname\u001b[0m\u001b[0;34m:\u001b[0m \u001b[0mstr\u001b[0m\u001b[0;34m,\u001b[0m \u001b[0mvalue\u001b[0m\u001b[0;34m)\u001b[0m \u001b[0;34m->\u001b[0m \u001b[0;32mNone\u001b[0m\u001b[0;34m:\u001b[0m\u001b[0;34m\u001b[0m\u001b[0;34m\u001b[0m\u001b[0m\n",
      "\u001b[0;31mAttributeError\u001b[0m: 'DataFrame' object has no attribute 'pools'"
     ]
    }
   ],
   "source": [
    "# replace pool nan with 0\n",
    "df.pools = df.pools.replace(np.nan, 0)"
   ]
  },
  {
   "cell_type": "code",
   "execution_count": 66,
   "id": "99e9a103",
   "metadata": {},
   "outputs": [
    {
     "data": {
      "text/plain": [
       "0"
      ]
     },
     "execution_count": 66,
     "metadata": {},
     "output_type": "execute_result"
    }
   ],
   "source": [
    "df.pools.isna().sum()"
   ]
  },
  {
   "cell_type": "code",
   "execution_count": null,
   "id": "83a73b1a",
   "metadata": {},
   "outputs": [],
   "source": [
    "# replace"
   ]
  },
  {
   "cell_type": "code",
   "execution_count": null,
   "id": "e5b0471c",
   "metadata": {},
   "outputs": [],
   "source": [
    "### Null are minimal in area year_built, tax_value,zip going to drop"
   ]
  },
  {
   "cell_type": "code",
   "execution_count": null,
   "id": "880b05e3",
   "metadata": {},
   "outputs": [],
   "source": [
    "df = df.dropna()\n",
    "df.isnull().sum()"
   ]
  },
  {
   "cell_type": "markdown",
   "id": "38846d9b",
   "metadata": {},
   "source": [
    "### Nulls are removed\n",
    "### Check Data Typ and change data type from float to int"
   ]
  },
  {
   "cell_type": "code",
   "execution_count": null,
   "id": "0bf0e736",
   "metadata": {},
   "outputs": [],
   "source": [
    "df.info()"
   ]
  },
  {
   "cell_type": "code",
   "execution_count": null,
   "id": "7ab4c466",
   "metadata": {},
   "outputs": [],
   "source": [
    "df = df.astype('int')"
   ]
  },
  {
   "cell_type": "markdown",
   "id": "5bf228ac",
   "metadata": {},
   "source": [
    "### Confirm Data Type Changed to Integer"
   ]
  },
  {
   "cell_type": "code",
   "execution_count": null,
   "id": "0da464e9",
   "metadata": {},
   "outputs": [],
   "source": [
    "df.info()"
   ]
  },
  {
   "cell_type": "markdown",
   "id": "387f9ba8",
   "metadata": {},
   "source": [
    "### Data Type changed to integer\n",
    "## Visualizing Distributions and Outliers"
   ]
  },
  {
   "cell_type": "markdown",
   "id": "82046533",
   "metadata": {},
   "source": [
    "### Plot Histograms"
   ]
  },
  {
   "cell_type": "code",
   "execution_count": null,
   "id": "47e8dc76",
   "metadata": {
    "scrolled": false
   },
   "outputs": [],
   "source": [
    "plt.figure(figsize=(15, 5))\n",
    "\n",
    "# List of columns\n",
    "cols = [col for col in df.columns.drop(['fips']).to_list()]\n",
    "\n",
    "for i, col in enumerate(cols,1):\n",
    "\n",
    "    # i starts at 0, but plot nos should start at 1\n",
    "    plot_number = i\n",
    "\n",
    "    # Create subplot.\n",
    "    plt.subplot(1, len(cols), plot_number)\n",
    "\n",
    "    # Title with column name.\n",
    "    plt.title(col)\n",
    "\n",
    "    # Display histogram for column.\n",
    "    df[col].hist()\n",
    "\n",
    "    # Hide gridlines.\n",
    "    plt.grid()\n",
    "    \n",
    "    # turn off scientific notation\n",
    "    #plt.ticklabel_format(useOffset=False)\n",
    "    \n",
    "plt.show()"
   ]
  },
  {
   "cell_type": "markdown",
   "id": "2145845e",
   "metadata": {},
   "source": [
    "### Take Aways\n",
    "- x axis range is showing with no values meaning they are skewed\n",
    "- tax_value has sever skew since its x-axis got to 1e7 \n",
    "- area has skew"
   ]
  },
  {
   "cell_type": "markdown",
   "id": "81ea64ef",
   "metadata": {},
   "source": [
    "### Plot Box Plots"
   ]
  },
  {
   "cell_type": "code",
   "execution_count": null,
   "id": "522fa2f9",
   "metadata": {},
   "outputs": [],
   "source": [
    "# plot box plots for columns except fips\n",
    "plt.figure(figsize=(15,8))\n",
    "plt.ticklabel_format(useOffset=False, style='plain')\n",
    "sns.boxplot(data=df.drop(columns=['fips']))\n",
    "plt.show()"
   ]
  },
  {
   "cell_type": "markdown",
   "id": "a5a82f18",
   "metadata": {},
   "source": [
    "### Take Aways\n",
    "- tax_value has a severe skew making the other columsn unreadable"
   ]
  },
  {
   "cell_type": "markdown",
   "id": "6498564f",
   "metadata": {},
   "source": [
    "### Visualize Columns with Larger Box Plots"
   ]
  },
  {
   "cell_type": "code",
   "execution_count": null,
   "id": "2ebfac84",
   "metadata": {},
   "outputs": [],
   "source": [
    "plt.figure(figsize=(15, 20))\n",
    "\n",
    "# List of columns\n",
    "cols = [col for col in df.columns.drop(['fips']).to_list()]\n",
    "\n",
    "for i, col in enumerate(cols,1):\n",
    "\n",
    "    # i starts at 0, but plot nos should start at 1\n",
    "    plot_number = i\n",
    "\n",
    "    # Create subplot.\n",
    "    plt.subplot(1, len(cols), plot_number)\n",
    "\n",
    "    # Title with column name.\n",
    "    plt.title(col)\n",
    "\n",
    "    # Display histogram for column.\n",
    "    sns.boxplot(data=df[col])\n",
    "\n",
    "    # Hide gridlines.\n",
    "    plt.grid()\n",
    "    \n",
    "    # turn off scientific notation\n",
    "    #plt.ticklabel_format(useOffset=False)\n",
    "    \n",
    "plt.show()"
   ]
  },
  {
   "cell_type": "markdown",
   "id": "05fd57b8",
   "metadata": {},
   "source": [
    "### Take Aways\n",
    "- Lager Plot Boxesshow many outliers with a huge skew for tax_value"
   ]
  },
  {
   "cell_type": "markdown",
   "id": "0e7fa131",
   "metadata": {},
   "source": [
    "# <font color = 'red'>Prep Data (Tidy, Wrangle, Split)"
   ]
  },
  {
   "cell_type": "markdown",
   "id": "c5ebeef4",
   "metadata": {},
   "source": [
    "## Tidy Data\n",
    "### Remove Outliers"
   ]
  },
  {
   "cell_type": "markdown",
   "id": "6eb7ae70",
   "metadata": {},
   "source": [
    "### Create List of columns to remove outliers from"
   ]
  },
  {
   "cell_type": "code",
   "execution_count": null,
   "id": "aded6bf2",
   "metadata": {},
   "outputs": [],
   "source": [
    "cols_list = df.drop(columns='fips')\n",
    "cols_list.head()"
   ]
  },
  {
   "cell_type": "markdown",
   "id": "9215da3a",
   "metadata": {},
   "source": [
    "### Check Shape and Row Count"
   ]
  },
  {
   "cell_type": "code",
   "execution_count": null,
   "id": "a97b2d43",
   "metadata": {
    "scrolled": true
   },
   "outputs": [],
   "source": [
    "df.shape"
   ]
  },
  {
   "cell_type": "markdown",
   "id": "c1a3df1f",
   "metadata": {},
   "source": [
    "### Find quartile points for upper / lower bounds and remove outliers"
   ]
  },
  {
   "cell_type": "code",
   "execution_count": null,
   "id": "196d9ec4",
   "metadata": {},
   "outputs": [],
   "source": [
    " for col in cols_list:\n",
    "\n",
    "        q1, q3 = df[col].quantile([.25, .75])  # get quartiles\n",
    "        \n",
    "        iqr = q3 - q1   # calculate interquartile range\n",
    "        \n",
    "        upper_bound = q3 + 2 * iqr   # get upper bound\n",
    "        lower_bound = q1 - 2 * iqr   # get lower bound\n",
    "\n",
    "        # return dataframe without outliers\n",
    "        \n",
    "        df = df[(df[col] > lower_bound) & (df[col] < upper_bound)]"
   ]
  },
  {
   "cell_type": "markdown",
   "id": "e005f196",
   "metadata": {},
   "source": [
    "\n",
    "### Check shape and confirmed lost around 5K records"
   ]
  },
  {
   "cell_type": "code",
   "execution_count": null,
   "id": "3400bc3e",
   "metadata": {},
   "outputs": [],
   "source": [
    "df.shape"
   ]
  },
  {
   "cell_type": "markdown",
   "id": "cd0589e2",
   "metadata": {},
   "source": [
    "### Display Box Plots to visualize new ranges"
   ]
  },
  {
   "cell_type": "code",
   "execution_count": null,
   "id": "22e815f3",
   "metadata": {},
   "outputs": [],
   "source": [
    "plt.figure(figsize=(15, 20))\n",
    "\n",
    "# List of columns\n",
    "cols = [col for col in df.columns.drop(['fips']).to_list()]\n",
    "\n",
    "for i, col in enumerate(cols,1):\n",
    "\n",
    "    # i starts at 0, but plot nos should start at 1\n",
    "    plot_number = i\n",
    "\n",
    "    # Create subplot.\n",
    "    plt.subplot(1, len(cols), plot_number)\n",
    "\n",
    "    # Title with column name.\n",
    "    plt.title(col)\n",
    "\n",
    "    # Display histogram for column.\n",
    "    sns.boxplot(data=df[col])\n",
    "\n",
    "    # Hide gridlines.\n",
    "    plt.grid()\n",
    "    \n",
    "    # turn off scientific notation\n",
    "    #plt.ticklabel_format(useOffset=False)\n",
    "    \n",
    "plt.show()"
   ]
  },
  {
   "cell_type": "markdown",
   "id": "fd3779a1",
   "metadata": {},
   "source": [
    "### Take Away:\n",
    "- Box Plot outliers are more visual and boxes are clear\n",
    "### Display historgrams to visualize distributions"
   ]
  },
  {
   "cell_type": "code",
   "execution_count": null,
   "id": "12ce9297",
   "metadata": {},
   "outputs": [],
   "source": [
    "plt.figure(figsize=(15, 5))\n",
    "\n",
    "# List of columns\n",
    "cols = [col for col in df.columns.drop(['fips']).to_list()]\n",
    "\n",
    "for i, col in enumerate(cols,1):\n",
    "\n",
    "    # i starts at 0, but plot nos should start at 1\n",
    "    plot_number = i\n",
    "\n",
    "    # Create subplot.\n",
    "    plt.subplot(1, len(cols), plot_number)\n",
    "\n",
    "    # Title with column name.\n",
    "    plt.title(col)\n",
    "\n",
    "    # Display histogram for column.\n",
    "    df[col].hist()\n",
    "\n",
    "    # Hide gridlines.\n",
    "    plt.grid()\n",
    "    \n",
    "    # turn off scientific notation\n",
    "    #plt.ticklabel_format(useOffset=False)\n",
    "    \n",
    "plt.show()"
   ]
  },
  {
   "cell_type": "markdown",
   "id": "a5c7e027",
   "metadata": {},
   "source": [
    "### Take Away:\n",
    "- Distribution looks good, no more blanks along the x-axis\n",
    "- End with 47.5K records"
   ]
  },
  {
   "cell_type": "markdown",
   "id": "420b9d8d",
   "metadata": {},
   "source": [
    "## Univariate Analysis"
   ]
  },
  {
   "cell_type": "markdown",
   "id": "05b3dda0",
   "metadata": {},
   "source": [
    "### Closer look at columns with histograph"
   ]
  },
  {
   "cell_type": "code",
   "execution_count": null,
   "id": "1530ee83",
   "metadata": {},
   "outputs": [],
   "source": [
    "for col in cols_list:\n",
    "    plt.figure(figsize=(15,5))\n",
    "    plt.hist(df[col])\n",
    "    plt.title(col)\n"
   ]
  },
  {
   "cell_type": "code",
   "execution_count": null,
   "id": "8d79131d",
   "metadata": {},
   "outputs": [],
   "source": [
    "df.describe().apply(lambda s: s.apply(lambda x: format(x, 'g')))"
   ]
  },
  {
   "cell_type": "code",
   "execution_count": null,
   "id": "0fcccd63",
   "metadata": {},
   "outputs": [],
   "source": [
    "df.bedrooms.value_counts()"
   ]
  },
  {
   "cell_type": "code",
   "execution_count": null,
   "id": "1516a8b8",
   "metadata": {},
   "outputs": [],
   "source": [
    "df.bathrooms.value_counts()"
   ]
  },
  {
   "cell_type": "code",
   "execution_count": null,
   "id": "0b6419a8",
   "metadata": {},
   "outputs": [],
   "source": [
    "df.fips.value_counts()"
   ]
  },
  {
   "cell_type": "markdown",
   "id": "38adcccf",
   "metadata": {},
   "source": [
    "## Data Context\n",
    "- 47.5K records\n",
    "- lowest tax_value is 1K\n",
    "- highest tax_value is 1.37M\n",
    "- mean tax_value is about 400K\n",
    "- bedroom counts: 2,3,4,5\n",
    "- bathroom counts: 1,2,3,4\n",
    "- fips (county): 6037 (Los Angeles County),6059 (Orange County) , 6111 (Ventura County)"
   ]
  },
  {
   "cell_type": "markdown",
   "id": "7faad9e9",
   "metadata": {},
   "source": [
    "## Split Data"
   ]
  },
  {
   "cell_type": "code",
   "execution_count": null,
   "id": "310b6b4b",
   "metadata": {},
   "outputs": [],
   "source": [
    " # train/validate/test split\n",
    "train_validate, test = train_test_split(df, test_size=.2, random_state=123)\n",
    "train, validate = train_test_split(train_validate, test_size=.3, random_state=123)"
   ]
  },
  {
   "cell_type": "code",
   "execution_count": null,
   "id": "37107759",
   "metadata": {},
   "outputs": [],
   "source": [
    "train.shape, validate.shape, test.shape"
   ]
  },
  {
   "cell_type": "markdown",
   "id": "26daad51",
   "metadata": {},
   "source": [
    "# <font color ='red'> Exploration and Pre-Processing"
   ]
  },
  {
   "cell_type": "markdown",
   "id": "344b1c78",
   "metadata": {},
   "source": [
    "## Explore Train Data"
   ]
  },
  {
   "cell_type": "markdown",
   "id": "3cd8c2d4",
   "metadata": {},
   "source": [
    "### What are the questions:\n",
    "- What are the transactions are in 2017?\n",
    "    - Started with 52.5K houses, removed 5K for outliers/nulls, 47.5K houses remaining\n",
    "- What states and counties are the properties located in?\n",
    "    - California,. Counties: Los Angeles, Ventura, Orange\n",
    "- What is the tax rate per county? (might have to combine columns to calcualate)\n",
    "    - Los Angele County Tax Rate: 1.42%\n",
    "    - Orange County Tax Rate: 1.21%\n",
    "    - Vetura County Tax Rate: 1.18%\n",
    "- What is the distribution of tax_value for each county?\n",
    "    - LA County has the most houses with most of those peaking between 100-300K\n",
    "    - Ventura and Orange County have less houses and peak between 300-500K\n",
    "- What are the drivers of single family property values?\n",
    "    - Drivers indicated: Area, Bathrooms, Bedrooms\n",
    "- Why do some properties have a much higher value than others when they are located so close to each other?\n",
    "    - ???\n",
    "- Why are some properties valued so differently from others when they have nearly the same physical attributes but only differ in location? \n",
    "    - ???\n",
    "- Is having 1 bathroom worse than having 2 bedrooms?\n",
    "    - Bathroom seems to be more important than bedrooms"
   ]
  },
  {
   "cell_type": "markdown",
   "id": "22bf1fe7",
   "metadata": {},
   "source": [
    "### What is the tax rate per county?"
   ]
  },
  {
   "cell_type": "code",
   "execution_count": null,
   "id": "1dbedc3d",
   "metadata": {},
   "outputs": [],
   "source": [
    "((df[df.fips==6037].tax_amount) / (df[df.fips==6037].tax_value)).mean()"
   ]
  },
  {
   "cell_type": "code",
   "execution_count": null,
   "id": "9c0abd84",
   "metadata": {},
   "outputs": [],
   "source": [
    "((df[df.fips==6059].tax_amount) / (df[df.fips==6059].tax_value)).mean()"
   ]
  },
  {
   "cell_type": "code",
   "execution_count": null,
   "id": "39577059",
   "metadata": {},
   "outputs": [],
   "source": [
    "((df[df.fips==6111].tax_amount) / (df[df.fips==6111].tax_value)).mean()"
   ]
  },
  {
   "cell_type": "markdown",
   "id": "5bd769ef",
   "metadata": {},
   "source": [
    "## Multivariate Analysis"
   ]
  },
  {
   "cell_type": "markdown",
   "id": "c70e5e6c",
   "metadata": {},
   "source": [
    "### What is the distribution of tax_value across counties\n",
    "### Show Average Tax Amounts across Counties"
   ]
  },
  {
   "cell_type": "code",
   "execution_count": null,
   "id": "32a92b84",
   "metadata": {},
   "outputs": [],
   "source": [
    "sns.barplot(x=df.fips, y=df.tax_amount)"
   ]
  },
  {
   "cell_type": "markdown",
   "id": "3b9dc1dd",
   "metadata": {},
   "source": [
    "### Notes:\n",
    "- Tax Amounts across counties don't have significant difference\n",
    "### Shows Average Tax Value Across Counties"
   ]
  },
  {
   "cell_type": "code",
   "execution_count": null,
   "id": "d52d3272",
   "metadata": {},
   "outputs": [],
   "source": [
    "sns.barplot(x=df.fips, y=df.tax_value)"
   ]
  },
  {
   "cell_type": "markdown",
   "id": "a39eff74",
   "metadata": {},
   "source": [
    "### Notes:\n",
    "- No significant differnce of tax values between counties however 6037 does drop\n",
    "### What is the distribution of Value for each County"
   ]
  },
  {
   "cell_type": "code",
   "execution_count": null,
   "id": "47c3da6e",
   "metadata": {},
   "outputs": [],
   "source": [
    "plt.figure(figsize=(15,5))\n",
    "sns.displot(x=train.tax_value, hue=train.fips)"
   ]
  },
  {
   "cell_type": "markdown",
   "id": "63df58aa",
   "metadata": {},
   "source": [
    "### Note:\n",
    "- In County 6037, More houses are around 100-300K\n",
    "- In other counties, most house around 400K\n",
    "\n",
    "### What is the tax amount distribution across counties?"
   ]
  },
  {
   "cell_type": "markdown",
   "id": "c55c6241",
   "metadata": {},
   "source": [
    "### Note:\n",
    "- county 6037, most around 3K\n",
    "- other counties, most around 4-5K"
   ]
  },
  {
   "cell_type": "markdown",
   "id": "3cf3aca3",
   "metadata": {},
   "source": [
    "### Use Pair Plot to find correlation"
   ]
  },
  {
   "cell_type": "code",
   "execution_count": null,
   "id": "1c5ef40c",
   "metadata": {},
   "outputs": [],
   "source": [
    "#sns.pairplot(train)"
   ]
  },
  {
   "cell_type": "markdown",
   "id": "15ce3032",
   "metadata": {},
   "source": [
    "### Notes:\n",
    "- Nothing siginficant to show\n",
    "### Show Heatmap to find correlation between columns"
   ]
  },
  {
   "cell_type": "code",
   "execution_count": null,
   "id": "9eff21d7",
   "metadata": {},
   "outputs": [],
   "source": [
    "corr_table = train.drop(columns=['fips']).corr()\n",
    "plt.figure(figsize=(10,8))\n",
    "sns.heatmap(corr_table, cmap='Purples', annot=True, linewidth=0.5, mask= np.triu(corr_table))"
   ]
  },
  {
   "cell_type": "markdown",
   "id": "7ab5f6d5",
   "metadata": {},
   "source": [
    "### Notes:\n",
    "- tax_value:area = .50\n",
    "- tax_value:bathrooms = .39\n",
    "- tax_value:year_built = .25\n",
    "- tax_value:bedrooms = .22\n",
    "- area:bathrooms = .77\n",
    "- area:bedrooms = .61\n",
    "- area:year_built = .49\n",
    "- bathroom:bedrooms = .58\n",
    "- bathroom:year_built = .51\n",
    "### Largest Correlations to Value is Area. Area to Bathrooms and Bedrooms.\n",
    "\n",
    "### Show correlation between year_built and area with tax_value"
   ]
  },
  {
   "cell_type": "code",
   "execution_count": null,
   "id": "1d67b0cc",
   "metadata": {},
   "outputs": [],
   "source": [
    "# Shows that value increases with area & year_built\n",
    "plt.figure(figsize=(10,10))\n",
    "sns.relplot(x='year_built', y='area', data=train,  hue='tax_value', kind='scatter')"
   ]
  },
  {
   "cell_type": "markdown",
   "id": "2032404a",
   "metadata": {},
   "source": [
    "### Notes:\n",
    "- Show tax_value increases with area increase but year_built has little impact\n",
    "\n",
    "### Show correlation between tax_value and area with bathrooms"
   ]
  },
  {
   "cell_type": "code",
   "execution_count": null,
   "id": "8fedb2b0",
   "metadata": {},
   "outputs": [],
   "source": [
    "#shows that increasd area tends to have increases bathrooms. Slight correlation to increased value.\n",
    "plt.figure(figsize=(10,10))\n",
    "sns.relplot(x='area', y='tax_value', data=train, hue='bathrooms', kind='scatter')"
   ]
  },
  {
   "cell_type": "markdown",
   "id": "55dca9b1",
   "metadata": {},
   "source": [
    "### Notes:\n",
    "- Shows that increased area has correlatioin with increased  bathroms but little impact to price\n",
    "\n",
    "### Show correlation between area and tax_value with bedrooms"
   ]
  },
  {
   "cell_type": "code",
   "execution_count": null,
   "id": "5c92681a",
   "metadata": {},
   "outputs": [],
   "source": [
    "# Shows that bedrooms does not associate to value. Mostly to area.\n",
    "plt.figure(figsize=(10,10))\n",
    "sns.relplot(x='area', y='tax_value', data=train, hue='bedrooms', kind='scatter')"
   ]
  },
  {
   "cell_type": "markdown",
   "id": "ebc2b278",
   "metadata": {},
   "source": [
    "### Notes:\n",
    "- Show that bedrooms have slight correlatoin to area but not as much as bathroom. And little impact to value\n",
    "\n",
    "### Show correlation between year_built and tax_value with bathrooms"
   ]
  },
  {
   "cell_type": "code",
   "execution_count": null,
   "id": "e9c93076",
   "metadata": {},
   "outputs": [],
   "source": [
    "# plt.figure(figsize=(10,10))\n",
    "# sns.relplot(x='year_built', y='tax_value', data=train, hue='bathrooms', kind='scatter')"
   ]
  },
  {
   "cell_type": "markdown",
   "id": "8858267c",
   "metadata": {},
   "source": [
    "### Notes:\n",
    "- Show later years have more bathrooms which also have higher tax_value\n",
    "\n",
    "### Show correlation between year_built and tax_value with bedrooms"
   ]
  },
  {
   "cell_type": "code",
   "execution_count": null,
   "id": "43e054a8",
   "metadata": {},
   "outputs": [],
   "source": [
    "# # Shows that later years have more bedrooms but seem to impact value\n",
    "# plt.figure(figsize=(10,20))\n",
    "# sns.relplot(x='year_built', y='tax_value', data=train, hue='bedrooms', kind='scatter')\n",
    "# plt.show()"
   ]
  },
  {
   "cell_type": "markdown",
   "id": "85648786",
   "metadata": {},
   "source": [
    "### Notes:\n",
    "- Slight correlation with inceasd bedrooms and new homes which increases value. Most likely because increased bedrooms means increased area.\n",
    "\n",
    "### Show correlation between year_built and value with area"
   ]
  },
  {
   "cell_type": "code",
   "execution_count": null,
   "id": "12a71038",
   "metadata": {},
   "outputs": [],
   "source": [
    "# Shows increased area has  year increased and more high areas have high value\n",
    "# plt.figure(figsize=(10,20))\n",
    "# sns.relplot(x='year_built', y='tax_value', data=train, hue='area', kind='scatter')\n",
    "# plt.show()"
   ]
  },
  {
   "cell_type": "markdown",
   "id": "92f43d41",
   "metadata": {},
   "source": [
    "### Notes:\n",
    "- Shows increased area are newer homes and have high value\n",
    "\n",
    "### Show correlation between year_built and value with fips"
   ]
  },
  {
   "cell_type": "code",
   "execution_count": null,
   "id": "e8df87e0",
   "metadata": {},
   "outputs": [],
   "source": [
    "# shows that 6037 has majority of properties, 6059 has more high value properties\n",
    "# plt.figure(figsize=(15,5))\n",
    "# sns.relplot(x='year_built', y='tax_value', data=train, hue='fips', kind='scatter')\n",
    "# plt.show()"
   ]
  },
  {
   "cell_type": "markdown",
   "id": "1c6100b8",
   "metadata": {},
   "source": [
    "### Notes:\n",
    "- shows that 6037 has majority of properties\n",
    "- show that 6059 abd 6111 has newer homes\n",
    "\n",
    "### Show correlation between area and value with fips"
   ]
  },
  {
   "cell_type": "code",
   "execution_count": null,
   "id": "04c59afb",
   "metadata": {},
   "outputs": [],
   "source": [
    "# compare area vs value by fips\n",
    "# plt.figure(figsize=(15,5))\n",
    "# sns.relplot(x='area', y='tax_value', data=train, hue='fips', kind='scatter')\n",
    "# plt.show()"
   ]
  },
  {
   "cell_type": "markdown",
   "id": "c16ed52e",
   "metadata": {},
   "source": [
    "### Notes:\n",
    "- Shows area and value correlate across fips\n",
    "\n",
    "### Show Bar Plot for value vs area cat by fips"
   ]
  },
  {
   "cell_type": "code",
   "execution_count": null,
   "id": "ecc3085c",
   "metadata": {},
   "outputs": [],
   "source": [
    "# Bar plot for value vs area categoriezed by fips.\n",
    "# plt.figure(figsize=(15,5))\n",
    "# sns.barplot(data=train, y='tax_value', x='area')\n",
    "# plt.show()"
   ]
  },
  {
   "cell_type": "markdown",
   "id": "2a7ded11",
   "metadata": {},
   "source": [
    "### Note:\n",
    "- Show nothing new. value increases with area.\n",
    "\n",
    "### Show Strip Plot"
   ]
  },
  {
   "cell_type": "code",
   "execution_count": null,
   "id": "1ed2a1bb",
   "metadata": {},
   "outputs": [],
   "source": [
    "# sns.stripplot(x='bedrooms', y='tax_value', data=train)"
   ]
  },
  {
   "cell_type": "markdown",
   "id": "ea95b92f",
   "metadata": {},
   "source": [
    "### Note:\n",
    "- Stip Plot shows nothging readable\n",
    "\n",
    "## Summarize Exploration\n",
    "- We have 47,500 houses across three California counites of (Los Angeles, Ventura, and Orange)\n",
    "- Best Three drivers are Area, Bathrooms, and Bedrooms in that order\n",
    "- Los Angels County has a .2% higher tax rate than the other counties. It also had significantly more houses with a value distribution that peaks between 100-300K.\n",
    "- Ventura and Orange Counties have a lower tax rate and with significantly less houses that have a value distribution that peak between 300-500K.\n",
    "\n",
    "## Pre-Processing (Prep Data for Modeling)"
   ]
  },
  {
   "cell_type": "markdown",
   "id": "9e1ab6f1",
   "metadata": {},
   "source": [
    "### Drop Unusable and Unneeded Columns for Modeling"
   ]
  },
  {
   "cell_type": "code",
   "execution_count": null,
   "id": "4b8dc409",
   "metadata": {},
   "outputs": [],
   "source": [
    "train = train.drop(columns=['tax_amount'])\n",
    "validate = validate.drop(columns=['tax_amount'])\n",
    "test = test.drop(columns=['tax_amount'])\n",
    "train.head()"
   ]
  },
  {
   "cell_type": "markdown",
   "id": "4bc88562",
   "metadata": {},
   "source": [
    "### Note:\n",
    "- Dropped tax_amount since it wil be data leakage during modeling\n",
    "\n",
    "### Create y_train and X_train sets"
   ]
  },
  {
   "cell_type": "code",
   "execution_count": null,
   "id": "49578e9c",
   "metadata": {},
   "outputs": [],
   "source": [
    "# establish target column\n",
    "target = 'tax_value'\n",
    "\n",
    "# create X & y version of train, validate, test with y the target and X are the features. \n",
    "X_train = train.drop(columns=[target])\n",
    "y_train = train[target]\n",
    "\n",
    "X_validate = validate.drop(columns=[target])\n",
    "y_validate = validate[target]\n",
    "\n",
    "X_test = test.drop(columns=[target])\n",
    "y_test = test[target]"
   ]
  },
  {
   "cell_type": "code",
   "execution_count": null,
   "id": "ff43325f",
   "metadata": {},
   "outputs": [],
   "source": [
    "X_train.shape, X_validate.shape, X_test.shape, y_train.shape, y_validate.shape, y_test.shape"
   ]
  },
  {
   "cell_type": "markdown",
   "id": "913398ea",
   "metadata": {},
   "source": [
    "### Scale"
   ]
  },
  {
   "cell_type": "code",
   "execution_count": null,
   "id": "44e2a92c",
   "metadata": {},
   "outputs": [],
   "source": [
    "# Create the scale container\n",
    "scaler = sklearn.preprocessing.MinMaxScaler()\n",
    "\n",
    "# Fit the scaler to the features\n",
    "scaler.fit(X_train)\n",
    "\n",
    "# create scaled X versions \n",
    "X_train_scaled = scaler.transform(X_train)\n",
    "X_validate_scaled = scaler.transform(X_validate)\n",
    "X_test_scaled = scaler.transform(X_test)\n",
    "\n",
    "# Convert numpy array to pandas dataframe for feature Engineering\n",
    "X_train_scaled = pd.DataFrame(X_train_scaled, index=X_train.index, columns=X_train.columns.to_list())\n",
    "X_validate_scaled = pd.DataFrame(X_validate_scaled, index=X_validate.index, columns=X_validate.columns.to_list())\n",
    "X_test_scaled = pd.DataFrame(X_test_scaled, index=X_test.index, columns=X_test.columns.to_list())"
   ]
  },
  {
   "cell_type": "markdown",
   "id": "082a6559",
   "metadata": {},
   "source": [
    "### Feature Engineering\n",
    "\n",
    "### Use Select K Best to find 3 Best Features\n"
   ]
  },
  {
   "cell_type": "code",
   "execution_count": null,
   "id": "9e89235d",
   "metadata": {},
   "outputs": [],
   "source": [
    "from sklearn.feature_selection import SelectKBest, f_regression\n",
    "\n",
    "# Use f_regression stats test each column to find best 3 features\n",
    "f_selector = SelectKBest(f_regression, k=3)\n",
    "\n",
    "# find tthe best correlations with y\n",
    "f_selector.fit(X_train_scaled, y_train)\n",
    "\n",
    "# Creaet boolean mask of the selected columns. \n",
    "feature_mask = f_selector.get_support()\n",
    "\n",
    "# get list of top K features. \n",
    "f_feature = X_train_scaled.iloc[:,feature_mask].columns.tolist()\n",
    "\n",
    "f_feature"
   ]
  },
  {
   "cell_type": "markdown",
   "id": "bd955aec",
   "metadata": {},
   "source": [
    "### Note:\n",
    "- Select K Best selected area, year_built, and bathrooms.\n",
    "\n",
    "### Use Recursive Feature Elemination to select 3 best features"
   ]
  },
  {
   "cell_type": "code",
   "execution_count": null,
   "id": "60a95c15",
   "metadata": {},
   "outputs": [],
   "source": [
    "from sklearn.linear_model import LinearRegression\n",
    "from sklearn.feature_selection import RFE\n",
    "\n",
    "# create the ML algorithm container\n",
    "lm = LinearRegression()\n",
    "\n",
    "# create the rfe container with the the number of features I want. \n",
    "rfe = RFE(lm, n_features_to_select=3)\n",
    "\n",
    "# fit RFE to the data\n",
    "rfe.fit(X_train_scaled,y_train)  \n",
    "\n",
    "# get the mask of the selected columns\n",
    "feature_mask = rfe.support_\n",
    "\n",
    "# get list of the column names. \n",
    "rfe_feature = X_train_scaled.iloc[:,feature_mask].columns.tolist()\n",
    "\n",
    "rfe_feature"
   ]
  },
  {
   "cell_type": "markdown",
   "id": "8dad55ab",
   "metadata": {},
   "source": [
    "### Notes:\n",
    "- RFE Select 3 Best Columsn: area, bedrooms, fips\n",
    "\n",
    "# <font color = 'red'>Modeling"
   ]
  },
  {
   "cell_type": "markdown",
   "id": "84199129",
   "metadata": {},
   "source": [
    "## Create Baseline & Evaluate with RMSE"
   ]
  },
  {
   "cell_type": "code",
   "execution_count": null,
   "id": "0582fb28",
   "metadata": {},
   "outputs": [],
   "source": [
    "# We need y_train and y_validate to be dataframes to append the new columns with predicted values. \n",
    "y_train = pd.DataFrame(y_train)\n",
    "y_validate = pd.DataFrame(y_validate)\n",
    "y_train.head()"
   ]
  },
  {
   "cell_type": "code",
   "execution_count": null,
   "id": "0ad50c70",
   "metadata": {},
   "outputs": [],
   "source": [
    "# Add target mean column as baseline check\n",
    "y_train['mean_pred'] = y_train.tax_value.mean()\n",
    "y_validate['mean_pred'] = y_validate.tax_value.mean()\n",
    "\n",
    "# add target median column as baseline check\n",
    "y_train['median_pred'] = y_train.tax_value.median()\n",
    "y_validate['median_pred'] = y_validate.tax_value.median()"
   ]
  },
  {
   "cell_type": "code",
   "execution_count": null,
   "id": "0b678171",
   "metadata": {},
   "outputs": [],
   "source": [
    "# Create Baseline RMSE of target mean\n",
    "rmse_train = mean_squared_error(y_train.tax_value, y_train.mean_pred) ** .5\n",
    "rmse_validate = mean_squared_error(y_validate.tax_value, y_validate.mean_pred) ** (0.5)"
   ]
  },
  {
   "cell_type": "code",
   "execution_count": null,
   "id": "2e024b77",
   "metadata": {},
   "outputs": [],
   "source": [
    "# Show RMSE Score for train and validate\n",
    "print(\"RMSE using Mean\\nTrain/In-Sample: \", round(rmse_train, 2), \n",
    "      \"\\nValidate/Out-of-Sample: \", round(rmse_validate, 2))"
   ]
  },
  {
   "cell_type": "code",
   "execution_count": null,
   "id": "172bb8d8",
   "metadata": {},
   "outputs": [],
   "source": [
    "# Create Baseline RMSE of target median\n",
    "rmse_train = mean_squared_error(y_train.tax_value, y_train.median_pred) ** .5\n",
    "rmse_validate = mean_squared_error(y_validate.tax_value, y_validate.median_pred) ** (0.5)"
   ]
  },
  {
   "cell_type": "code",
   "execution_count": null,
   "id": "fe4638c9",
   "metadata": {},
   "outputs": [],
   "source": [
    "# Show RMSE Score for train and validate\n",
    "print(\"RMSE using Median\\nTrain/In-Sample: \", round(rmse_train, 2), \n",
    "      \"\\nValidate/Out-of-Sample: \", round(rmse_validate, 2))"
   ]
  },
  {
   "cell_type": "markdown",
   "id": "0fb9c0d7",
   "metadata": {},
   "source": [
    "### Notes:\n",
    "- Mean Baseline RMSE (266K) is better than Median Baseline RMSE (270K)\n",
    "\n",
    "### Create Metric Holder"
   ]
  },
  {
   "cell_type": "code",
   "execution_count": null,
   "id": "c92f24a3",
   "metadata": {},
   "outputs": [],
   "source": [
    "metric_df = pd.DataFrame(data=[\n",
    "            {\n",
    "                'model': 'mean_baseline', \n",
    "                'RMSE_train': rmse_train,\n",
    "                'RMSE_validate': rmse_validate\n",
    "                }\n",
    "            ])"
   ]
  },
  {
   "cell_type": "code",
   "execution_count": null,
   "id": "332bcbd9",
   "metadata": {},
   "outputs": [],
   "source": [
    "metric_df"
   ]
  },
  {
   "cell_type": "markdown",
   "id": "5d55d87c",
   "metadata": {},
   "source": [
    "## Develop Models "
   ]
  },
  {
   "cell_type": "markdown",
   "id": "2bf3d272",
   "metadata": {},
   "source": [
    "### Create Model 1 - Linear Regression (OLS) "
   ]
  },
  {
   "cell_type": "code",
   "execution_count": null,
   "id": "7ca5cee6",
   "metadata": {},
   "outputs": [],
   "source": [
    "# create, fit, predict ols model\n",
    "ols = LinearRegression()\n",
    "ols.fit(X_train, y_train.tax_value)\n",
    "y_train['ols_pred'] = ols.predict(X_train)"
   ]
  },
  {
   "cell_type": "code",
   "execution_count": null,
   "id": "146622b3",
   "metadata": {},
   "outputs": [],
   "source": [
    "ols.coef_"
   ]
  },
  {
   "cell_type": "code",
   "execution_count": null,
   "id": "47b8833f",
   "metadata": {},
   "outputs": [],
   "source": [
    "# create rmse\n",
    "rmse_train = mean_squared_error(y_train.tax_value, y_train.ols_pred) ** (1/2)\n",
    "\n",
    "# predict validate\n",
    "y_validate['ols_pred'] = ols.predict(X_validate)\n",
    "\n",
    "# evaluate rmse of train and validate\n",
    "rmse_validate = mean_squared_error(y_validate.tax_value, y_validate.ols_pred) ** (1/2)\n",
    "\n",
    "print(\"RMSE for OLS using LinearRegression\\nTraining/In-Sample: \", rmse_train, \n",
    "      \"\\nValidation/Out-of-Sample: \", rmse_validate)"
   ]
  },
  {
   "cell_type": "code",
   "execution_count": null,
   "id": "4770045b",
   "metadata": {},
   "outputs": [],
   "source": [
    "# add to eval to metric holder\n",
    "metric_df = metric_df.append({\n",
    "    'model': 'ols_egressor', \n",
    "    'RMSE_train': rmse_train,\n",
    "    'RMSE_validate': rmse_validate,\n",
    "    }, ignore_index=True)"
   ]
  },
  {
   "cell_type": "code",
   "execution_count": null,
   "id": "363a6ef7",
   "metadata": {},
   "outputs": [],
   "source": [
    "metric_df"
   ]
  },
  {
   "cell_type": "markdown",
   "id": "34c16373",
   "metadata": {},
   "source": [
    "### Notes:\n",
    "- RMSE of OLS is better than baseline by 40K\n",
    "\n",
    "### Create Model 2: Lassolars with Alpha = .01"
   ]
  },
  {
   "cell_type": "code",
   "execution_count": null,
   "id": "cd65927c",
   "metadata": {},
   "outputs": [],
   "source": [
    "# create object of model\n",
    "lars = LassoLars(alpha=0.01)\n",
    "\n",
    "# fit object to train data. Specify y_train column since it converted to a dataframe\n",
    "lars.fit(X_train, y_train.tax_value)\n",
    "\n",
    "# predict on train\n",
    "y_train['lars_pred'] = lars.predict(X_train)\n",
    "\n",
    "# create rmse\n",
    "rmse_train = mean_squared_error(y_train.tax_value, y_train.lars_pred) ** (1/2)\n",
    "\n",
    "# predict validate\n",
    "y_validate['lars_pred'] = lars.predict(X_validate)\n",
    "\n",
    "# create rmse\n",
    "rmse_validate = mean_squared_error(y_validate.tax_value, y_validate.lars_pred) ** (1/2)\n",
    "\n",
    "print(\"RMSE for Lasso + Lars\\nTraining/In-Sample: \", rmse_train, \n",
    "      \"\\nValidation/Out-of-Sample: \", rmse_validate,\n",
    "     \"\\nDifference: \", rmse_validate - rmse_train)"
   ]
  },
  {
   "cell_type": "code",
   "execution_count": null,
   "id": "7c56e77d",
   "metadata": {},
   "outputs": [],
   "source": [
    "lars.coef_"
   ]
  },
  {
   "cell_type": "code",
   "execution_count": null,
   "id": "01262ecc",
   "metadata": {},
   "outputs": [],
   "source": [
    "metric_df = metric_df.append({\n",
    "    'model': 'lasso_alpha_.01', \n",
    "    'RMSE_train': rmse_train,\n",
    "    'RMSE_validate': rmse_validate,\n",
    "    }, ignore_index=True)"
   ]
  },
  {
   "cell_type": "code",
   "execution_count": null,
   "id": "fda7d3bd",
   "metadata": {},
   "outputs": [],
   "source": [
    "metric_df"
   ]
  },
  {
   "cell_type": "markdown",
   "id": "d2734d64",
   "metadata": {},
   "source": [
    "### Notes:\n",
    "- Lassolars RMSE is the same as OLS\n",
    "\n",
    "### Create Model 3: TweedieRegressor (GLM) General Linear Model with Power  = 1 (Poisson) and Alpha=.01"
   ]
  },
  {
   "cell_type": "code",
   "execution_count": null,
   "id": "b1fbda4e",
   "metadata": {},
   "outputs": [],
   "source": [
    "# create the model object\n",
    "glm = TweedieRegressor(power=1, alpha=.01)\n",
    "\n",
    "\n",
    "# fit the model train data. Specify y_train columns since it was converted to dataframe \n",
    "glm.fit(X_train, y_train.tax_value)\n",
    "\n",
    "# predict train\n",
    "y_train['glm_pred'] = glm.predict(X_train)\n",
    "\n",
    "# create rmse\n",
    "rmse_train = mean_squared_error(y_train.tax_value, y_train.glm_pred) ** (1/2)\n",
    "\n",
    "# predict validate\n",
    "y_validate['glm_pred'] = glm.predict(X_validate)\n",
    "\n",
    "# evaluate train and validate rmse\n",
    "rmse_validate = mean_squared_error(y_validate.tax_value, y_validate.glm_pred) ** (1/2)\n",
    "\n",
    "print(\"RMSE for GLM using Tweedie, power=1 & alpha=.01\\nTraining/In-Sample: \", rmse_train, \n",
    "      \"\\nValidation/Out-of-Sample: \", rmse_validate)"
   ]
  },
  {
   "cell_type": "code",
   "execution_count": null,
   "id": "0e88db5e",
   "metadata": {},
   "outputs": [],
   "source": [
    "# added to metric holder\n",
    "metric_df = metric_df.append({\n",
    "    'model': 'glm_poisson_.01', \n",
    "    'RMSE_train': rmse_train,\n",
    "    'RMSE_validate': rmse_validate,\n",
    "    }, ignore_index=True)"
   ]
  },
  {
   "cell_type": "code",
   "execution_count": null,
   "id": "8278c560",
   "metadata": {},
   "outputs": [],
   "source": [
    "metric_df"
   ]
  },
  {
   "cell_type": "markdown",
   "id": "98d9cceb",
   "metadata": {},
   "source": [
    "### Notes:\n",
    "- glm rmse is worse than ols and lassolars\n",
    "\n",
    "### Create Model 4 - Polynomial Regression"
   ]
  },
  {
   "cell_type": "code",
   "execution_count": null,
   "id": "298a990b",
   "metadata": {},
   "outputs": [],
   "source": [
    "# create polynomial features\n",
    "pf = PolynomialFeatures(degree=2)\n",
    "\n",
    "# fit and transform X_train_scaled\n",
    "X_train_degree2 = pf.fit_transform(X_train)\n",
    "\n",
    "# transform X_validate_scaled & X_test_scaled to new sets\n",
    "X_validate_degree2 = pf.transform(X_validate)\n",
    "X_test_degree2 =  pf.transform(X_test)"
   ]
  },
  {
   "cell_type": "code",
   "execution_count": null,
   "id": "1ccc7b9f",
   "metadata": {},
   "outputs": [],
   "source": [
    "# create the model object\n",
    "lm2 = LinearRegression()\n",
    "\n",
    "# fit the model train data. Specify y_train columns since it was converted to dataframe  \n",
    "lm2.fit(X_train_degree2, y_train.tax_value)\n",
    "\n",
    "# predict train\n",
    "y_train['lm2_pred'] = lm2.predict(X_train_degree2)\n",
    "\n",
    "# create rmse\n",
    "rmse_train = mean_squared_error(y_train.tax_value, y_train.lm2_pred) ** (1/2)\n",
    "\n",
    "# predict validate\n",
    "y_validate['lm2_pred'] = lm2.predict(X_validate_degree2)\n",
    "\n",
    "# evaluate rmse\n",
    "rmse_validate = mean_squared_error(y_validate.tax_value, y_validate.lm2_pred) ** 0.5\n",
    "\n",
    "print(\"RMSE for Polynomial Model, degrees=2\\nTraining/In-Sample: \", rmse_train, \n",
    "      \"\\nValidation/Out-of-Sample: \", rmse_validate)"
   ]
  },
  {
   "cell_type": "code",
   "execution_count": null,
   "id": "c733d016",
   "metadata": {},
   "outputs": [],
   "source": [
    "# add to metric holder\n",
    "metric_df = metric_df.append({\n",
    "    'model': 'PolynomialRegressor', \n",
    "    'RMSE_train': rmse_train,\n",
    "    'RMSE_validate': rmse_validate,\n",
    "    }, ignore_index=True)"
   ]
  },
  {
   "cell_type": "code",
   "execution_count": null,
   "id": "3bdf8777",
   "metadata": {},
   "outputs": [],
   "source": [
    "metric_df"
   ]
  },
  {
   "cell_type": "markdown",
   "id": "2c4008ff",
   "metadata": {},
   "source": [
    "### Notes:\n",
    "- Polynomial Regression RMSE is better than ols and lassolars by 5K\n",
    "\n",
    "### Create Model 5 - New LassoLars with Alpha .0001\n",
    "- I changed alpha to .01 and RMSE didn't change"
   ]
  },
  {
   "cell_type": "code",
   "execution_count": null,
   "id": "1206aa8e",
   "metadata": {},
   "outputs": [],
   "source": [
    "# create object of model\n",
    "lars = LassoLars(alpha=0.0001)\n",
    "\n",
    "# fit object to train data. Specify y_train column since it converted to a dataframe\n",
    "lars.fit(X_train, y_train.tax_value)\n",
    "\n",
    "# predict on train\n",
    "y_train['lars_pred_.0001'] = lars.predict(X_train)\n",
    "\n",
    "# create rmse\n",
    "rmse_train = mean_squared_error(y_train.tax_value, y_train['lars_pred_.0001']) ** (1/2)\n",
    "\n",
    "# predict validate\n",
    "y_validate['lars_pred_.0001'] = lars.predict(X_validate)\n",
    "\n",
    "# create rmse\n",
    "rmse_validate = mean_squared_error(y_validate.tax_value, y_validate['lars_pred_.0001']) ** (1/2)\n",
    "\n",
    "print(\"RMSE for Lasso + Lars, alpha=.0001\\nTraining/In-Sample: \", rmse_train, \n",
    "      \"\\nValidation/Out-of-Sample: \", rmse_validate,\n",
    "     \"\\nDifference: \", rmse_validate - rmse_train)\n",
    "\n",
    "# add to metric holder\n",
    "metric_df = metric_df.append({\n",
    "    'model': 'LassoLars_.0001', \n",
    "    'RMSE_train': rmse_train,\n",
    "    'RMSE_validate': rmse_validate,\n",
    "    }, ignore_index=True)"
   ]
  },
  {
   "cell_type": "markdown",
   "id": "66abb50f",
   "metadata": {},
   "source": [
    "# Notes:\n",
    "- Still Around 230K\n",
    "\n",
    "### Create Model 6 - TweedieRegressor with Alpha = .0001 and Power = 1 (Poisson)"
   ]
  },
  {
   "cell_type": "code",
   "execution_count": null,
   "id": "de0c6f9e",
   "metadata": {},
   "outputs": [],
   "source": [
    "# create the model object\n",
    "glm = TweedieRegressor(power=1, alpha=.0001)\n",
    "\n",
    "\n",
    "# fit the model train data. Specify y_train columns since it was converted to dataframe \n",
    "glm.fit(X_train, y_train.tax_value)\n",
    "\n",
    "# predict train\n",
    "y_train['glm_pred_.0001'] = glm.predict(X_train)\n",
    "\n",
    "# create rmse\n",
    "rmse_train = mean_squared_error(y_train.tax_value, y_train['glm_pred_.0001']) ** (1/2)\n",
    "\n",
    "# predict validate\n",
    "y_validate['glm_pred_.0001'] = glm.predict(X_validate)\n",
    "\n",
    "# evaluate train and validate rmse\n",
    "rmse_validate = mean_squared_error(y_validate.tax_value, y_validate['glm_pred_.0001']) ** (1/2)\n",
    "\n",
    "print(\"RMSE for GLM using Tweedie, power=1 & alpha=.0001\\nTraining/In-Sample: \", rmse_train, \n",
    "      \"\\nValidation/Out-of-Sample: \", rmse_validate)\n",
    "\n",
    "# add to metric holder\n",
    "metric_df = metric_df.append({\n",
    "    'model': 'glm_poisson_.0001', \n",
    "    'RMSE_train': rmse_train,\n",
    "    'RMSE_validate': rmse_validate,\n",
    "    }, ignore_index=True)"
   ]
  },
  {
   "cell_type": "code",
   "execution_count": null,
   "id": "d1dfcf01",
   "metadata": {},
   "outputs": [],
   "source": [
    "metric_df"
   ]
  },
  {
   "cell_type": "markdown",
   "id": "0c4e85c1",
   "metadata": {},
   "source": [
    "### Notes:\n",
    "- Polynomial Regression performs the bes\n",
    "- I experimented with reducing features: removed fips, then removed year_built with only change to Polynomial Regressor bringing it closer to others\n",
    "- GLM scored the worst at 266K, cose to baseline 270K, DO NOT USE\n",
    "- OLS and LassoLars scored around 230K\n",
    "- PolynomialRegressor scored average 225K, better by 5K"
   ]
  },
  {
   "cell_type": "markdown",
   "id": "1e913a75",
   "metadata": {},
   "source": [
    "## <font color = 'red' > Evaluate\n",
    "    \n",
    "### Plotting Actual vs Predicted Values"
   ]
  },
  {
   "cell_type": "code",
   "execution_count": null,
   "id": "c77ccc2d",
   "metadata": {},
   "outputs": [],
   "source": [
    "# y_validate.head()\n",
    "plt.figure(figsize=(16,8))\n",
    "plt.plot(y_validate.tax_value, y_validate.mean_pred, alpha=.5, color=\"gray\", label='_nolegend_')\n",
    "plt.annotate(\"Baseline: Predict Using Mean\", (16, 9.5))\n",
    "plt.plot(y_validate.tax_value, y_validate.tax_value, alpha=.5, color=\"blue\", label='_nolegend_')\n",
    "plt.annotate(\"The Ideal Line: Predicted = Actual\", (.5, 3.5), rotation=20)\n",
    "\n",
    "plt.scatter(y_validate.tax_value, y_validate.ols_pred, \n",
    "            alpha=.5, color=\"red\", s=100, label=\"Model: LinearRegression\")\n",
    "plt.scatter(y_validate.tax_value, y_validate.glm_pred, \n",
    "            alpha=.5, color=\"yellow\", s=100, label=\"Model: TweedieRegressor\")\n",
    "plt.scatter(y_validate.tax_value, y_validate.lm2_pred, \n",
    "            alpha=.5, color=\"green\", s=100, label=\"Model 2nd degree Polynomial\")\n",
    "plt.legend()\n",
    "plt.xlabel(\"Actual Tax Value\")\n",
    "plt.ylabel(\"Predicted Tax Value\")\n",
    "plt.title(\"Where are predictions more extreme? More modest?\")\n",
    "# plt.annotate(\"The polynomial model appears to overreact to noise\", (2.0, -10))\n",
    "# plt.annotate(\"The OLS model (LinearRegression)\\n appears to be most consistent\", (15.5, 3))\n",
    "plt.show()"
   ]
  },
  {
   "cell_type": "markdown",
   "id": "e853e25e",
   "metadata": {},
   "source": [
    "### Notes:\n",
    "- ????\n",
    "\n",
    "### Residual Plots: Plotting the Errors in Predictions"
   ]
  },
  {
   "cell_type": "code",
   "execution_count": null,
   "id": "bbed9e9b",
   "metadata": {},
   "outputs": [],
   "source": [
    "# y_validate.head()\n",
    "plt.figure(figsize=(16,8))\n",
    "plt.axhline(label=\"No Error\")\n",
    "plt.scatter(y_validate.tax_value, y_validate.ols_pred - y_validate.tax_value , \n",
    "            alpha=.5, color=\"red\", s=100, label=\"Model: LinearRegression\")\n",
    "plt.scatter(y_validate.tax_value, y_validate.glm_pred - y_validate.tax_value, \n",
    "            alpha=.5, color=\"yellow\", s=100, label=\"Model: TweedieRegressor\")\n",
    "plt.scatter(y_validate.tax_value, y_validate.lm2_pred - y_validate.tax_value, \n",
    "            alpha=.5, color=\"green\", s=100, label=\"Model 2nd degree Polynomial\")\n",
    "plt.legend()\n",
    "plt.xlabel(\"Actual Tax Value\")\n",
    "plt.ylabel(\"Residual/Error: Predicted Tax Value - Actual Tax Value\")\n",
    "# plt.title(\"Do the size of errors change as the actual value changes?\")\n",
    "# plt.annotate(\"The polynomial model appears to overreact to noise\", (2.0, -10))\n",
    "# plt.annotate(\"The OLS model (LinearRegression)\\n appears to be most consistent\", (15.5, 3))\n",
    "plt.show()"
   ]
  },
  {
   "cell_type": "markdown",
   "id": "e47d7681",
   "metadata": {},
   "source": [
    "### Notes:\n",
    "- ???\n",
    "\n",
    "### Histograms of Actuals vs Predicted Values"
   ]
  },
  {
   "cell_type": "code",
   "execution_count": null,
   "id": "f3510ce0",
   "metadata": {},
   "outputs": [],
   "source": [
    "# plot to visualize actual vs predicted. \n",
    "plt.figure(figsize=(16,8))\n",
    "plt.hist(y_validate.tax_value, color='blue', alpha=.5, label=\"Actual Final Grades\")\n",
    "plt.hist(y_validate.ols_pred, color='red', alpha=.5, label=\"Model: LinearRegression\")\n",
    "plt.hist(y_validate.glm_pred, color='yellow', alpha=.5, label=\"Model: TweedieRegressor\")\n",
    "plt.hist(y_validate.lm2_pred, color='green', alpha=.5, label=\"Model 2nd degree Polynomial\")\n",
    "plt.xlabel(\"Tax Values\")\n",
    "plt.ylabel(\"Number of Houses\")\n",
    "plt.title(\"Comparing the Distribution of Actual Tax Values to Distributions of Predicted Tax Values for the Top Models\")\n",
    "plt.legend()\n",
    "plt.show()"
   ]
  },
  {
   "cell_type": "markdown",
   "id": "2067f7ea",
   "metadata": {},
   "source": [
    "### Notes:\n",
    "- ????\n",
    "\n",
    "# <font color = 'red'> Conclusion"
   ]
  },
  {
   "cell_type": "markdown",
   "id": "68596f8b",
   "metadata": {},
   "source": [
    "## Summary\n",
    "- \n",
    "\n",
    "## Recommendations\n",
    "- ???\n",
    "\n",
    "## Conclusion\n",
    "- ???"
   ]
  },
  {
   "cell_type": "markdown",
   "id": "d9eb8c04",
   "metadata": {},
   "source": [
    "### Project Description\n",
    "\n",
    "- A model that predicts property tax assessed values of single family properties based on 2017 transactions.\n",
    "- Identify ways to make a better model for Zillow.\n",
    "- Create new features out of existing features.\n",
    "- Try non-linear regression model or try a model for each count\n",
    "\n",
    "Deliver:\n",
    "1. Github Repo\n",
    "    - README.md\n",
    "    - Final Report\n",
    "    - Working Notebooks\n",
    "    - Acquire and Prepare Modules\n",
    "    - Misc Artifacts\n",
    "1. Regression Model (Linear or Non-Linear)\n",
    "2. Final Notebook with Recommendation\n",
    "    - 4 Visuals, 2 with stats tests\n",
    "        - Data Context of Target Variable (Distribution of values)\n",
    "    - 3 Best Models (show steps/code to fit/eval/select)\n",
    "    - Visual of how best Model performed\n",
    "3. Working Notebook:\n",
    "    - Reproducible comments\n",
    "    - Exploration with at least two stats test during exploration\n",
    "5. Presentation\n",
    "    - Findings\n",
    "    - Methodologies\n",
    "    - Conclusions\n",
    "\n",
    "### Initial Questions\n",
    "\n",
    "- What are the transactions are in 2017?\n",
    "- What states and counties are the properties located in?\n",
    "- What is the tax rate per county or fips? (might have to combine columns to calcualate)\n",
    "- What is the distribution of tax rates for each county?\n",
    "- What is the distribution of taxes across fips?\n",
    "- What are the drivers of single family property values?\n",
    "- Why do some properties have a much higher value than others when they are located so close to each other?\n",
    "- Why are some properties valued so differently from others when they have nearly the same physical attributes but only differ in location? \n",
    "- Is having 1 bathroom worse than having 2 bedrooms?"
   ]
  },
  {
   "cell_type": "markdown",
   "id": "279afc77",
   "metadata": {},
   "source": [
    "## Live Presentation\n",
    "\n",
    "- intro (live)\n",
    "- audience & setting  (live)\n",
    "- content (live)\n",
    "- Verbal Conclusion (findings, next steps, recommendations)  (live) \n",
    "- time (live) "
   ]
  },
  {
   "cell_type": "markdown",
   "id": "f97f62b0",
   "metadata": {},
   "source": [
    "## Deliver Predictions\n",
    "- Deliver predictions (.csv) "
   ]
  }
 ],
 "metadata": {
  "kernelspec": {
   "display_name": "Python 3",
   "language": "python",
   "name": "python3"
  },
  "language_info": {
   "codemirror_mode": {
    "name": "ipython",
    "version": 3
   },
   "file_extension": ".py",
   "mimetype": "text/x-python",
   "name": "python",
   "nbconvert_exporter": "python",
   "pygments_lexer": "ipython3",
   "version": "3.8.8"
  }
 },
 "nbformat": 4,
 "nbformat_minor": 5
}
